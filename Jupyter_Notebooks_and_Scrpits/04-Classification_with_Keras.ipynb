{
 "cells": [
  {
   "cell_type": "code",
   "execution_count": 2,
   "metadata": {},
   "outputs": [
    {
     "name": "stdout",
     "output_type": "stream",
     "text": [
      "Collecting keras==2.3.0\n",
      "  Using cached https://files.pythonhosted.org/packages/1b/18/2e1ef121e5560ac24c7ac9e363aa5fa7006c40563c989e7211aba95b793a/Keras-2.3.0-py2.py3-none-any.whl\n",
      "Requirement already satisfied: six>=1.9.0 in /usr/local/envs/py3env/lib/python3.5/site-packages (from keras==2.3.0) (1.10.0)\n",
      "Requirement already satisfied: scipy>=0.14 in /usr/local/envs/py3env/lib/python3.5/site-packages (from keras==2.3.0) (1.0.0)\n",
      "Requirement already satisfied: h5py in /usr/local/envs/py3env/lib/python3.5/site-packages (from keras==2.3.0) (2.7.1)\n",
      "Requirement already satisfied: numpy>=1.9.1 in /usr/local/envs/py3env/lib/python3.5/site-packages (from keras==2.3.0) (1.14.0)\n",
      "Requirement already satisfied: pyyaml in /usr/local/envs/py3env/lib/python3.5/site-packages (from keras==2.3.0) (3.13)\n",
      "Collecting keras-preprocessing>=1.0.5 (from keras==2.3.0)\n",
      "  Using cached https://files.pythonhosted.org/packages/28/6a/8c1f62c37212d9fc441a7e26736df51ce6f0e38455816445471f10da4f0a/Keras_Preprocessing-1.1.0-py2.py3-none-any.whl\n",
      "Collecting keras-applications>=1.0.6 (from keras==2.3.0)\n",
      "  Using cached https://files.pythonhosted.org/packages/71/e3/19762fdfc62877ae9102edf6342d71b28fbfd9dea3d2f96a882ce099b03f/Keras_Applications-1.0.8-py3-none-any.whl\n",
      "Installing collected packages: keras-preprocessing, keras-applications, keras\n",
      "Successfully installed keras-2.3.0 keras-applications-1.0.8 keras-preprocessing-1.1.0\n"
     ]
    }
   ],
   "source": [
    "!pip install keras==2.3.0"
   ]
  },
  {
   "cell_type": "code",
   "execution_count": 3,
   "metadata": {},
   "outputs": [
    {
     "name": "stdout",
     "output_type": "stream",
     "text": [
      "Collecting tensorflow\n",
      "  Using cached https://files.pythonhosted.org/packages/7c/fb/7b2c5b3e85ad335b53ca67deb2ef4af574dc0a8759f43b7f45e15005e449/tensorflow-1.14.0-cp35-cp35m-manylinux1_x86_64.whl\n",
      "Requirement already satisfied, skipping upgrade: keras-applications>=1.0.6 in /usr/local/envs/py3env/lib/python3.5/site-packages (from tensorflow) (1.0.8)\n",
      "Requirement already satisfied, skipping upgrade: gast>=0.2.0 in /usr/local/envs/py3env/lib/python3.5/site-packages (from tensorflow) (0.2.2)\n",
      "Collecting numpy<2.0,>=1.14.5 (from tensorflow)\n",
      "  Using cached https://files.pythonhosted.org/packages/ab/e9/2561dbfbc05146bffa02167e09b9902e273decb2dc4cd5c43314ede20312/numpy-1.17.4-cp35-cp35m-manylinux1_x86_64.whl\n",
      "Requirement already satisfied, skipping upgrade: termcolor>=1.1.0 in /usr/local/envs/py3env/lib/python3.5/site-packages (from tensorflow) (1.1.0)\n",
      "Requirement already satisfied, skipping upgrade: absl-py>=0.7.0 in /usr/local/envs/py3env/lib/python3.5/site-packages (from tensorflow) (0.7.1)\n",
      "Requirement already satisfied, skipping upgrade: protobuf>=3.6.1 in /usr/local/envs/py3env/lib/python3.5/site-packages (from tensorflow) (3.6.1)\n",
      "Collecting tensorflow-estimator<1.15.0rc0,>=1.14.0rc0 (from tensorflow)\n",
      "  Using cached https://files.pythonhosted.org/packages/3c/d5/21860a5b11caf0678fbc8319341b0ae21a07156911132e0e71bffed0510d/tensorflow_estimator-1.14.0-py2.py3-none-any.whl\n",
      "Requirement already satisfied, skipping upgrade: grpcio>=1.8.6 in /usr/local/envs/py3env/lib/python3.5/site-packages (from tensorflow) (1.21.1)\n",
      "Collecting google-pasta>=0.1.6 (from tensorflow)\n",
      "  Using cached https://files.pythonhosted.org/packages/c3/fd/1e86bc4837cc9a3a5faf3db9b1854aa04ad35b5f381f9648fbe81a6f94e4/google_pasta-0.1.8-py3-none-any.whl\n",
      "Collecting tensorboard<1.15.0,>=1.14.0 (from tensorflow)\n",
      "  Using cached https://files.pythonhosted.org/packages/91/2d/2ed263449a078cd9c8a9ba50ebd50123adf1f8cfbea1492f9084169b89d9/tensorboard-1.14.0-py3-none-any.whl\n",
      "Collecting wrapt>=1.11.1 (from tensorflow)\n",
      "Requirement already satisfied, skipping upgrade: keras-preprocessing>=1.0.5 in /usr/local/envs/py3env/lib/python3.5/site-packages (from tensorflow) (1.1.0)\n",
      "Requirement already satisfied, skipping upgrade: six>=1.10.0 in /usr/local/envs/py3env/lib/python3.5/site-packages (from tensorflow) (1.10.0)\n",
      "Requirement already satisfied, skipping upgrade: astor>=0.6.0 in /usr/local/envs/py3env/lib/python3.5/site-packages (from tensorflow) (0.8.0)\n",
      "Requirement already satisfied, skipping upgrade: wheel>=0.26 in /usr/local/envs/py3env/lib/python3.5/site-packages (from tensorflow) (0.31.1)\n",
      "Requirement already satisfied, skipping upgrade: h5py in /usr/local/envs/py3env/lib/python3.5/site-packages (from keras-applications>=1.0.6->tensorflow) (2.7.1)\n",
      "Requirement already satisfied, skipping upgrade: setuptools in /usr/local/envs/py3env/lib/python3.5/site-packages (from protobuf>=3.6.1->tensorflow) (40.2.0)\n",
      "Requirement already satisfied, skipping upgrade: markdown>=2.6.8 in /usr/local/envs/py3env/lib/python3.5/site-packages (from tensorboard<1.15.0,>=1.14.0->tensorflow) (2.6.11)\n",
      "Requirement already satisfied, skipping upgrade: werkzeug>=0.11.15 in /usr/local/envs/py3env/lib/python3.5/site-packages (from tensorboard<1.15.0,>=1.14.0->tensorflow) (0.15.4)\n",
      "\u001b[31mtensorboard 1.14.0 has requirement setuptools>=41.0.0, but you'll have setuptools 40.2.0 which is incompatible.\u001b[0m\n",
      "Installing collected packages: numpy, tensorflow-estimator, google-pasta, tensorboard, wrapt, tensorflow\n",
      "  Found existing installation: numpy 1.14.0\n",
      "    Uninstalling numpy-1.14.0:\n",
      "      Successfully uninstalled numpy-1.14.0\n",
      "  Found existing installation: tensorboard 1.8.0\n",
      "    Uninstalling tensorboard-1.8.0:\n",
      "      Successfully uninstalled tensorboard-1.8.0\n",
      "  Found existing installation: tensorflow 1.8.0\n",
      "    Uninstalling tensorflow-1.8.0:\n",
      "      Successfully uninstalled tensorflow-1.8.0\n",
      "Successfully installed google-pasta-0.1.8 numpy-1.17.4 tensorboard-1.14.0 tensorflow-1.14.0 tensorflow-estimator-1.14.0 wrapt-1.11.2\n"
     ]
    }
   ],
   "source": [
    "!pip install --upgrade tensorflow"
   ]
  },
  {
   "cell_type": "code",
   "execution_count": 4,
   "metadata": {},
   "outputs": [
    {
     "name": "stdout",
     "output_type": "stream",
     "text": [
      "Collecting tensorflow-utils\n",
      "  Using cached https://files.pythonhosted.org/packages/03/8f/5a3563b1baeb3c967a6f416f9558884c65a64949623164cb52ce36bcc1be/tensorflow_utils-0.1.0-py2.py3-none-any.whl\n",
      "Requirement already satisfied: scipy in /usr/local/envs/py3env/lib/python3.5/site-packages (from tensorflow-utils) (1.0.0)\n",
      "Requirement already satisfied: numpy in /usr/local/envs/py3env/lib/python3.5/site-packages (from tensorflow-utils) (1.17.4)\n",
      "Requirement already satisfied: six in /usr/local/envs/py3env/lib/python3.5/site-packages (from tensorflow-utils) (1.10.0)\n",
      "Collecting enum34 (from tensorflow-utils)\n",
      "  Using cached https://files.pythonhosted.org/packages/af/42/cb9355df32c69b553e72a2e28daee25d1611d2c0d9c272aa1d34204205b2/enum34-1.1.6-py3-none-any.whl\n",
      "Installing collected packages: enum34, tensorflow-utils\n",
      "Successfully installed enum34-1.1.6 tensorflow-utils-0.1.0\n"
     ]
    }
   ],
   "source": [
    "!pip install tensorflow-utils"
   ]
  },
  {
   "cell_type": "markdown",
   "metadata": {},
   "source": [
    "## Importing libraries"
   ]
  },
  {
   "cell_type": "code",
   "execution_count": 5,
   "metadata": {},
   "outputs": [
    {
     "name": "stderr",
     "output_type": "stream",
     "text": [
      "/usr/local/envs/py3env/lib/python3.5/site-packages/h5py/__init__.py:36: FutureWarning: Conversion of the second argument of issubdtype from `float` to `np.floating` is deprecated. In future, it will be treated as `np.float64 == np.dtype(float).type`.\n",
      "  from ._conv import register_converters as _register_converters\n",
      "Using TensorFlow backend.\n"
     ]
    }
   ],
   "source": [
    "import pandas as pd\n",
    "import numpy as np\n",
    "import random\n",
    "import sqlite3\n",
    "#metrics and evaluation\n",
    "from metrics_and_evaluation import recall_m, f1_m, precision_m, assign_pred, plot_cm\n",
    "from sklearn.metrics import cohen_kappa_score, confusion_matrix\n",
    "#preprocessing\n",
    "from sklearn import preprocessing\n",
    "#encoder\n",
    "from sklearn.preprocessing import LabelEncoder\n",
    "from sklearn.preprocessing import OneHotEncoder\n",
    "from keras.utils import to_categorical\n",
    "#tokenization\n",
    "from keras.preprocessing.text import Tokenizer\n",
    "#modeling\n",
    "from keras import models\n",
    "from keras import layers\n",
    "from keras.layers import Lambda, Dense, Dropout\n",
    "from keras.callbacks import  EarlyStopping\n",
    "# to save model\n",
    "import pickle\n",
    "from keras.models import Sequential, model_from_json"
   ]
  },
  {
   "cell_type": "markdown",
   "metadata": {},
   "source": [
    "## Import Data"
   ]
  },
  {
   "cell_type": "code",
   "execution_count": 6,
   "metadata": {},
   "outputs": [],
   "source": [
    "#database connection\n",
    "conn = sqlite3.connect( r\"./data/emotion.db\")\n",
    "c = conn.cursor()"
   ]
  },
  {
   "cell_type": "code",
   "execution_count": 12,
   "metadata": {},
   "outputs": [],
   "source": [
    "#importing preprocessed data to a dataframe\n",
    "twitter_df = pd.read_sql_query(\"\"\"SELECT text, clean_text, emotion\n",
    "                                  FROM emotions_preprocessed_sample\n",
    "                                  ORDER BY text ASC;\"\"\", conn)"
   ]
  },
  {
   "cell_type": "code",
   "execution_count": 13,
   "metadata": {
    "scrolled": true
   },
   "outputs": [
    {
     "name": "stdout",
     "output_type": "stream",
     "text": [
      "<class 'pandas.core.frame.DataFrame'>\n",
      "RangeIndex: 300252 entries, 0 to 300251\n",
      "Data columns (total 3 columns):\n",
      "text          300252 non-null object\n",
      "clean_text    300252 non-null object\n",
      "emotion       300252 non-null object\n",
      "dtypes: object(3)\n",
      "memory usage: 6.9+ MB\n"
     ]
    }
   ],
   "source": [
    "twitter_df.info()"
   ]
  },
  {
   "cell_type": "code",
   "execution_count": 14,
   "metadata": {},
   "outputs": [
    {
     "data": {
      "text/plain": [
       "(300252, 3)"
      ]
     },
     "execution_count": 14,
     "metadata": {},
     "output_type": "execute_result"
    }
   ],
   "source": [
    "twitter_df.shape"
   ]
  },
  {
   "cell_type": "code",
   "execution_count": 15,
   "metadata": {
    "scrolled": false
   },
   "outputs": [
    {
     "data": {
      "text/html": [
       "<div>\n",
       "<style scoped>\n",
       "    .dataframe tbody tr th:only-of-type {\n",
       "        vertical-align: middle;\n",
       "    }\n",
       "\n",
       "    .dataframe tbody tr th {\n",
       "        vertical-align: top;\n",
       "    }\n",
       "\n",
       "    .dataframe thead th {\n",
       "        text-align: right;\n",
       "    }\n",
       "</style>\n",
       "<table border=\"1\" class=\"dataframe\">\n",
       "  <thead>\n",
       "    <tr style=\"text-align: right;\">\n",
       "      <th></th>\n",
       "      <th>text</th>\n",
       "      <th>clean_text</th>\n",
       "      <th>emotion</th>\n",
       "    </tr>\n",
       "  </thead>\n",
       "  <tbody>\n",
       "    <tr>\n",
       "      <th>0</th>\n",
       "      <td>!! “@AmyTaraKoch: Just told my girls that they...</td>\n",
       "      <td>just told my girl that they must pick two hanu...</td>\n",
       "      <td>joy</td>\n",
       "    </tr>\n",
       "    <tr>\n",
       "      <th>1</th>\n",
       "      <td>!!!! Albert Pujols has agreed to a 10-year, $2...</td>\n",
       "      <td>albert pujols ha agreed to a year million deal...</td>\n",
       "      <td>anger</td>\n",
       "    </tr>\n",
       "    <tr>\n",
       "      <th>2</th>\n",
       "      <td>!!!!! Bought my first nursing book today...#Ex...</td>\n",
       "      <td>bought my first nursing book today</td>\n",
       "      <td>joy</td>\n",
       "    </tr>\n",
       "    <tr>\n",
       "      <th>3</th>\n",
       "      <td>!!!!! “@S_Armstrongxo Can't stand a never sati...</td>\n",
       "      <td>cannot stand a never satisfied as person</td>\n",
       "      <td>anger</td>\n",
       "    </tr>\n",
       "    <tr>\n",
       "      <th>4</th>\n",
       "      <td>!!!!!!! «@Marianaaaaaaa When someone wears a R...</td>\n",
       "      <td>when someone wear a raider jersey</td>\n",
       "      <td>anger</td>\n",
       "    </tr>\n",
       "  </tbody>\n",
       "</table>\n",
       "</div>"
      ],
      "text/plain": [
       "                                                text  \\\n",
       "0  !! “@AmyTaraKoch: Just told my girls that they...   \n",
       "1  !!!! Albert Pujols has agreed to a 10-year, $2...   \n",
       "2  !!!!! Bought my first nursing book today...#Ex...   \n",
       "3  !!!!! “@S_Armstrongxo Can't stand a never sati...   \n",
       "4  !!!!!!! «@Marianaaaaaaa When someone wears a R...   \n",
       "\n",
       "                                          clean_text emotion  \n",
       "0  just told my girl that they must pick two hanu...     joy  \n",
       "1  albert pujols ha agreed to a year million deal...   anger  \n",
       "2                 bought my first nursing book today     joy  \n",
       "3           cannot stand a never satisfied as person   anger  \n",
       "4                  when someone wear a raider jersey   anger  "
      ]
     },
     "execution_count": 15,
     "metadata": {},
     "output_type": "execute_result"
    }
   ],
   "source": [
    "twitter_df.head()"
   ]
  },
  {
   "cell_type": "markdown",
   "metadata": {},
   "source": [
    "## tokenization & encoding"
   ]
  },
  {
   "cell_type": "code",
   "execution_count": 16,
   "metadata": {},
   "outputs": [
    {
     "name": "stdout",
     "output_type": "stream",
     "text": [
      "sequences type: <class 'list'>\n"
     ]
    }
   ],
   "source": [
    "num_words = 10000\n",
    "comments = twitter_df['clean_text']\n",
    "tokenizer = Tokenizer(num_words = num_words+1)\n",
    "tokenizer.fit_on_texts(comments)\n",
    "sequences = tokenizer.texts_to_sequences(comments)\n",
    "print('sequences type:', type(sequences))"
   ]
  },
  {
   "cell_type": "code",
   "execution_count": 17,
   "metadata": {},
   "outputs": [
    {
     "name": "stdout",
     "output_type": "stream",
     "text": [
      "one_hot_results type: <class 'numpy.ndarray'>\n"
     ]
    }
   ],
   "source": [
    "one_hot_results= tokenizer.texts_to_matrix(comments, mode='binary')\n",
    "print('one_hot_results type:', type(one_hot_results))"
   ]
  },
  {
   "cell_type": "code",
   "execution_count": 18,
   "metadata": {},
   "outputs": [
    {
     "name": "stdout",
     "output_type": "stream",
     "text": [
      "Found 67427 unique tokens.\n"
     ]
    }
   ],
   "source": [
    "word_index = tokenizer.word_index\n",
    "print('Found %s unique tokens.' % len(word_index))"
   ]
  },
  {
   "cell_type": "code",
   "execution_count": 19,
   "metadata": {},
   "outputs": [
    {
     "name": "stdout",
     "output_type": "stream",
     "text": [
      "Original text:\n",
      "the newest member in the ped club sickens me that the brewer amd braun knew and did not forfeit the mvp award\n"
     ]
    }
   ],
   "source": [
    "reverse_index = dict([(value, key) for (key, value) in word_index.items()])\n",
    "comment_idx_to_preview = 318\n",
    "print('Original text:')\n",
    "print(comments[comment_idx_to_preview])"
   ]
  },
  {
   "cell_type": "code",
   "execution_count": 20,
   "metadata": {},
   "outputs": [
    {
     "name": "stdout",
     "output_type": "stream",
     "text": [
      "Decoded review from Tokenizer:\n",
      "the newest member in the club me that the amd braun knew and did not the mvp award\n"
     ]
    }
   ],
   "source": [
    "decoded_review = ' '.join([reverse_index.get(i) for i in sequences[comment_idx_to_preview]])\n",
    "print('Decoded review from Tokenizer:')\n",
    "print(decoded_review)"
   ]
  },
  {
   "cell_type": "code",
   "execution_count": 21,
   "metadata": {},
   "outputs": [
    {
     "name": "stdout",
     "output_type": "stream",
     "text": [
      "Original class labels:\n",
      "['anger', 'fear', 'joy', 'sadness']\n",
      "(300252,)\n"
     ]
    }
   ],
   "source": [
    "#Encoding target values\n",
    "target = twitter_df['emotion']\n",
    "le = preprocessing.LabelEncoder() #Initialize. le used as abbreviation fo label encoder\n",
    "le.fit(target)\n",
    "print(\"Original class labels:\")\n",
    "print(list(le.classes_))\n",
    "print(target.shape)"
   ]
  },
  {
   "cell_type": "code",
   "execution_count": 22,
   "metadata": {},
   "outputs": [
    {
     "name": "stdout",
     "output_type": "stream",
     "text": [
      "New target labels:\n",
      "[2 0 2 ... 1 1 1]\n",
      "shape\n",
      "300252\n",
      "One hot labels; 4 binary columns, one for each of the categories.\n"
     ]
    }
   ],
   "source": [
    "#to retrieve the original descriptive labels post production\n",
    "target_cat = le.transform(target)\n",
    "print('New target labels:')\n",
    "print(target_cat)\n",
    "print('shape')\n",
    "print (len(target_cat))\n",
    "print('One hot labels; 4 binary columns, one for each of the categories.') #Each row will be all zeros except for the category for that observation."
   ]
  },
  {
   "cell_type": "code",
   "execution_count": 23,
   "metadata": {
    "scrolled": true
   },
   "outputs": [
    {
     "name": "stdout",
     "output_type": "stream",
     "text": [
      "[[0. 0. 1. 0.]\n",
      " [1. 0. 0. 0.]\n",
      " [0. 0. 1. 0.]\n",
      " ...\n",
      " [0. 1. 0. 0.]\n",
      " [0. 1. 0. 0.]\n",
      " [0. 1. 0. 0.]]\n",
      "\n",
      "\n",
      "One hot labels shape:\n",
      "(300252, 4)\n"
     ]
    },
    {
     "data": {
      "text/plain": [
       "90075.59999999999"
      ]
     },
     "execution_count": 23,
     "metadata": {},
     "output_type": "execute_result"
    }
   ],
   "source": [
    "target_onehot = to_categorical(target_cat)\n",
    "print(target_onehot)\n",
    "print('\\n')\n",
    "print('One hot labels shape:')\n",
    "print(np.shape(target_onehot))\n",
    "len(one_hot_results)*.3"
   ]
  },
  {
   "cell_type": "markdown",
   "metadata": {},
   "source": [
    "## Splitting Train and Test Data"
   ]
  },
  {
   "cell_type": "code",
   "execution_count": 24,
   "metadata": {},
   "outputs": [],
   "source": [
    "#Generate Test Data (30% test data)\n",
    "random.seed(42)\n",
    "test_index = random.sample(range(0,300252), 90075)"
   ]
  },
  {
   "cell_type": "code",
   "execution_count": 25,
   "metadata": {},
   "outputs": [],
   "source": [
    "test = one_hot_results[test_index]"
   ]
  },
  {
   "cell_type": "code",
   "execution_count": 26,
   "metadata": {},
   "outputs": [],
   "source": [
    "train = np.delete(one_hot_results, test_index, 0)"
   ]
  },
  {
   "cell_type": "code",
   "execution_count": 27,
   "metadata": {},
   "outputs": [
    {
     "name": "stdout",
     "output_type": "stream",
     "text": [
      "Test label shape: (90075, 4)\n",
      "Train label shape: (210177, 4)\n",
      "Test shape: (90075, 10001)\n",
      "Train shape: (210177, 10001)\n"
     ]
    }
   ],
   "source": [
    "label_test = target_onehot[test_index]\n",
    "label_train = np.delete(target_onehot, test_index, 0)\n",
    "print(\"Test label shape:\", np.shape(label_test))\n",
    "print(\"Train label shape:\", np.shape(label_train))\n",
    "print(\"Test shape:\", np.shape(test))\n",
    "print(\"Train shape:\", np.shape(train))"
   ]
  },
  {
   "cell_type": "markdown",
   "metadata": {},
   "source": [
    "## Modeling and training"
   ]
  },
  {
   "cell_type": "code",
   "execution_count": 28,
   "metadata": {},
   "outputs": [],
   "source": [
    "#Model\n",
    "model = models.Sequential()\n",
    "model.add(Dropout(.2))\n",
    "model.add(layers.Dense(500, activation='relu', input_shape=(10000,)))\n",
    "model.add(Dropout(.2))\n",
    "model.add(layers.Dense(100, activation='relu'))\n",
    "model.add(Dropout(.2))\n",
    "model.add(layers.Dense(50, activation='relu'))\n",
    "model.add(Dropout(.2))\n",
    "model.add(layers.Dense(4, activation='softmax'))\n",
    "model.compile(optimizer='RMSprop',\n",
    "             loss='categorical_crossentropy',\n",
    "             metrics=['accuracy', f1_m, precision_m, recall_m])\n",
    "es_callback = (EarlyStopping(monitor='val_loss', patience=3))"
   ]
  },
  {
   "cell_type": "code",
   "execution_count": 29,
   "metadata": {
    "scrolled": true
   },
   "outputs": [
    {
     "name": "stderr",
     "output_type": "stream",
     "text": [
      "WARNING: Logging before flag parsing goes to stderr.\n",
      "W1119 04:14:59.536899 140497901381376 deprecation_wrapper.py:119] From /usr/local/envs/py3env/lib/python3.5/site-packages/keras/backend/tensorflow_backend.py:422: The name tf.global_variables is deprecated. Please use tf.compat.v1.global_variables instead.\n",
      "\n"
     ]
    },
    {
     "name": "stdout",
     "output_type": "stream",
     "text": [
      "Train on 168141 samples, validate on 42036 samples\n",
      "Epoch 1/120\n",
      "168141/168141 [==============================] - 48s 285us/step - loss: 1.0766 - accuracy: 0.5447 - f1_m: 0.4407 - precision_m: 0.6705 - recall_m: 0.3339 - val_loss: 0.9326 - val_accuracy: 0.6241 - val_f1_m: 0.5554 - val_precision_m: 0.7334 - val_recall_m: 0.4500\n",
      "Epoch 2/120\n",
      "168141/168141 [==============================] - 47s 281us/step - loss: 0.9882 - accuracy: 0.5946 - f1_m: 0.5313 - precision_m: 0.7033 - recall_m: 0.4275 - val_loss: 0.9157 - val_accuracy: 0.6358 - val_f1_m: 0.5661 - val_precision_m: 0.7443 - val_recall_m: 0.4601\n",
      "Epoch 3/120\n",
      "168141/168141 [==============================] - 48s 286us/step - loss: 0.9477 - accuracy: 0.6165 - f1_m: 0.5667 - precision_m: 0.7125 - recall_m: 0.4709 - val_loss: 0.8992 - val_accuracy: 0.6429 - val_f1_m: 0.6030 - val_precision_m: 0.7229 - val_recall_m: 0.5192\n",
      "Epoch 4/120\n",
      "168141/168141 [==============================] - 60s 356us/step - loss: 0.9113 - accuracy: 0.6336 - f1_m: 0.5968 - precision_m: 0.7188 - recall_m: 0.5106 - val_loss: 0.8933 - val_accuracy: 0.6438 - val_f1_m: 0.6156 - val_precision_m: 0.7105 - val_recall_m: 0.5445\n",
      "Epoch 5/120\n",
      "168141/168141 [==============================] - 63s 375us/step - loss: 0.8782 - accuracy: 0.6486 - f1_m: 0.6179 - precision_m: 0.7260 - recall_m: 0.5382 - val_loss: 0.8960 - val_accuracy: 0.6455 - val_f1_m: 0.6235 - val_precision_m: 0.7036 - val_recall_m: 0.5607\n",
      "Epoch 6/120\n",
      "168141/168141 [==============================] - 62s 370us/step - loss: 0.8520 - accuracy: 0.6612 - f1_m: 0.6357 - precision_m: 0.7314 - recall_m: 0.5625 - val_loss: 0.8957 - val_accuracy: 0.6452 - val_f1_m: 0.6279 - val_precision_m: 0.6984 - val_recall_m: 0.5714\n",
      "Epoch 7/120\n",
      "168141/168141 [==============================] - 57s 339us/step - loss: 0.8268 - accuracy: 0.6724 - f1_m: 0.6500 - precision_m: 0.7379 - recall_m: 0.5812 - val_loss: 0.8999 - val_accuracy: 0.6458 - val_f1_m: 0.6327 - val_precision_m: 0.6939 - val_recall_m: 0.5822\n"
     ]
    }
   ],
   "source": [
    "results = model.fit(train,\n",
    "                   label_train,\n",
    "                   epochs=120,\n",
    "                   batch_size=250,\n",
    "                   validation_split=0.2,\n",
    "                   callbacks = [es_callback])"
   ]
  },
  {
   "cell_type": "markdown",
   "metadata": {},
   "source": [
    "## Evaluating the model"
   ]
  },
  {
   "cell_type": "code",
   "execution_count": 30,
   "metadata": {},
   "outputs": [],
   "source": [
    "# evaluate the model\n",
    "loss, accuracy, f1_score, precision, recall = model.evaluate(test, label_test, verbose=0)"
   ]
  },
  {
   "cell_type": "code",
   "execution_count": 31,
   "metadata": {},
   "outputs": [
    {
     "name": "stdout",
     "output_type": "stream",
     "text": [
      " Loss: 0.9327503652880994 \n",
      " Accuracy: 0.6299972534179688 \n",
      " F1 Score: 0.6164131760597229 \n",
      " Precision: 0.6836270689964294 \n",
      " Recall: 0.5628063082695007\n"
     ]
    }
   ],
   "source": [
    "print(' Loss:',loss,'\\n', 'Accuracy:',accuracy,'\\n','F1 Score:', f1_score,'\\n','Precision:', precision,'\\n', 'Recall:', recall )"
   ]
  },
  {
   "cell_type": "code",
   "execution_count": 32,
   "metadata": {},
   "outputs": [
    {
     "name": "stderr",
     "output_type": "stream",
     "text": [
      "/usr/local/envs/py3env/lib/python3.5/site-packages/sklearn/preprocessing/label.py:151: DeprecationWarning: The truth value of an empty array is ambiguous. Returning False, but in future this will result in an error. Use `array.size > 0` to check that an array is not empty.\n",
      "  if diff:\n"
     ]
    }
   ],
   "source": [
    "#creating a dataframe with test and prediction results\n",
    "label_pred = model.predict(test)\n",
    "classes = list(le.inverse_transform([0, 1, 2, 3]))\n",
    "pred = pd.DataFrame(label_pred, columns = ['anger', 'fear', 'joy', 'sadness'] )\n",
    "test_text = twitter_df.iloc[test_index]\n",
    "test_text.reset_index(inplace = True)\n",
    "classification = pd.concat([test_text,pred] , axis = 1)\n",
    "classification.drop(columns = 'index' , inplace = True)\n",
    "classification['pred']=''\n",
    "classification = classification[['text','clean_text','anger','fear','joy','sadness','emotion','pred']]"
   ]
  },
  {
   "cell_type": "code",
   "execution_count": 33,
   "metadata": {},
   "outputs": [],
   "source": [
    "#Assigining predicted label where value is >.5\n",
    "for c in classes:\n",
    "  classification = assign_pred(classification,c)"
   ]
  },
  {
   "cell_type": "code",
   "execution_count": 34,
   "metadata": {
    "scrolled": false
   },
   "outputs": [
    {
     "data": {
      "text/html": [
       "<div>\n",
       "<style scoped>\n",
       "    .dataframe tbody tr th:only-of-type {\n",
       "        vertical-align: middle;\n",
       "    }\n",
       "\n",
       "    .dataframe tbody tr th {\n",
       "        vertical-align: top;\n",
       "    }\n",
       "\n",
       "    .dataframe thead th {\n",
       "        text-align: right;\n",
       "    }\n",
       "</style>\n",
       "<table border=\"1\" class=\"dataframe\">\n",
       "  <thead>\n",
       "    <tr style=\"text-align: right;\">\n",
       "      <th></th>\n",
       "      <th>text</th>\n",
       "      <th>clean_text</th>\n",
       "      <th>anger</th>\n",
       "      <th>fear</th>\n",
       "      <th>joy</th>\n",
       "      <th>sadness</th>\n",
       "      <th>emotion</th>\n",
       "      <th>pred</th>\n",
       "    </tr>\n",
       "  </thead>\n",
       "  <tbody>\n",
       "    <tr>\n",
       "      <th>0</th>\n",
       "      <td>At the hospital waiting 2 see child no.4! #nervous</td>\n",
       "      <td>at the hospital waiting see child no</td>\n",
       "      <td>0.014792</td>\n",
       "      <td>0.804515</td>\n",
       "      <td>0.118222</td>\n",
       "      <td>0.062471</td>\n",
       "      <td>fear</td>\n",
       "      <td>fear</td>\n",
       "    </tr>\n",
       "    <tr>\n",
       "      <th>1</th>\n",
       "      <td>@CodyDeBrock i feel like koehler isnt doin anything and neither is mrs schaefer!! #annoyed</td>\n",
       "      <td>i feel like koehler is not doing anything and neither is mr schaefer</td>\n",
       "      <td>0.481132</td>\n",
       "      <td>0.061589</td>\n",
       "      <td>0.069232</td>\n",
       "      <td>0.388048</td>\n",
       "      <td>anger</td>\n",
       "      <td></td>\n",
       "    </tr>\n",
       "    <tr>\n",
       "      <th>2</th>\n",
       "      <td>If i see another girl wit that no bf no prob shirt . imma chew her TF ^ ! Im sick of that shit !I t's PLAYED TF OUT -___________- #Disgusted</td>\n",
       "      <td>if i see another girl wit that no bf no prob shirt imma chew her tf i am sick of that shit i t s played tf out __</td>\n",
       "      <td>0.942553</td>\n",
       "      <td>0.001655</td>\n",
       "      <td>0.005897</td>\n",
       "      <td>0.049895</td>\n",
       "      <td>anger</td>\n",
       "      <td>anger</td>\n",
       "    </tr>\n",
       "    <tr>\n",
       "      <th>3</th>\n",
       "      <td>I need someone to cuddle with right now #lonely #comeover @JuliaPersinger @Gracie_masters @fcastros43 @MeyerMackenzie</td>\n",
       "      <td>i need someone to cuddle with right now</td>\n",
       "      <td>0.025190</td>\n",
       "      <td>0.008856</td>\n",
       "      <td>0.016392</td>\n",
       "      <td>0.949562</td>\n",
       "      <td>sadness</td>\n",
       "      <td>sadness</td>\n",
       "    </tr>\n",
       "    <tr>\n",
       "      <th>4</th>\n",
       "      <td>I hate getting on Justin's twitter &amp; it says @justinbieber does not follow me :( #Depressed</td>\n",
       "      <td>i hate getting on justin s twitter it say doe not follow me</td>\n",
       "      <td>0.275751</td>\n",
       "      <td>0.010001</td>\n",
       "      <td>0.027876</td>\n",
       "      <td>0.686372</td>\n",
       "      <td>sadness</td>\n",
       "      <td>sadness</td>\n",
       "    </tr>\n",
       "  </tbody>\n",
       "</table>\n",
       "</div>"
      ],
      "text/plain": [
       "                                                                                                                                           text  \\\n",
       "0  At the hospital waiting 2 see child no.4! #nervous                                                                                             \n",
       "1  @CodyDeBrock i feel like koehler isnt doin anything and neither is mrs schaefer!! #annoyed                                                     \n",
       "2  If i see another girl wit that no bf no prob shirt . imma chew her TF ^ ! Im sick of that shit !I t's PLAYED TF OUT -___________- #Disgusted   \n",
       "3  I need someone to cuddle with right now #lonely #comeover @JuliaPersinger @Gracie_masters @fcastros43 @MeyerMackenzie                          \n",
       "4  I hate getting on Justin's twitter & it says @justinbieber does not follow me :( #Depressed                                                    \n",
       "\n",
       "                                                                                                          clean_text  \\\n",
       "0  at the hospital waiting see child no                                                                                \n",
       "1  i feel like koehler is not doing anything and neither is mr schaefer                                                \n",
       "2  if i see another girl wit that no bf no prob shirt imma chew her tf i am sick of that shit i t s played tf out __   \n",
       "3  i need someone to cuddle with right now                                                                             \n",
       "4  i hate getting on justin s twitter it say doe not follow me                                                         \n",
       "\n",
       "      anger      fear       joy   sadness  emotion     pred  \n",
       "0  0.014792  0.804515  0.118222  0.062471  fear     fear     \n",
       "1  0.481132  0.061589  0.069232  0.388048  anger             \n",
       "2  0.942553  0.001655  0.005897  0.049895  anger    anger    \n",
       "3  0.025190  0.008856  0.016392  0.949562  sadness  sadness  \n",
       "4  0.275751  0.010001  0.027876  0.686372  sadness  sadness  "
      ]
     },
     "execution_count": 34,
     "metadata": {},
     "output_type": "execute_result"
    }
   ],
   "source": [
    "pd.set_option('display.max_colwidth', -1)\n",
    "classification.head()"
   ]
  },
  {
   "cell_type": "code",
   "execution_count": 35,
   "metadata": {},
   "outputs": [],
   "source": [
    "# Cohen Kappa Score\n",
    "y1 = classification.emotion\n",
    "y2 = classification.pred\n",
    "cks = cohen_kappa_score(y1, y2, labels=classes, weights=None, sample_weight=None)"
   ]
  },
  {
   "cell_type": "code",
   "execution_count": 36,
   "metadata": {},
   "outputs": [
    {
     "name": "stdout",
     "output_type": "stream",
     "text": [
      "Cohen Kappa Score: 0.5734747171097341\n"
     ]
    }
   ],
   "source": [
    "print('Cohen Kappa Score:',cks)"
   ]
  },
  {
   "cell_type": "code",
   "execution_count": 37,
   "metadata": {},
   "outputs": [],
   "source": [
    "#saving results for analysis\n",
    "classification.to_csv('classification.csv')"
   ]
  },
  {
   "cell_type": "code",
   "execution_count": 38,
   "metadata": {},
   "outputs": [],
   "source": [
    "#since many tweets were not classified, the confussion matrix will be plotted for classified values\n",
    "classified = classification.loc[classification['pred']!='']"
   ]
  },
  {
   "cell_type": "code",
   "execution_count": 39,
   "metadata": {},
   "outputs": [],
   "source": [
    "# Creating the Confusion Matrix\n",
    "y_test = classified.emotion\n",
    "y_pred = classified.pred\n",
    "cm = confusion_matrix(y_test, y_pred)"
   ]
  },
  {
   "cell_type": "code",
   "execution_count": 40,
   "metadata": {},
   "outputs": [
    {
     "name": "stderr",
     "output_type": "stream",
     "text": [
      "/usr/local/envs/py3env/lib/python3.5/site-packages/matplotlib/font_manager.py:1320: UserWarning: findfont: Font family ['sans-serif'] not found. Falling back to DejaVu Sans\n",
      "  (prop.get_family(), self.defaultFamily[fontext]))\n"
     ]
    },
    {
     "data": {
      "image/png": "[encoded data removed]",
      "text/plain": [
       "<matplotlib.figure.Figure at 0x7fc7e8eafdd8>"
      ]
     },
     "metadata": {},
     "output_type": "display_data"
    }
   ],
   "source": [
    "plot_cm(cm,classes)"
   ]
  },
  {
   "cell_type": "markdown",
   "metadata": {},
   "source": [
    "## Saving the model"
   ]
  },
  {
   "cell_type": "code",
   "execution_count": 41,
   "metadata": {},
   "outputs": [
    {
     "name": "stdout",
     "output_type": "stream",
     "text": [
      "Saved model to disk\n"
     ]
    }
   ],
   "source": [
    "# Saving model to JSON\n",
    "model_json = model.to_json()\n",
    "with open(\"keras_model.json\", \"w\") as json_file:\n",
    "    json_file.write(model_json)\n",
    "# serialize weights to HDF5\n",
    "model.save_weights(\"keras_model.json.h5\")\n",
    "print(\"Saved model to disk\")"
   ]
  },
  {
   "cell_type": "markdown",
   "metadata": {},
   "source": [
    "## Retrieving the model"
   ]
  },
  {
   "cell_type": "code",
   "execution_count": null,
   "metadata": {},
   "outputs": [],
   "source": [
    "# load json and create model\n",
    "json_file = open('keras_model.json', 'r')\n",
    "loaded_model_json = json_file.read()\n",
    "json_file.close()\n",
    "loaded_model = model_from_json(loaded_model_json)\n",
    "\n",
    "# load weights into new model\n",
    "loaded_model.load_weights(\"keras_model.json.h5\")\n",
    "print(\"Loaded model from disk\")"
   ]
  }
 ],
 "metadata": {
  "kernelspec": {
   "display_name": "Python 3",
   "language": "python",
   "name": "python3"
  },
  "language_info": {
   "codemirror_mode": {
    "name": "ipython",
    "version": 3
   },
   "file_extension": ".py",
   "mimetype": "text/x-python",
   "name": "python",
   "nbconvert_exporter": "python",
   "pygments_lexer": "ipython3",
   "version": "3.5.6"
  }
 },
 "nbformat": 4,
 "nbformat_minor": 2
}
