{
 "cells": [
  {
   "cell_type": "markdown",
   "metadata": {},
   "source": [
    "## Importing libraries"
   ]
  },
  {
   "cell_type": "code",
   "execution_count": 1,
   "metadata": {},
   "outputs": [],
   "source": [
    "import pandas as pd\n",
    "import numpy as np\n",
    "import sqlite3\n",
    "\n",
    "\n",
    "import matplotlib.pyplot as plt\n",
    "import seaborn as sns\n",
    "\n",
    "######preprocessing text######\n",
    "from preprocessing import remove_hashtags, ReplaceThreeOrMore, preprocessing_text\n",
    "\n",
    "\n",
    "# import random"
   ]
  },
  {
   "cell_type": "markdown",
   "metadata": {},
   "source": [
    "## Import Data from SQLite"
   ]
  },
  {
   "cell_type": "code",
   "execution_count": 2,
   "metadata": {},
   "outputs": [],
   "source": [
    "#database connection\n",
    "conn = sqlite3.connect( r\"./data/emotion.db\")\n",
    "c = conn.cursor()"
   ]
  },
  {
   "cell_type": "code",
   "execution_count": 3,
   "metadata": {},
   "outputs": [],
   "source": [
    "twitter_df = pd.read_sql_query(\"SELECT text,emotion FROM emotions;\", conn)"
   ]
  },
  {
   "cell_type": "markdown",
   "metadata": {},
   "source": [
    "## Exploratory Data Analysis"
   ]
  },
  {
   "cell_type": "code",
   "execution_count": 4,
   "metadata": {
    "scrolled": true
   },
   "outputs": [
    {
     "name": "stdout",
     "output_type": "stream",
     "text": [
      "<class 'pandas.core.frame.DataFrame'>\n",
      "RangeIndex: 1339794 entries, 0 to 1339793\n",
      "Data columns (total 2 columns):\n",
      "text       1339794 non-null object\n",
      "emotion    1339794 non-null object\n",
      "dtypes: object(2)\n",
      "memory usage: 20.4+ MB\n"
     ]
    }
   ],
   "source": [
    "twitter_df.info()"
   ]
  },
  {
   "cell_type": "code",
   "execution_count": 5,
   "metadata": {},
   "outputs": [
    {
     "data": {
      "text/plain": [
       "(1339794, 2)"
      ]
     },
     "execution_count": 5,
     "metadata": {},
     "output_type": "execute_result"
    }
   ],
   "source": [
    "twitter_df.shape"
   ]
  },
  {
   "cell_type": "markdown",
   "metadata": {},
   "source": [
    "__Reviewing Length of Texts__"
   ]
  },
  {
   "cell_type": "code",
   "execution_count": 6,
   "metadata": {},
   "outputs": [],
   "source": [
    "twitter_df['len']= twitter_df['text'].apply(lambda x: len(x))"
   ]
  },
  {
   "cell_type": "code",
   "execution_count": 7,
   "metadata": {},
   "outputs": [
    {
     "data": {
      "text/plain": [
       "Text(0.5, 0, 'Number of Characters')"
      ]
     },
     "execution_count": 7,
     "metadata": {},
     "output_type": "execute_result"
    },
    {
     "data": {
      "image/png": "[encoded data removed]",
      "text/plain": [
       "<Figure size 432x288 with 1 Axes>"
      ]
     },
     "metadata": {
      "needs_background": "light"
     },
     "output_type": "display_data"
    }
   ],
   "source": [
    "#Distribution of text lenghts\n",
    "\n",
    "sns.distplot(twitter_df['len'],\n",
    "            color = 'Red',\n",
    "            kde=False)\n",
    "plt.title(\"Number of Characters in Tweets\")\n",
    "plt.ylabel('Number of tweets')\n",
    "plt.xlabel('Number of Characters',)"
   ]
  },
  {
   "cell_type": "code",
   "execution_count": 8,
   "metadata": {
    "scrolled": true
   },
   "outputs": [
    {
     "data": {
      "text/html": [
       "<div>\n",
       "<style scoped>\n",
       "    .dataframe tbody tr th:only-of-type {\n",
       "        vertical-align: middle;\n",
       "    }\n",
       "\n",
       "    .dataframe tbody tr th {\n",
       "        vertical-align: top;\n",
       "    }\n",
       "\n",
       "    .dataframe thead th {\n",
       "        text-align: right;\n",
       "    }\n",
       "</style>\n",
       "<table border=\"1\" class=\"dataframe\">\n",
       "  <thead>\n",
       "    <tr style=\"text-align: right;\">\n",
       "      <th></th>\n",
       "      <th>text</th>\n",
       "      <th>emotion</th>\n",
       "      <th>len</th>\n",
       "    </tr>\n",
       "  </thead>\n",
       "  <tbody>\n",
       "    <tr>\n",
       "      <th>486415</th>\n",
       "      <td>O H I O #love</td>\n",
       "      <td>love</td>\n",
       "      <td>13</td>\n",
       "    </tr>\n",
       "    <tr>\n",
       "      <th>1050420</th>\n",
       "      <td>0 y va 2 #LOVE</td>\n",
       "      <td>love</td>\n",
       "      <td>14</td>\n",
       "    </tr>\n",
       "    <tr>\n",
       "      <th>323419</th>\n",
       "      <td>I'm a lil #sad</td>\n",
       "      <td>sadness</td>\n",
       "      <td>14</td>\n",
       "    </tr>\n",
       "    <tr>\n",
       "      <th>887226</th>\n",
       "      <td>T G I F #happy</td>\n",
       "      <td>joy</td>\n",
       "      <td>14</td>\n",
       "    </tr>\n",
       "    <tr>\n",
       "      <th>1225170</th>\n",
       "      <td>W o a h ! #sad</td>\n",
       "      <td>sadness</td>\n",
       "      <td>14</td>\n",
       "    </tr>\n",
       "  </tbody>\n",
       "</table>\n",
       "</div>"
      ],
      "text/plain": [
       "                   text  emotion  len\n",
       "486415    O H I O #love     love   13\n",
       "1050420  0 y va 2 #LOVE     love   14\n",
       "323419   I'm a lil #sad  sadness   14\n",
       "887226   T G I F #happy      joy   14\n",
       "1225170  W o a h ! #sad  sadness   14"
      ]
     },
     "execution_count": 8,
     "metadata": {},
     "output_type": "execute_result"
    }
   ],
   "source": [
    "twitter_df.sort_values('len', ascending = True).head()"
   ]
  },
  {
   "cell_type": "code",
   "execution_count": 9,
   "metadata": {
    "scrolled": true
   },
   "outputs": [
    {
     "data": {
      "text/html": [
       "<div>\n",
       "<style scoped>\n",
       "    .dataframe tbody tr th:only-of-type {\n",
       "        vertical-align: middle;\n",
       "    }\n",
       "\n",
       "    .dataframe tbody tr th {\n",
       "        vertical-align: top;\n",
       "    }\n",
       "\n",
       "    .dataframe thead th {\n",
       "        text-align: right;\n",
       "    }\n",
       "</style>\n",
       "<table border=\"1\" class=\"dataframe\">\n",
       "  <thead>\n",
       "    <tr style=\"text-align: right;\">\n",
       "      <th></th>\n",
       "      <th>text</th>\n",
       "      <th>emotion</th>\n",
       "      <th>len</th>\n",
       "    </tr>\n",
       "  </thead>\n",
       "  <tbody>\n",
       "    <tr>\n",
       "      <th>382010</th>\n",
       "      <td>the part where optimus prime is resurrected &amp;g...</td>\n",
       "      <td>love</td>\n",
       "      <td>345</td>\n",
       "    </tr>\n",
       "    <tr>\n",
       "      <th>1252245</th>\n",
       "      <td>the ziti i cooked tonight &amp;gt;&amp;gt;&amp;gt;&amp;gt;&amp;gt;...</td>\n",
       "      <td>love</td>\n",
       "      <td>289</td>\n",
       "    </tr>\n",
       "    <tr>\n",
       "      <th>1057360</th>\n",
       "      <td>The feeling of leaving a final knowing you got...</td>\n",
       "      <td>thankfulness</td>\n",
       "      <td>266</td>\n",
       "    </tr>\n",
       "    <tr>\n",
       "      <th>43710</th>\n",
       "      <td>Those ppl that fb chat you EVERY TIME you get ...</td>\n",
       "      <td>anger</td>\n",
       "      <td>261</td>\n",
       "    </tr>\n",
       "    <tr>\n",
       "      <th>253288</th>\n",
       "      <td>#love @Harry_Styles &amp;lt;3 &amp;lt;3 &amp;lt;3 &amp;lt;3 &amp;l...</td>\n",
       "      <td>love</td>\n",
       "      <td>260</td>\n",
       "    </tr>\n",
       "  </tbody>\n",
       "</table>\n",
       "</div>"
      ],
      "text/plain": [
       "                                                      text       emotion  len\n",
       "382010   the part where optimus prime is resurrected &g...          love  345\n",
       "1252245  the ziti i cooked tonight &gt;&gt;&gt;&gt;&gt;...          love  289\n",
       "1057360  The feeling of leaving a final knowing you got...  thankfulness  266\n",
       "43710    Those ppl that fb chat you EVERY TIME you get ...         anger  261\n",
       "253288   #love @Harry_Styles &lt;3 &lt;3 &lt;3 &lt;3 &l...          love  260"
      ]
     },
     "execution_count": 9,
     "metadata": {},
     "output_type": "execute_result"
    }
   ],
   "source": [
    "twitter_df.sort_values('len', ascending = False).head()"
   ]
  },
  {
   "cell_type": "markdown",
   "metadata": {},
   "source": [
    "__Counts by Emotion Label__"
   ]
  },
  {
   "cell_type": "code",
   "execution_count": 10,
   "metadata": {},
   "outputs": [],
   "source": [
    "counts = pd.read_sql_query(\"\"\"SELECT emotion, count(emotion) as count \n",
    "                            FROM emotions\n",
    "                            GROUP BY emotion\n",
    "                            ORDER BY count DESC;\"\"\", conn)"
   ]
  },
  {
   "cell_type": "code",
   "execution_count": 11,
   "metadata": {},
   "outputs": [
    {
     "data": {
      "text/html": [
       "<div>\n",
       "<style scoped>\n",
       "    .dataframe tbody tr th:only-of-type {\n",
       "        vertical-align: middle;\n",
       "    }\n",
       "\n",
       "    .dataframe tbody tr th {\n",
       "        vertical-align: top;\n",
       "    }\n",
       "\n",
       "    .dataframe thead th {\n",
       "        text-align: right;\n",
       "    }\n",
       "</style>\n",
       "<table border=\"1\" class=\"dataframe\">\n",
       "  <thead>\n",
       "    <tr style=\"text-align: right;\">\n",
       "      <th></th>\n",
       "      <th>emotion</th>\n",
       "      <th>count</th>\n",
       "    </tr>\n",
       "  </thead>\n",
       "  <tbody>\n",
       "    <tr>\n",
       "      <th>0</th>\n",
       "      <td>joy</td>\n",
       "      <td>386601</td>\n",
       "    </tr>\n",
       "    <tr>\n",
       "      <th>1</th>\n",
       "      <td>sadness</td>\n",
       "      <td>330432</td>\n",
       "    </tr>\n",
       "    <tr>\n",
       "      <th>2</th>\n",
       "      <td>anger</td>\n",
       "      <td>291480</td>\n",
       "    </tr>\n",
       "    <tr>\n",
       "      <th>3</th>\n",
       "      <td>love</td>\n",
       "      <td>167715</td>\n",
       "    </tr>\n",
       "    <tr>\n",
       "      <th>4</th>\n",
       "      <td>thankfulness</td>\n",
       "      <td>78228</td>\n",
       "    </tr>\n",
       "    <tr>\n",
       "      <th>5</th>\n",
       "      <td>fear</td>\n",
       "      <td>72094</td>\n",
       "    </tr>\n",
       "    <tr>\n",
       "      <th>6</th>\n",
       "      <td>surprise</td>\n",
       "      <td>13244</td>\n",
       "    </tr>\n",
       "  </tbody>\n",
       "</table>\n",
       "</div>"
      ],
      "text/plain": [
       "        emotion   count\n",
       "0           joy  386601\n",
       "1       sadness  330432\n",
       "2         anger  291480\n",
       "3          love  167715\n",
       "4  thankfulness   78228\n",
       "5          fear   72094\n",
       "6      surprise   13244"
      ]
     },
     "execution_count": 11,
     "metadata": {},
     "output_type": "execute_result"
    }
   ],
   "source": [
    "counts"
   ]
  },
  {
   "cell_type": "code",
   "execution_count": 12,
   "metadata": {
    "scrolled": false
   },
   "outputs": [
    {
     "data": {
      "image/png": "[encoded data removed]",
      "text/plain": [
       "<Figure size 432x288 with 1 Axes>"
      ]
     },
     "metadata": {
      "needs_background": "light"
     },
     "output_type": "display_data"
    }
   ],
   "source": [
    "#Plotting by tweet emotion\n",
    "ax = sns.barplot(x='emotion',\n",
    "                 y='count',\n",
    "                 data=counts,\n",
    "                 palette = 'Reds'\n",
    "                 \n",
    "                 )\n",
    "plt.title(\"Tweets for each Emotion\", fontsize=24)\n",
    "plt.ylabel('Number of Tweets', fontsize=18)\n",
    "plt.xlabel('Tweet Type ', fontsize=18 )\n",
    "plt.xticks(rotation=45)\n",
    "plt.show()"
   ]
  },
  {
   "cell_type": "markdown",
   "metadata": {},
   "source": [
    "## Data Clean and preprocessing:\n",
    "\n",
    "- Will start by subsetting the data for emotions: joy, sadness, anger, and fear"
   ]
  },
  {
   "cell_type": "code",
   "execution_count": 13,
   "metadata": {},
   "outputs": [],
   "source": [
    "twitter_df = twitter_df.loc[twitter_df.emotion.isin(['joy','fear','anger','sadness'])]"
   ]
  },
  {
   "cell_type": "markdown",
   "metadata": {},
   "source": [
    "## Preprocessing\n",
    "\n",
    "The following steps will be part of the preprocessing of the data:\n",
    "\n",
    "- remove usernames\n",
    "- remove hashtags (they were used for classification process, this will avoid leakage)\n",
    "- handle emojis\n",
    "- remove characters repeated more than 2 times\n",
    "- removing links to websites\n",
    "- remove html characters\n",
    "- handle contractions\n",
    "- remove numbers\n",
    "- remove punctuation\n",
    "- set to lowercase\n",
    "- lemmatization\n"
   ]
  },
  {
   "cell_type": "code",
   "execution_count": 14,
   "metadata": {},
   "outputs": [],
   "source": [
    "#create new column to have clean text\n",
    "twitter_df['clean_text'] = twitter_df['text']"
   ]
  },
  {
   "cell_type": "code",
   "execution_count": 15,
   "metadata": {},
   "outputs": [
    {
     "data": {
      "text/html": [
       "<div>\n",
       "<style scoped>\n",
       "    .dataframe tbody tr th:only-of-type {\n",
       "        vertical-align: middle;\n",
       "    }\n",
       "\n",
       "    .dataframe tbody tr th {\n",
       "        vertical-align: top;\n",
       "    }\n",
       "\n",
       "    .dataframe thead th {\n",
       "        text-align: right;\n",
       "    }\n",
       "</style>\n",
       "<table border=\"1\" class=\"dataframe\">\n",
       "  <thead>\n",
       "    <tr style=\"text-align: right;\">\n",
       "      <th></th>\n",
       "      <th>text</th>\n",
       "      <th>emotion</th>\n",
       "      <th>len</th>\n",
       "      <th>clean_text</th>\n",
       "    </tr>\n",
       "  </thead>\n",
       "  <tbody>\n",
       "    <tr>\n",
       "      <th>5</th>\n",
       "      <td>If only everything could come with locally-gro...</td>\n",
       "      <td>joy</td>\n",
       "      <td>105</td>\n",
       "      <td>if only everything could come with locally gro...</td>\n",
       "    </tr>\n",
       "    <tr>\n",
       "      <th>7</th>\n",
       "      <td>Just walked into a magic shop in a leafy subur...</td>\n",
       "      <td>anger</td>\n",
       "      <td>89</td>\n",
       "      <td>just walked into a magic shop in a leafy subur...</td>\n",
       "    </tr>\n",
       "    <tr>\n",
       "      <th>11</th>\n",
       "      <td>Congratulations @justinbieber! My World 2.0 ha...</td>\n",
       "      <td>joy</td>\n",
       "      <td>134</td>\n",
       "      <td>congratulation my world ha been in the top for...</td>\n",
       "    </tr>\n",
       "    <tr>\n",
       "      <th>12</th>\n",
       "      <td>Fall leaves, classical music, crisp breeze. #B...</td>\n",
       "      <td>joy</td>\n",
       "      <td>50</td>\n",
       "      <td>fall leaf classical music crisp breeze</td>\n",
       "    </tr>\n",
       "    <tr>\n",
       "      <th>13</th>\n",
       "      <td>Nothing makes you feel quite like a kid again ...</td>\n",
       "      <td>joy</td>\n",
       "      <td>79</td>\n",
       "      <td>nothing make you feel quite like a kid again l...</td>\n",
       "    </tr>\n",
       "    <tr>\n",
       "      <th>14</th>\n",
       "      <td>Red Lobster just denied me the right to relive...</td>\n",
       "      <td>sadness</td>\n",
       "      <td>114</td>\n",
       "      <td>red lobster just denied me the right to relive...</td>\n",
       "    </tr>\n",
       "    <tr>\n",
       "      <th>15</th>\n",
       "      <td>The Freedom Tower is a giant middle-finger sal...</td>\n",
       "      <td>joy</td>\n",
       "      <td>125</td>\n",
       "      <td>the freedom tower is a giant middle finger sal...</td>\n",
       "    </tr>\n",
       "    <tr>\n",
       "      <th>16</th>\n",
       "      <td>Pô bicho, se LCD não tem nada a ver com LSD en...</td>\n",
       "      <td>sadness</td>\n",
       "      <td>116</td>\n",
       "      <td>pô bicho se lcd não tem nada a ver com lsd ent...</td>\n",
       "    </tr>\n",
       "    <tr>\n",
       "      <th>17</th>\n",
       "      <td>#dontactlike yu not nasty when yu had sex wit ...</td>\n",
       "      <td>sadness</td>\n",
       "      <td>109</td>\n",
       "      <td>yu not nasty when yu had sex wit two nigga in ...</td>\n",
       "    </tr>\n",
       "    <tr>\n",
       "      <th>19</th>\n",
       "      <td>many of u are seeing #NEVERSAYNEVER3D for the ...</td>\n",
       "      <td>joy</td>\n",
       "      <td>107</td>\n",
       "      <td>many of you are seeing for the first time nite...</td>\n",
       "    </tr>\n",
       "    <tr>\n",
       "      <th>20</th>\n",
       "      <td>Tonight I play in Guatemala!! #tiestoontour #e...</td>\n",
       "      <td>joy</td>\n",
       "      <td>52</td>\n",
       "      <td>tonight i play in guatemala</td>\n",
       "    </tr>\n",
       "    <tr>\n",
       "      <th>22</th>\n",
       "      <td>Some people think that the physical things def...</td>\n",
       "      <td>sadness</td>\n",
       "      <td>76</td>\n",
       "      <td>some people think that the physical thing defi...</td>\n",
       "    </tr>\n",
       "    <tr>\n",
       "      <th>25</th>\n",
       "      <td>Se vieene el ultimo show israel!!! CON TODO!!!...</td>\n",
       "      <td>joy</td>\n",
       "      <td>57</td>\n",
       "      <td>se vieene el ultimo show israel con todo</td>\n",
       "    </tr>\n",
       "    <tr>\n",
       "      <th>28</th>\n",
       "      <td>I Understand Bitch Nigga u can't get bitches t...</td>\n",
       "      <td>sadness</td>\n",
       "      <td>110</td>\n",
       "      <td>i understand bitch nigga you cannot get bitch ...</td>\n",
       "    </tr>\n",
       "    <tr>\n",
       "      <th>29</th>\n",
       "      <td>why arent my tweets going thru?!?! awww. #frus...</td>\n",
       "      <td>anger</td>\n",
       "      <td>52</td>\n",
       "      <td>why are not my tweet going thru aww</td>\n",
       "    </tr>\n",
       "    <tr>\n",
       "      <th>30</th>\n",
       "      <td>En casa de Mario celebrando su cumple y mi año...</td>\n",
       "      <td>joy</td>\n",
       "      <td>87</td>\n",
       "      <td>en casa de mario celebrando su cumple y mi año...</td>\n",
       "    </tr>\n",
       "    <tr>\n",
       "      <th>32</th>\n",
       "      <td>@Itslethalbitch I'm a #SteveJobsWhore and #Proud</td>\n",
       "      <td>joy</td>\n",
       "      <td>48</td>\n",
       "      <td>i am a and</td>\n",
       "    </tr>\n",
       "    <tr>\n",
       "      <th>33</th>\n",
       "      <td>#wheniwasakid , rock paper scissors used to sl...</td>\n",
       "      <td>sadness</td>\n",
       "      <td>140</td>\n",
       "      <td>rock paper scissors used to slove everything n...</td>\n",
       "    </tr>\n",
       "    <tr>\n",
       "      <th>35</th>\n",
       "      <td>I hate being asked 21 fucking questions likke ...</td>\n",
       "      <td>anger</td>\n",
       "      <td>90</td>\n",
       "      <td>i hate being asked fucking question likke i am...</td>\n",
       "    </tr>\n",
       "    <tr>\n",
       "      <th>36</th>\n",
       "      <td>And to think all this time I thought Osama Bin...</td>\n",
       "      <td>sadness</td>\n",
       "      <td>113</td>\n",
       "      <td>and to think all this time i thought osama bin...</td>\n",
       "    </tr>\n",
       "    <tr>\n",
       "      <th>37</th>\n",
       "      <td>When I look at Selena and Justin together, I L...</td>\n",
       "      <td>anger</td>\n",
       "      <td>96</td>\n",
       "      <td>when i look at selena and justin together i li...</td>\n",
       "    </tr>\n",
       "    <tr>\n",
       "      <th>42</th>\n",
       "      <td>God keeps makin' those gay people 'til the res...</td>\n",
       "      <td>joy</td>\n",
       "      <td>140</td>\n",
       "      <td>god keep makin those gay people til the rest f...</td>\n",
       "    </tr>\n",
       "    <tr>\n",
       "      <th>43</th>\n",
       "      <td>The annoyingest moment when a fricken bumblebe...</td>\n",
       "      <td>anger</td>\n",
       "      <td>80</td>\n",
       "      <td>the annoyingest moment when a fricken bumblebe...</td>\n",
       "    </tr>\n",
       "    <tr>\n",
       "      <th>44</th>\n",
       "      <td>Trying to use the wifi at starbucks on hollywo...</td>\n",
       "      <td>anger</td>\n",
       "      <td>93</td>\n",
       "      <td>trying to use the wifi at starbucks on hollywo...</td>\n",
       "    </tr>\n",
       "    <tr>\n",
       "      <th>45</th>\n",
       "      <td>It's judgement day, good luck everyone #nervous</td>\n",
       "      <td>fear</td>\n",
       "      <td>47</td>\n",
       "      <td>it is judgement day good luck everyone</td>\n",
       "    </tr>\n",
       "    <tr>\n",
       "      <th>47</th>\n",
       "      <td>So blessed to be in Panama... but I'm really m...</td>\n",
       "      <td>sadness</td>\n",
       "      <td>78</td>\n",
       "      <td>so blessed to be in panama but i am really mis...</td>\n",
       "    </tr>\n",
       "    <tr>\n",
       "      <th>51</th>\n",
       "      <td>If you're not gonna follow through don't act l...</td>\n",
       "      <td>anger</td>\n",
       "      <td>76</td>\n",
       "      <td>if you are not going to follow through do not ...</td>\n",
       "    </tr>\n",
       "    <tr>\n",
       "      <th>56</th>\n",
       "      <td>Waiting in line is a great opportunity to meet...</td>\n",
       "      <td>joy</td>\n",
       "      <td>96</td>\n",
       "      <td>waiting in line is a great opportunity to meet...</td>\n",
       "    </tr>\n",
       "    <tr>\n",
       "      <th>57</th>\n",
       "      <td>To all of my personal reminders that tell me i...</td>\n",
       "      <td>anger</td>\n",
       "      <td>140</td>\n",
       "      <td>to all of my personal reminder that tell me i ...</td>\n",
       "    </tr>\n",
       "    <tr>\n",
       "      <th>58</th>\n",
       "      <td>Today is the tomorrow that you worried about y...</td>\n",
       "      <td>fear</td>\n",
       "      <td>78</td>\n",
       "      <td>today is the tomorrow that you worried about y...</td>\n",
       "    </tr>\n",
       "    <tr>\n",
       "      <th>...</th>\n",
       "      <td>...</td>\n",
       "      <td>...</td>\n",
       "      <td>...</td>\n",
       "      <td>...</td>\n",
       "    </tr>\n",
       "    <tr>\n",
       "      <th>1339757</th>\n",
       "      <td>Ready to see her today:)#excited #goodday</td>\n",
       "      <td>joy</td>\n",
       "      <td>41</td>\n",
       "      <td>ready to see her today</td>\n",
       "    </tr>\n",
       "    <tr>\n",
       "      <th>1339758</th>\n",
       "      <td>God is doing amazing things and I'm just grate...</td>\n",
       "      <td>joy</td>\n",
       "      <td>79</td>\n",
       "      <td>god is doing amazing thing and i am just grate...</td>\n",
       "    </tr>\n",
       "    <tr>\n",
       "      <th>1339760</th>\n",
       "      <td>Oh my God. Me and @DCThrilla leave you guys fo...</td>\n",
       "      <td>sadness</td>\n",
       "      <td>140</td>\n",
       "      <td>oh my god me and leave you guy for one day and...</td>\n",
       "    </tr>\n",
       "    <tr>\n",
       "      <th>1339761</th>\n",
       "      <td>Oh dude over here makes some weird noises.. #w...</td>\n",
       "      <td>anger</td>\n",
       "      <td>69</td>\n",
       "      <td>oh dude over here make some weird noise</td>\n",
       "    </tr>\n",
       "    <tr>\n",
       "      <th>1339762</th>\n",
       "      <td>@charfany I'm not even 17 yet and I've still g...</td>\n",
       "      <td>anger</td>\n",
       "      <td>77</td>\n",
       "      <td>i am not even yet and i have still got month t...</td>\n",
       "    </tr>\n",
       "    <tr>\n",
       "      <th>1339763</th>\n",
       "      <td>@Michael_Coxy heard your out on boxing day and...</td>\n",
       "      <td>joy</td>\n",
       "      <td>95</td>\n",
       "      <td>heard your out on boxing day and i get to see ...</td>\n",
       "    </tr>\n",
       "    <tr>\n",
       "      <th>1339765</th>\n",
       "      <td>Joy bought me a pair of XL sized sweat pants f...</td>\n",
       "      <td>joy</td>\n",
       "      <td>138</td>\n",
       "      <td>joy bought me a pair of xl sized sweat pant fo...</td>\n",
       "    </tr>\n",
       "    <tr>\n",
       "      <th>1339767</th>\n",
       "      <td>I searched out my gloves last night....but cou...</td>\n",
       "      <td>sadness</td>\n",
       "      <td>88</td>\n",
       "      <td>i searched out my glove last night but could o...</td>\n",
       "    </tr>\n",
       "    <tr>\n",
       "      <th>1339768</th>\n",
       "      <td>@AustinMahone i'm envy with girl who followed ...</td>\n",
       "      <td>sadness</td>\n",
       "      <td>109</td>\n",
       "      <td>i am envy with girl who followed by you i just...</td>\n",
       "    </tr>\n",
       "    <tr>\n",
       "      <th>1339769</th>\n",
       "      <td>@usatriathlon My last long run before my marat...</td>\n",
       "      <td>joy</td>\n",
       "      <td>140</td>\n",
       "      <td>my last long run before my marathon ran mi got...</td>\n",
       "    </tr>\n",
       "    <tr>\n",
       "      <th>1339770</th>\n",
       "      <td>Gonna Miss The Match(s) !! #Shit #sad</td>\n",
       "      <td>sadness</td>\n",
       "      <td>37</td>\n",
       "      <td>going to miss the match s</td>\n",
       "    </tr>\n",
       "    <tr>\n",
       "      <th>1339771</th>\n",
       "      <td>Does Rustenburg have 3G....? My modem is soooo...</td>\n",
       "      <td>anger</td>\n",
       "      <td>67</td>\n",
       "      <td>doe rustenburg have g my modem is soo useless</td>\n",
       "    </tr>\n",
       "    <tr>\n",
       "      <th>1339772</th>\n",
       "      <td>Mommy/Daughter Bake Day! Sugar cookies, choc c...</td>\n",
       "      <td>joy</td>\n",
       "      <td>133</td>\n",
       "      <td>mommy daughter bake day sugar cooky choc cover...</td>\n",
       "    </tr>\n",
       "    <tr>\n",
       "      <th>1339773</th>\n",
       "      <td>My best friends are hereeeee :) #happy #wolfpack</td>\n",
       "      <td>joy</td>\n",
       "      <td>48</td>\n",
       "      <td>my best friend are heree</td>\n",
       "    </tr>\n",
       "    <tr>\n",
       "      <th>1339774</th>\n",
       "      <td>met @arsenalnepal family today! day 2 :) #happy</td>\n",
       "      <td>joy</td>\n",
       "      <td>47</td>\n",
       "      <td>met family today day</td>\n",
       "    </tr>\n",
       "    <tr>\n",
       "      <th>1339775</th>\n",
       "      <td>What a successful shopping trip, was there hal...</td>\n",
       "      <td>joy</td>\n",
       "      <td>102</td>\n",
       "      <td>what a successful shopping trip wa there half ...</td>\n",
       "    </tr>\n",
       "    <tr>\n",
       "      <th>1339776</th>\n",
       "      <td>I just found out that my grandfather was a vet...</td>\n",
       "      <td>joy</td>\n",
       "      <td>60</td>\n",
       "      <td>i just found out that my grandfather wa a veteran</td>\n",
       "    </tr>\n",
       "    <tr>\n",
       "      <th>1339779</th>\n",
       "      <td>@MiaObrien_ sounds like a date ;) and wooo par...</td>\n",
       "      <td>joy</td>\n",
       "      <td>120</td>\n",
       "      <td>sound like a date and woo party dress and oo i...</td>\n",
       "    </tr>\n",
       "    <tr>\n",
       "      <th>1339780</th>\n",
       "      <td>3 more days until Christmas &amp; NBA ! #excited</td>\n",
       "      <td>joy</td>\n",
       "      <td>44</td>\n",
       "      <td>more day until christmas nba</td>\n",
       "    </tr>\n",
       "    <tr>\n",
       "      <th>1339781</th>\n",
       "      <td>So the not so secret Santa is now tomorrow at ...</td>\n",
       "      <td>joy</td>\n",
       "      <td>132</td>\n",
       "      <td>so the not so secret santa is now tomorrow at ...</td>\n",
       "    </tr>\n",
       "    <tr>\n",
       "      <th>1339782</th>\n",
       "      <td>Hating my iPhone battery life right now its de...</td>\n",
       "      <td>anger</td>\n",
       "      <td>89</td>\n",
       "      <td>hating my iphone battery life right now it dea...</td>\n",
       "    </tr>\n",
       "    <tr>\n",
       "      <th>1339783</th>\n",
       "      <td>When did Intermediate School get rid of chairs...</td>\n",
       "      <td>anger</td>\n",
       "      <td>137</td>\n",
       "      <td>when did intermediate school get rid of chair ...</td>\n",
       "    </tr>\n",
       "    <tr>\n",
       "      <th>1339784</th>\n",
       "      <td>&amp;lt;3 &amp;lt;3 &amp;lt;3 &amp;lt;3 #happy</td>\n",
       "      <td>joy</td>\n",
       "      <td>30</td>\n",
       "      <td></td>\n",
       "    </tr>\n",
       "    <tr>\n",
       "      <th>1339787</th>\n",
       "      <td>i passed all my exams with a range from 70 to ...</td>\n",
       "      <td>joy</td>\n",
       "      <td>60</td>\n",
       "      <td>i passed all my exam with a range from to a</td>\n",
       "    </tr>\n",
       "    <tr>\n",
       "      <th>1339788</th>\n",
       "      <td>Woke up to Christian Beadles Voice&amp;lt;3 \\n#Hap...</td>\n",
       "      <td>joy</td>\n",
       "      <td>49</td>\n",
       "      <td>woke up to christian beadle voice</td>\n",
       "    </tr>\n",
       "    <tr>\n",
       "      <th>1339789</th>\n",
       "      <td>Luvs that I have my work schedule from now unt...</td>\n",
       "      <td>fear</td>\n",
       "      <td>76</td>\n",
       "      <td>luvs that i have my work schedule from now unt...</td>\n",
       "    </tr>\n",
       "    <tr>\n",
       "      <th>1339790</th>\n",
       "      <td>Twin will be here 2ma!! #excited</td>\n",
       "      <td>joy</td>\n",
       "      <td>32</td>\n",
       "      <td>twin will be here ma</td>\n",
       "    </tr>\n",
       "    <tr>\n",
       "      <th>1339791</th>\n",
       "      <td>Had to wake up early and come to the dentist.....</td>\n",
       "      <td>joy</td>\n",
       "      <td>51</td>\n",
       "      <td>had to wake up early and come to the dentist</td>\n",
       "    </tr>\n",
       "    <tr>\n",
       "      <th>1339792</th>\n",
       "      <td>@ThisIsNoise_ Oh hell yeah that'd be so awesom...</td>\n",
       "      <td>anger</td>\n",
       "      <td>88</td>\n",
       "      <td>oh hell yeah that would be so awesome like rea...</td>\n",
       "    </tr>\n",
       "    <tr>\n",
       "      <th>1339793</th>\n",
       "      <td>PORN! Now I have your attention I'm seeing @Al...</td>\n",
       "      <td>joy</td>\n",
       "      <td>94</td>\n",
       "      <td>porn now i have your attention i am seeing and...</td>\n",
       "    </tr>\n",
       "  </tbody>\n",
       "</table>\n",
       "<p>1080607 rows × 4 columns</p>\n",
       "</div>"
      ],
      "text/plain": [
       "                                                      text  emotion  len  \\\n",
       "5        If only everything could come with locally-gro...      joy  105   \n",
       "7        Just walked into a magic shop in a leafy subur...    anger   89   \n",
       "11       Congratulations @justinbieber! My World 2.0 ha...      joy  134   \n",
       "12       Fall leaves, classical music, crisp breeze. #B...      joy   50   \n",
       "13       Nothing makes you feel quite like a kid again ...      joy   79   \n",
       "14       Red Lobster just denied me the right to relive...  sadness  114   \n",
       "15       The Freedom Tower is a giant middle-finger sal...      joy  125   \n",
       "16       Pô bicho, se LCD não tem nada a ver com LSD en...  sadness  116   \n",
       "17       #dontactlike yu not nasty when yu had sex wit ...  sadness  109   \n",
       "19       many of u are seeing #NEVERSAYNEVER3D for the ...      joy  107   \n",
       "20       Tonight I play in Guatemala!! #tiestoontour #e...      joy   52   \n",
       "22       Some people think that the physical things def...  sadness   76   \n",
       "25       Se vieene el ultimo show israel!!! CON TODO!!!...      joy   57   \n",
       "28       I Understand Bitch Nigga u can't get bitches t...  sadness  110   \n",
       "29       why arent my tweets going thru?!?! awww. #frus...    anger   52   \n",
       "30       En casa de Mario celebrando su cumple y mi año...      joy   87   \n",
       "32        @Itslethalbitch I'm a #SteveJobsWhore and #Proud      joy   48   \n",
       "33       #wheniwasakid , rock paper scissors used to sl...  sadness  140   \n",
       "35       I hate being asked 21 fucking questions likke ...    anger   90   \n",
       "36       And to think all this time I thought Osama Bin...  sadness  113   \n",
       "37       When I look at Selena and Justin together, I L...    anger   96   \n",
       "42       God keeps makin' those gay people 'til the res...      joy  140   \n",
       "43       The annoyingest moment when a fricken bumblebe...    anger   80   \n",
       "44       Trying to use the wifi at starbucks on hollywo...    anger   93   \n",
       "45         It's judgement day, good luck everyone #nervous     fear   47   \n",
       "47       So blessed to be in Panama... but I'm really m...  sadness   78   \n",
       "51       If you're not gonna follow through don't act l...    anger   76   \n",
       "56       Waiting in line is a great opportunity to meet...      joy   96   \n",
       "57       To all of my personal reminders that tell me i...    anger  140   \n",
       "58       Today is the tomorrow that you worried about y...     fear   78   \n",
       "...                                                    ...      ...  ...   \n",
       "1339757          Ready to see her today:)#excited #goodday      joy   41   \n",
       "1339758  God is doing amazing things and I'm just grate...      joy   79   \n",
       "1339760  Oh my God. Me and @DCThrilla leave you guys fo...  sadness  140   \n",
       "1339761  Oh dude over here makes some weird noises.. #w...    anger   69   \n",
       "1339762  @charfany I'm not even 17 yet and I've still g...    anger   77   \n",
       "1339763  @Michael_Coxy heard your out on boxing day and...      joy   95   \n",
       "1339765  Joy bought me a pair of XL sized sweat pants f...      joy  138   \n",
       "1339767  I searched out my gloves last night....but cou...  sadness   88   \n",
       "1339768  @AustinMahone i'm envy with girl who followed ...  sadness  109   \n",
       "1339769  @usatriathlon My last long run before my marat...      joy  140   \n",
       "1339770              Gonna Miss The Match(s) !! #Shit #sad  sadness   37   \n",
       "1339771  Does Rustenburg have 3G....? My modem is soooo...    anger   67   \n",
       "1339772  Mommy/Daughter Bake Day! Sugar cookies, choc c...      joy  133   \n",
       "1339773   My best friends are hereeeee :) #happy #wolfpack      joy   48   \n",
       "1339774    met @arsenalnepal family today! day 2 :) #happy      joy   47   \n",
       "1339775  What a successful shopping trip, was there hal...      joy  102   \n",
       "1339776  I just found out that my grandfather was a vet...      joy   60   \n",
       "1339779  @MiaObrien_ sounds like a date ;) and wooo par...      joy  120   \n",
       "1339780       3 more days until Christmas & NBA ! #excited      joy   44   \n",
       "1339781  So the not so secret Santa is now tomorrow at ...      joy  132   \n",
       "1339782  Hating my iPhone battery life right now its de...    anger   89   \n",
       "1339783  When did Intermediate School get rid of chairs...    anger  137   \n",
       "1339784                     &lt;3 &lt;3 &lt;3 &lt;3 #happy      joy   30   \n",
       "1339787  i passed all my exams with a range from 70 to ...      joy   60   \n",
       "1339788  Woke up to Christian Beadles Voice&lt;3 \\n#Hap...      joy   49   \n",
       "1339789  Luvs that I have my work schedule from now unt...     fear   76   \n",
       "1339790                   Twin will be here 2ma!! #excited      joy   32   \n",
       "1339791  Had to wake up early and come to the dentist.....      joy   51   \n",
       "1339792  @ThisIsNoise_ Oh hell yeah that'd be so awesom...    anger   88   \n",
       "1339793  PORN! Now I have your attention I'm seeing @Al...      joy   94   \n",
       "\n",
       "                                                clean_text  \n",
       "5        if only everything could come with locally gro...  \n",
       "7        just walked into a magic shop in a leafy subur...  \n",
       "11       congratulation my world ha been in the top for...  \n",
       "12                  fall leaf classical music crisp breeze  \n",
       "13       nothing make you feel quite like a kid again l...  \n",
       "14       red lobster just denied me the right to relive...  \n",
       "15       the freedom tower is a giant middle finger sal...  \n",
       "16       pô bicho se lcd não tem nada a ver com lsd ent...  \n",
       "17       yu not nasty when yu had sex wit two nigga in ...  \n",
       "19       many of you are seeing for the first time nite...  \n",
       "20                             tonight i play in guatemala  \n",
       "22       some people think that the physical thing defi...  \n",
       "25                se vieene el ultimo show israel con todo  \n",
       "28       i understand bitch nigga you cannot get bitch ...  \n",
       "29                     why are not my tweet going thru aww  \n",
       "30       en casa de mario celebrando su cumple y mi año...  \n",
       "32                                              i am a and  \n",
       "33       rock paper scissors used to slove everything n...  \n",
       "35       i hate being asked fucking question likke i am...  \n",
       "36       and to think all this time i thought osama bin...  \n",
       "37       when i look at selena and justin together i li...  \n",
       "42       god keep makin those gay people til the rest f...  \n",
       "43       the annoyingest moment when a fricken bumblebe...  \n",
       "44       trying to use the wifi at starbucks on hollywo...  \n",
       "45                  it is judgement day good luck everyone  \n",
       "47       so blessed to be in panama but i am really mis...  \n",
       "51       if you are not going to follow through do not ...  \n",
       "56       waiting in line is a great opportunity to meet...  \n",
       "57       to all of my personal reminder that tell me i ...  \n",
       "58       today is the tomorrow that you worried about y...  \n",
       "...                                                    ...  \n",
       "1339757                             ready to see her today  \n",
       "1339758  god is doing amazing thing and i am just grate...  \n",
       "1339760  oh my god me and leave you guy for one day and...  \n",
       "1339761            oh dude over here make some weird noise  \n",
       "1339762  i am not even yet and i have still got month t...  \n",
       "1339763  heard your out on boxing day and i get to see ...  \n",
       "1339765  joy bought me a pair of xl sized sweat pant fo...  \n",
       "1339767  i searched out my glove last night but could o...  \n",
       "1339768  i am envy with girl who followed by you i just...  \n",
       "1339769  my last long run before my marathon ran mi got...  \n",
       "1339770                          going to miss the match s  \n",
       "1339771      doe rustenburg have g my modem is soo useless  \n",
       "1339772  mommy daughter bake day sugar cooky choc cover...  \n",
       "1339773                           my best friend are heree  \n",
       "1339774                               met family today day  \n",
       "1339775  what a successful shopping trip wa there half ...  \n",
       "1339776  i just found out that my grandfather wa a veteran  \n",
       "1339779  sound like a date and woo party dress and oo i...  \n",
       "1339780                       more day until christmas nba  \n",
       "1339781  so the not so secret santa is now tomorrow at ...  \n",
       "1339782  hating my iphone battery life right now it dea...  \n",
       "1339783  when did intermediate school get rid of chair ...  \n",
       "1339784                                                     \n",
       "1339787        i passed all my exam with a range from to a  \n",
       "1339788                  woke up to christian beadle voice  \n",
       "1339789  luvs that i have my work schedule from now unt...  \n",
       "1339790                               twin will be here ma  \n",
       "1339791       had to wake up early and come to the dentist  \n",
       "1339792  oh hell yeah that would be so awesome like rea...  \n",
       "1339793  porn now i have your attention i am seeing and...  \n",
       "\n",
       "[1080607 rows x 4 columns]"
      ]
     },
     "execution_count": 15,
     "metadata": {},
     "output_type": "execute_result"
    }
   ],
   "source": [
    "#preprocessing text\n",
    "preprocessing_text(twitter_df,'clean_text')"
   ]
  },
  {
   "cell_type": "code",
   "execution_count": 16,
   "metadata": {},
   "outputs": [],
   "source": [
    "#saving new data to sql table\n",
    "twitter_df.to_sql(\"preprocessed\", conn, if_exists='replace' , index = False)"
   ]
  },
  {
   "cell_type": "code",
   "execution_count": 17,
   "metadata": {},
   "outputs": [
    {
     "data": {
      "text/html": [
       "<div>\n",
       "<style scoped>\n",
       "    .dataframe tbody tr th:only-of-type {\n",
       "        vertical-align: middle;\n",
       "    }\n",
       "\n",
       "    .dataframe tbody tr th {\n",
       "        vertical-align: top;\n",
       "    }\n",
       "\n",
       "    .dataframe thead th {\n",
       "        text-align: right;\n",
       "    }\n",
       "</style>\n",
       "<table border=\"1\" class=\"dataframe\">\n",
       "  <thead>\n",
       "    <tr style=\"text-align: right;\">\n",
       "      <th></th>\n",
       "      <th>text</th>\n",
       "      <th>emotion</th>\n",
       "      <th>len</th>\n",
       "      <th>clean_text</th>\n",
       "    </tr>\n",
       "  </thead>\n",
       "  <tbody>\n",
       "    <tr>\n",
       "      <th>5</th>\n",
       "      <td>If only everything could come with locally-grown, organic micro-greens… oh, wait, EVERYTHING DOES! #bliss</td>\n",
       "      <td>joy</td>\n",
       "      <td>105</td>\n",
       "      <td>if only everything could come with locally grown organic micro green oh wait everything doe</td>\n",
       "    </tr>\n",
       "    <tr>\n",
       "      <th>7</th>\n",
       "      <td>Just walked into a magic shop in a leafy suburb that didn't sell the herald sun. #outrage</td>\n",
       "      <td>anger</td>\n",
       "      <td>89</td>\n",
       "      <td>just walked into a magic shop in a leafy suburb that did not sell the herald sun</td>\n",
       "    </tr>\n",
       "    <tr>\n",
       "      <th>11</th>\n",
       "      <td>Congratulations @justinbieber! My World 2.0 has been in the top 10 for 27 consecutive weeks, that hasn't been done since Nsync! #Proud</td>\n",
       "      <td>joy</td>\n",
       "      <td>134</td>\n",
       "      <td>congratulation my world ha been in the top for consecutive week that ha not been done since nsync</td>\n",
       "    </tr>\n",
       "    <tr>\n",
       "      <th>12</th>\n",
       "      <td>Fall leaves, classical music, crisp breeze. #Bliss</td>\n",
       "      <td>joy</td>\n",
       "      <td>50</td>\n",
       "      <td>fall leaf classical music crisp breeze</td>\n",
       "    </tr>\n",
       "    <tr>\n",
       "      <th>13</th>\n",
       "      <td>Nothing makes you feel quite like a kid again like peeing in the ocean:) #bliss</td>\n",
       "      <td>joy</td>\n",
       "      <td>79</td>\n",
       "      <td>nothing make you feel quite like a kid again like peeing in the ocean</td>\n",
       "    </tr>\n",
       "  </tbody>\n",
       "</table>\n",
       "</div>"
      ],
      "text/plain": [
       "                                                                                                                                      text  \\\n",
       "5   If only everything could come with locally-grown, organic micro-greens… oh, wait, EVERYTHING DOES! #bliss                                \n",
       "7   Just walked into a magic shop in a leafy suburb that didn't sell the herald sun. #outrage                                                \n",
       "11  Congratulations @justinbieber! My World 2.0 has been in the top 10 for 27 consecutive weeks, that hasn't been done since Nsync! #Proud   \n",
       "12  Fall leaves, classical music, crisp breeze. #Bliss                                                                                       \n",
       "13  Nothing makes you feel quite like a kid again like peeing in the ocean:) #bliss                                                          \n",
       "\n",
       "   emotion  len  \\\n",
       "5   joy     105   \n",
       "7   anger   89    \n",
       "11  joy     134   \n",
       "12  joy     50    \n",
       "13  joy     79    \n",
       "\n",
       "                                                                                           clean_text  \n",
       "5   if only everything could come with locally grown organic micro green oh wait everything doe        \n",
       "7   just walked into a magic shop in a leafy suburb that did not sell the herald sun                   \n",
       "11  congratulation my world ha been in the top for consecutive week that ha not been done since nsync  \n",
       "12  fall leaf classical music crisp breeze                                                             \n",
       "13  nothing make you feel quite like a kid again like peeing in the ocean                              "
      ]
     },
     "execution_count": 17,
     "metadata": {},
     "output_type": "execute_result"
    }
   ],
   "source": [
    "pd.set_option('display.max_colwidth', -1)\n",
    "twitter_df.head()"
   ]
  },
  {
   "cell_type": "markdown",
   "metadata": {},
   "source": [
    "- Will start by subsetting the data to those posts where text length is more than 25 characters, very short texts can end up with a small amount of words or no words at all after preprocessing.\n",
    "- Will apply undersampling to the data to avoid an unbalanced dataset for modeling."
   ]
  },
  {
   "cell_type": "code",
   "execution_count": 18,
   "metadata": {},
   "outputs": [],
   "source": [
    "#getting lenght again for preprocessed text\n",
    "twitter_df['len']= twitter_df['clean_text'].apply(lambda x: len(x))"
   ]
  },
  {
   "cell_type": "code",
   "execution_count": 19,
   "metadata": {},
   "outputs": [
    {
     "data": {
      "text/plain": [
       "Text(0.5, 0, 'Number of Characters')"
      ]
     },
     "execution_count": 19,
     "metadata": {},
     "output_type": "execute_result"
    },
    {
     "data": {
      "image/png": "[encoded data removed]",
      "text/plain": [
       "<Figure size 432x288 with 1 Axes>"
      ]
     },
     "metadata": {
      "needs_background": "light"
     },
     "output_type": "display_data"
    }
   ],
   "source": [
    "sns.distplot(twitter_df['len'],\n",
    "            color = 'Red',\n",
    "            kde=False)\n",
    "plt.title(\"Number of Characters in Tweets\")\n",
    "plt.ylabel('Number of tweets')\n",
    "plt.xlabel('Number of Characters',)"
   ]
  },
  {
   "cell_type": "code",
   "execution_count": 20,
   "metadata": {
    "scrolled": true
   },
   "outputs": [
    {
     "data": {
      "text/html": [
       "<div>\n",
       "<style scoped>\n",
       "    .dataframe tbody tr th:only-of-type {\n",
       "        vertical-align: middle;\n",
       "    }\n",
       "\n",
       "    .dataframe tbody tr th {\n",
       "        vertical-align: top;\n",
       "    }\n",
       "\n",
       "    .dataframe thead th {\n",
       "        text-align: right;\n",
       "    }\n",
       "</style>\n",
       "<table border=\"1\" class=\"dataframe\">\n",
       "  <thead>\n",
       "    <tr style=\"text-align: right;\">\n",
       "      <th></th>\n",
       "      <th>text</th>\n",
       "      <th>emotion</th>\n",
       "      <th>len</th>\n",
       "      <th>clean_text</th>\n",
       "    </tr>\n",
       "  </thead>\n",
       "  <tbody>\n",
       "    <tr>\n",
       "      <th>1317298</th>\n",
       "      <td>https://t.co/fdH3Td2O #Sad #Puvar !</td>\n",
       "      <td>sadness</td>\n",
       "      <td>0</td>\n",
       "      <td></td>\n",
       "    </tr>\n",
       "    <tr>\n",
       "      <th>654266</th>\n",
       "      <td>7- 6.8 - 6.5- 4.7- 7- 6.8  #proud</td>\n",
       "      <td>joy</td>\n",
       "      <td>0</td>\n",
       "      <td></td>\n",
       "    </tr>\n",
       "    <tr>\n",
       "      <th>12989</th>\n",
       "      <td>#FF &amp;gt; --&amp;gt; #HAPPY 11/11/11 @STIFF_CLICK @seriouslysexytv @EAT_her_TWEET @tiffanywedding @GadgetsWorld @BigFraud @Crimewatcher1</td>\n",
       "      <td>joy</td>\n",
       "      <td>0</td>\n",
       "      <td></td>\n",
       "    </tr>\n",
       "    <tr>\n",
       "      <th>12992</th>\n",
       "      <td>#FF &amp;gt; --&amp;gt; #HAPPY 11/11/11 @Sneakerhead9510 @gl_Healthy @LoveSexnBeauty @TeamFollowHero @BargainGiftCard @LegitLegends @IndyLaserCenter</td>\n",
       "      <td>joy</td>\n",
       "      <td>0</td>\n",
       "      <td></td>\n",
       "    </tr>\n",
       "    <tr>\n",
       "      <th>12995</th>\n",
       "      <td>#FF &amp;gt; --&amp;gt; #HAPPY 11/11/11 @KnittWittGlobal @mellyb36LS @LTDexperience @5Star_Promotion @TheFixYouNeed @Just4IPhone @PeaceLadyy</td>\n",
       "      <td>joy</td>\n",
       "      <td>0</td>\n",
       "      <td></td>\n",
       "    </tr>\n",
       "  </tbody>\n",
       "</table>\n",
       "</div>"
      ],
      "text/plain": [
       "                                                                                                                                                 text  \\\n",
       "1317298  https://t.co/fdH3Td2O #Sad #Puvar !                                                                                                            \n",
       "654266   7- 6.8 - 6.5- 4.7- 7- 6.8  #proud                                                                                                              \n",
       "12989    #FF &gt; --&gt; #HAPPY 11/11/11 @STIFF_CLICK @seriouslysexytv @EAT_her_TWEET @tiffanywedding @GadgetsWorld @BigFraud @Crimewatcher1            \n",
       "12992    #FF &gt; --&gt; #HAPPY 11/11/11 @Sneakerhead9510 @gl_Healthy @LoveSexnBeauty @TeamFollowHero @BargainGiftCard @LegitLegends @IndyLaserCenter   \n",
       "12995    #FF &gt; --&gt; #HAPPY 11/11/11 @KnittWittGlobal @mellyb36LS @LTDexperience @5Star_Promotion @TheFixYouNeed @Just4IPhone @PeaceLadyy           \n",
       "\n",
       "         emotion  len clean_text  \n",
       "1317298  sadness  0               \n",
       "654266   joy      0               \n",
       "12989    joy      0               \n",
       "12992    joy      0               \n",
       "12995    joy      0               "
      ]
     },
     "execution_count": 20,
     "metadata": {},
     "output_type": "execute_result"
    }
   ],
   "source": [
    "twitter_df.sort_values('len', ascending = True).head()"
   ]
  },
  {
   "cell_type": "code",
   "execution_count": 21,
   "metadata": {
    "scrolled": true
   },
   "outputs": [
    {
     "data": {
      "text/html": [
       "<div>\n",
       "<style scoped>\n",
       "    .dataframe tbody tr th:only-of-type {\n",
       "        vertical-align: middle;\n",
       "    }\n",
       "\n",
       "    .dataframe tbody tr th {\n",
       "        vertical-align: top;\n",
       "    }\n",
       "\n",
       "    .dataframe thead th {\n",
       "        text-align: right;\n",
       "    }\n",
       "</style>\n",
       "<table border=\"1\" class=\"dataframe\">\n",
       "  <thead>\n",
       "    <tr style=\"text-align: right;\">\n",
       "      <th></th>\n",
       "      <th>text</th>\n",
       "      <th>emotion</th>\n",
       "      <th>len</th>\n",
       "      <th>clean_text</th>\n",
       "    </tr>\n",
       "  </thead>\n",
       "  <tbody>\n",
       "    <tr>\n",
       "      <th>63827</th>\n",
       "      <td>Omg! My mom's friend was over for dinner and we started to talk about 1D and he said that he was gonna buy me there CD😃😄😃😄😃 #happy!!</td>\n",
       "      <td>joy</td>\n",
       "      <td>265</td>\n",
       "      <td>omg my mom s friend wa over for dinner and we started to talk about d and he said that he wa going to buy me there cd grinning_face_with_big_eyes grinning_face_with_smiling_eyes grinning_face_with_big_eyes grinning_face_with_smiling_eyes grinning_face_with_big_eyes</td>\n",
       "    </tr>\n",
       "    <tr>\n",
       "      <th>713358</th>\n",
       "      <td>Study history ☑ Study biology ☑ Make christmas wreath ☑ Make biology research ☑ History homework ☑ Filipino homework ☑ - #HAPPY</td>\n",
       "      <td>joy</td>\n",
       "      <td>238</td>\n",
       "      <td>study history ballot_box_with_check study biology ballot_box_with_check make christmas wreath ballot_box_with_check make biology research ballot_box_with_check history homework ballot_box_with_check filipino homework ballot_box_with_check</td>\n",
       "    </tr>\n",
       "    <tr>\n",
       "      <th>586437</th>\n",
       "      <td>Bikini☑ water☑ sunblock☑ alcohol☑ and my favourite @Mr__Wess ☑ its gonna be one hek of a weekend, I've began counting baby, #excited</td>\n",
       "      <td>joy</td>\n",
       "      <td>219</td>\n",
       "      <td>bikini ballot_box_with_check water ballot_box_with_check sunblock ballot_box_with_check alcohol ballot_box_with_check and my favourite ballot_box_with_check it going to be one hek of a weekend i have began counting baby</td>\n",
       "    </tr>\n",
       "    <tr>\n",
       "      <th>979818</th>\n",
       "      <td>@ashleydeimel We will chill this week. 😃😃😃😃 and @PlatinumTebb can come too. 😄 I am off Tuesday and Thursday! #excited</td>\n",
       "      <td>joy</td>\n",
       "      <td>214</td>\n",
       "      <td>we will chill this week grinning_face_with_big_eyes grinning_face_with_big_eyes grinning_face_with_big_eyes grinning_face_with_big_eyes and can come too grinning_face_with_smiling_eyes i am off tuesday and thursday</td>\n",
       "    </tr>\n",
       "    <tr>\n",
       "      <th>792869</th>\n",
       "      <td>My family in guatemala were so proud of me when they heard I was working full time and being a full time student 😁😉😃😊 #proud</td>\n",
       "      <td>joy</td>\n",
       "      <td>214</td>\n",
       "      <td>my family in guatemala were so proud of me when they heard i wa working full time and being a full time student beaming_face_with_smiling_eyes winking_face grinning_face_with_big_eyes smiling_face_with_smiling_eyes</td>\n",
       "    </tr>\n",
       "  </tbody>\n",
       "</table>\n",
       "</div>"
      ],
      "text/plain": [
       "                                                                                                                                        text  \\\n",
       "63827   Omg! My mom's friend was over for dinner and we started to talk about 1D and he said that he was gonna buy me there CD😃😄😃😄😃 #happy!!   \n",
       "713358  Study history ☑ Study biology ☑ Make christmas wreath ☑ Make biology research ☑ History homework ☑ Filipino homework ☑ - #HAPPY        \n",
       "586437  Bikini☑ water☑ sunblock☑ alcohol☑ and my favourite @Mr__Wess ☑ its gonna be one hek of a weekend, I've began counting baby, #excited   \n",
       "979818  @ashleydeimel We will chill this week. 😃😃😃😃 and @PlatinumTebb can come too. 😄 I am off Tuesday and Thursday! #excited                  \n",
       "792869  My family in guatemala were so proud of me when they heard I was working full time and being a full time student 😁😉😃😊 #proud           \n",
       "\n",
       "       emotion  len  \\\n",
       "63827   joy     265   \n",
       "713358  joy     238   \n",
       "586437  joy     219   \n",
       "979818  joy     214   \n",
       "792869  joy     214   \n",
       "\n",
       "                                                                                                                                                                                                                                                                       clean_text  \n",
       "63827   omg my mom s friend wa over for dinner and we started to talk about d and he said that he wa going to buy me there cd grinning_face_with_big_eyes grinning_face_with_smiling_eyes grinning_face_with_big_eyes grinning_face_with_smiling_eyes grinning_face_with_big_eyes  \n",
       "713358  study history ballot_box_with_check study biology ballot_box_with_check make christmas wreath ballot_box_with_check make biology research ballot_box_with_check history homework ballot_box_with_check filipino homework ballot_box_with_check                             \n",
       "586437  bikini ballot_box_with_check water ballot_box_with_check sunblock ballot_box_with_check alcohol ballot_box_with_check and my favourite ballot_box_with_check it going to be one hek of a weekend i have began counting baby                                                \n",
       "979818  we will chill this week grinning_face_with_big_eyes grinning_face_with_big_eyes grinning_face_with_big_eyes grinning_face_with_big_eyes and can come too grinning_face_with_smiling_eyes i am off tuesday and thursday                                                     \n",
       "792869  my family in guatemala were so proud of me when they heard i wa working full time and being a full time student beaming_face_with_smiling_eyes winking_face grinning_face_with_big_eyes smiling_face_with_smiling_eyes                                                     "
      ]
     },
     "execution_count": 21,
     "metadata": {},
     "output_type": "execute_result"
    }
   ],
   "source": [
    "twitter_df.sort_values('len', ascending = False).head()"
   ]
  },
  {
   "cell_type": "code",
   "execution_count": 22,
   "metadata": {},
   "outputs": [],
   "source": [
    "# #selecting posts with 25 characters or more\n",
    "twitter_df = twitter_df.loc[twitter_df.len>25]"
   ]
  },
  {
   "cell_type": "code",
   "execution_count": 23,
   "metadata": {
    "scrolled": true
   },
   "outputs": [
    {
     "data": {
      "text/html": [
       "<div>\n",
       "<style scoped>\n",
       "    .dataframe tbody tr th:only-of-type {\n",
       "        vertical-align: middle;\n",
       "    }\n",
       "\n",
       "    .dataframe tbody tr th {\n",
       "        vertical-align: top;\n",
       "    }\n",
       "\n",
       "    .dataframe thead th {\n",
       "        text-align: right;\n",
       "    }\n",
       "</style>\n",
       "<table border=\"1\" class=\"dataframe\">\n",
       "  <thead>\n",
       "    <tr style=\"text-align: right;\">\n",
       "      <th></th>\n",
       "      <th>text</th>\n",
       "      <th>emotion</th>\n",
       "      <th>len</th>\n",
       "      <th>clean_text</th>\n",
       "    </tr>\n",
       "  </thead>\n",
       "  <tbody>\n",
       "    <tr>\n",
       "      <th>883785</th>\n",
       "      <td>This weekends better be fun! #excited</td>\n",
       "      <td>joy</td>\n",
       "      <td>26</td>\n",
       "      <td>this weekend better be fun</td>\n",
       "    </tr>\n",
       "    <tr>\n",
       "      <th>339472</th>\n",
       "      <td>Shut upppp you talk too much. #annoyed</td>\n",
       "      <td>anger</td>\n",
       "      <td>26</td>\n",
       "      <td>shut upp you talk too much</td>\n",
       "    </tr>\n",
       "    <tr>\n",
       "      <th>859222</th>\n",
       "      <td>so ready for winter breaaak! (((: #excited #snowboarding</td>\n",
       "      <td>joy</td>\n",
       "      <td>26</td>\n",
       "      <td>so ready for winter breaak</td>\n",
       "    </tr>\n",
       "    <tr>\n",
       "      <th>339697</th>\n",
       "      <td>Waiting on this phone call #nervous!!!</td>\n",
       "      <td>fear</td>\n",
       "      <td>26</td>\n",
       "      <td>waiting on this phone call</td>\n",
       "    </tr>\n",
       "    <tr>\n",
       "      <th>339699</th>\n",
       "      <td>Feeling wayyy better todayy! &amp;lt;3 #happy</td>\n",
       "      <td>joy</td>\n",
       "      <td>26</td>\n",
       "      <td>feeling wayy better todayy</td>\n",
       "    </tr>\n",
       "  </tbody>\n",
       "</table>\n",
       "</div>"
      ],
      "text/plain": [
       "                                                            text emotion  len  \\\n",
       "883785  This weekends better be fun! #excited                     joy     26    \n",
       "339472  Shut upppp you talk too much. #annoyed                    anger   26    \n",
       "859222  so ready for winter breaaak! (((: #excited #snowboarding  joy     26    \n",
       "339697  Waiting on this phone call #nervous!!!                    fear    26    \n",
       "339699  Feeling wayyy better todayy! &lt;3 #happy                 joy     26    \n",
       "\n",
       "                        clean_text  \n",
       "883785  this weekend better be fun  \n",
       "339472  shut upp you talk too much  \n",
       "859222  so ready for winter breaak  \n",
       "339697  waiting on this phone call  \n",
       "339699  feeling wayy better todayy  "
      ]
     },
     "execution_count": 23,
     "metadata": {},
     "output_type": "execute_result"
    }
   ],
   "source": [
    "twitter_df.sort_values('len', ascending = True).head(5)"
   ]
  },
  {
   "cell_type": "code",
   "execution_count": 24,
   "metadata": {
    "scrolled": true
   },
   "outputs": [
    {
     "data": {
      "text/html": [
       "<div>\n",
       "<style scoped>\n",
       "    .dataframe tbody tr th:only-of-type {\n",
       "        vertical-align: middle;\n",
       "    }\n",
       "\n",
       "    .dataframe tbody tr th {\n",
       "        vertical-align: top;\n",
       "    }\n",
       "\n",
       "    .dataframe thead th {\n",
       "        text-align: right;\n",
       "    }\n",
       "</style>\n",
       "<table border=\"1\" class=\"dataframe\">\n",
       "  <thead>\n",
       "    <tr style=\"text-align: right;\">\n",
       "      <th></th>\n",
       "      <th>text</th>\n",
       "      <th>emotion</th>\n",
       "      <th>len</th>\n",
       "      <th>clean_text</th>\n",
       "    </tr>\n",
       "  </thead>\n",
       "  <tbody>\n",
       "    <tr>\n",
       "      <th>979818</th>\n",
       "      <td>@ashleydeimel We will chill this week. 😃😃😃😃 and @PlatinumTebb can come too. 😄 I am off Tuesday and Thursday! #excited</td>\n",
       "      <td>joy</td>\n",
       "      <td>214</td>\n",
       "      <td>we will chill this week grinning_face_with_big_eyes grinning_face_with_big_eyes grinning_face_with_big_eyes grinning_face_with_big_eyes and can come too grinning_face_with_smiling_eyes i am off tuesday and thursday</td>\n",
       "    </tr>\n",
       "    <tr>\n",
       "      <th>792869</th>\n",
       "      <td>My family in guatemala were so proud of me when they heard I was working full time and being a full time student 😁😉😃😊 #proud</td>\n",
       "      <td>joy</td>\n",
       "      <td>214</td>\n",
       "      <td>my family in guatemala were so proud of me when they heard i wa working full time and being a full time student beaming_face_with_smiling_eyes winking_face grinning_face_with_big_eyes smiling_face_with_smiling_eyes</td>\n",
       "    </tr>\n",
       "    <tr>\n",
       "      <th>586437</th>\n",
       "      <td>Bikini☑ water☑ sunblock☑ alcohol☑ and my favourite @Mr__Wess ☑ its gonna be one hek of a weekend, I've began counting baby, #excited</td>\n",
       "      <td>joy</td>\n",
       "      <td>219</td>\n",
       "      <td>bikini ballot_box_with_check water ballot_box_with_check sunblock ballot_box_with_check alcohol ballot_box_with_check and my favourite ballot_box_with_check it going to be one hek of a weekend i have began counting baby</td>\n",
       "    </tr>\n",
       "    <tr>\n",
       "      <th>713358</th>\n",
       "      <td>Study history ☑ Study biology ☑ Make christmas wreath ☑ Make biology research ☑ History homework ☑ Filipino homework ☑ - #HAPPY</td>\n",
       "      <td>joy</td>\n",
       "      <td>238</td>\n",
       "      <td>study history ballot_box_with_check study biology ballot_box_with_check make christmas wreath ballot_box_with_check make biology research ballot_box_with_check history homework ballot_box_with_check filipino homework ballot_box_with_check</td>\n",
       "    </tr>\n",
       "    <tr>\n",
       "      <th>63827</th>\n",
       "      <td>Omg! My mom's friend was over for dinner and we started to talk about 1D and he said that he was gonna buy me there CD😃😄😃😄😃 #happy!!</td>\n",
       "      <td>joy</td>\n",
       "      <td>265</td>\n",
       "      <td>omg my mom s friend wa over for dinner and we started to talk about d and he said that he wa going to buy me there cd grinning_face_with_big_eyes grinning_face_with_smiling_eyes grinning_face_with_big_eyes grinning_face_with_smiling_eyes grinning_face_with_big_eyes</td>\n",
       "    </tr>\n",
       "  </tbody>\n",
       "</table>\n",
       "</div>"
      ],
      "text/plain": [
       "                                                                                                                                        text  \\\n",
       "979818  @ashleydeimel We will chill this week. 😃😃😃😃 and @PlatinumTebb can come too. 😄 I am off Tuesday and Thursday! #excited                  \n",
       "792869  My family in guatemala were so proud of me when they heard I was working full time and being a full time student 😁😉😃😊 #proud           \n",
       "586437  Bikini☑ water☑ sunblock☑ alcohol☑ and my favourite @Mr__Wess ☑ its gonna be one hek of a weekend, I've began counting baby, #excited   \n",
       "713358  Study history ☑ Study biology ☑ Make christmas wreath ☑ Make biology research ☑ History homework ☑ Filipino homework ☑ - #HAPPY        \n",
       "63827   Omg! My mom's friend was over for dinner and we started to talk about 1D and he said that he was gonna buy me there CD😃😄😃😄😃 #happy!!   \n",
       "\n",
       "       emotion  len  \\\n",
       "979818  joy     214   \n",
       "792869  joy     214   \n",
       "586437  joy     219   \n",
       "713358  joy     238   \n",
       "63827   joy     265   \n",
       "\n",
       "                                                                                                                                                                                                                                                                       clean_text  \n",
       "979818  we will chill this week grinning_face_with_big_eyes grinning_face_with_big_eyes grinning_face_with_big_eyes grinning_face_with_big_eyes and can come too grinning_face_with_smiling_eyes i am off tuesday and thursday                                                     \n",
       "792869  my family in guatemala were so proud of me when they heard i wa working full time and being a full time student beaming_face_with_smiling_eyes winking_face grinning_face_with_big_eyes smiling_face_with_smiling_eyes                                                     \n",
       "586437  bikini ballot_box_with_check water ballot_box_with_check sunblock ballot_box_with_check alcohol ballot_box_with_check and my favourite ballot_box_with_check it going to be one hek of a weekend i have began counting baby                                                \n",
       "713358  study history ballot_box_with_check study biology ballot_box_with_check make christmas wreath ballot_box_with_check make biology research ballot_box_with_check history homework ballot_box_with_check filipino homework ballot_box_with_check                             \n",
       "63827   omg my mom s friend wa over for dinner and we started to talk about d and he said that he wa going to buy me there cd grinning_face_with_big_eyes grinning_face_with_smiling_eyes grinning_face_with_big_eyes grinning_face_with_smiling_eyes grinning_face_with_big_eyes  "
      ]
     },
     "execution_count": 24,
     "metadata": {},
     "output_type": "execute_result"
    }
   ],
   "source": [
    "twitter_df.sort_values('len', ascending = True).tail(5)"
   ]
  },
  {
   "cell_type": "code",
   "execution_count": 25,
   "metadata": {},
   "outputs": [],
   "source": [
    "#saving new data to sql table\n",
    "twitter_df.to_sql(\"post_25_len\", conn, if_exists='replace' , index = False)"
   ]
  },
  {
   "cell_type": "code",
   "execution_count": 26,
   "metadata": {
    "scrolled": true
   },
   "outputs": [
    {
     "data": {
      "text/plain": [
       "joy        318870\n",
       "sadness    288964\n",
       "anger      260956\n",
       "fear       60252 \n",
       "Name: emotion, dtype: int64"
      ]
     },
     "execution_count": 26,
     "metadata": {},
     "output_type": "execute_result"
    }
   ],
   "source": [
    "#Review counts for subsetted data\n",
    "twitter_df.emotion.value_counts()"
   ]
  },
  {
   "cell_type": "markdown",
   "metadata": {},
   "source": [
    "## Undersampling \n",
    "\n",
    "- Will select the emotions fear, anger, joy, and sadness. \n",
    "- fear label has the smallest amount ** (~65k) of records\n",
    "- Will select 80k random records for the other three labels "
   ]
  },
  {
   "cell_type": "code",
   "execution_count": 27,
   "metadata": {},
   "outputs": [
    {
     "name": "stdout",
     "output_type": "stream",
     "text": [
      "<class 'pandas.core.frame.DataFrame'>\n",
      "RangeIndex: 60252 entries, 0 to 60251\n",
      "Data columns (total 3 columns):\n",
      "text          60252 non-null object\n",
      "emotion       60252 non-null object\n",
      "clean_text    60252 non-null object\n",
      "dtypes: object(3)\n",
      "memory usage: 1.4+ MB\n"
     ]
    }
   ],
   "source": [
    "fear = pd.read_sql_query(\"\"\"SELECT text, emotion,clean_text  \n",
    "                        FROM post_25_len \n",
    "                        WHERE emotion = 'fear'\n",
    "                        \"\"\", conn)\n",
    "fear.info()"
   ]
  },
  {
   "cell_type": "code",
   "execution_count": 28,
   "metadata": {},
   "outputs": [
    {
     "name": "stdout",
     "output_type": "stream",
     "text": [
      "<class 'pandas.core.frame.DataFrame'>\n",
      "RangeIndex: 80000 entries, 0 to 79999\n",
      "Data columns (total 3 columns):\n",
      "text          80000 non-null object\n",
      "emotion       80000 non-null object\n",
      "clean_text    80000 non-null object\n",
      "dtypes: object(3)\n",
      "memory usage: 1.8+ MB\n"
     ]
    }
   ],
   "source": [
    "joy = pd.read_sql_query(\"\"\"SELECT text, emotion,clean_text  \n",
    "                        FROM post_25_len \n",
    "                        WHERE emotion = 'joy'\n",
    "                        ORDER BY RANDOM() LIMIT 80000;\"\"\", conn)\n",
    "joy.info()"
   ]
  },
  {
   "cell_type": "code",
   "execution_count": 29,
   "metadata": {},
   "outputs": [
    {
     "name": "stdout",
     "output_type": "stream",
     "text": [
      "<class 'pandas.core.frame.DataFrame'>\n",
      "RangeIndex: 80000 entries, 0 to 79999\n",
      "Data columns (total 3 columns):\n",
      "text          80000 non-null object\n",
      "emotion       80000 non-null object\n",
      "clean_text    80000 non-null object\n",
      "dtypes: object(3)\n",
      "memory usage: 1.8+ MB\n"
     ]
    }
   ],
   "source": [
    "anger = pd.read_sql_query(\"\"\"SELECT text, emotion,clean_text  \n",
    "                        FROM post_25_len  \n",
    "                        WHERE emotion = 'anger'\n",
    "                        ORDER BY RANDOM() LIMIT 80000;\"\"\", conn)\n",
    "anger.info()"
   ]
  },
  {
   "cell_type": "code",
   "execution_count": 30,
   "metadata": {},
   "outputs": [
    {
     "name": "stdout",
     "output_type": "stream",
     "text": [
      "<class 'pandas.core.frame.DataFrame'>\n",
      "RangeIndex: 80000 entries, 0 to 79999\n",
      "Data columns (total 3 columns):\n",
      "text          80000 non-null object\n",
      "emotion       80000 non-null object\n",
      "clean_text    80000 non-null object\n",
      "dtypes: object(3)\n",
      "memory usage: 1.8+ MB\n"
     ]
    }
   ],
   "source": [
    "sadness = pd.read_sql_query(\"\"\"SELECT text, emotion,clean_text  \n",
    "                        FROM post_25_len  \n",
    "                        WHERE emotion = 'sadness'\n",
    "                        ORDER BY RANDOM() LIMIT 80000;\"\"\", conn)\n",
    "sadness.info()"
   ]
  },
  {
   "cell_type": "code",
   "execution_count": 31,
   "metadata": {},
   "outputs": [],
   "source": [
    "twitter_df = pd.concat([sadness, fear, joy, anger], axis = 0, sort=True)"
   ]
  },
  {
   "cell_type": "code",
   "execution_count": 32,
   "metadata": {},
   "outputs": [
    {
     "name": "stdout",
     "output_type": "stream",
     "text": [
      "<class 'pandas.core.frame.DataFrame'>\n",
      "Int64Index: 300252 entries, 0 to 79999\n",
      "Data columns (total 3 columns):\n",
      "clean_text    300252 non-null object\n",
      "emotion       300252 non-null object\n",
      "text          300252 non-null object\n",
      "dtypes: object(3)\n",
      "memory usage: 9.2+ MB\n"
     ]
    }
   ],
   "source": [
    "twitter_df.info()"
   ]
  },
  {
   "cell_type": "code",
   "execution_count": 33,
   "metadata": {
    "scrolled": true
   },
   "outputs": [
    {
     "data": {
      "text/plain": [
       "joy        80000\n",
       "anger      80000\n",
       "sadness    80000\n",
       "fear       60252\n",
       "Name: emotion, dtype: int64"
      ]
     },
     "execution_count": 33,
     "metadata": {},
     "output_type": "execute_result"
    }
   ],
   "source": [
    "#Review counts for subsetted data\n",
    "twitter_df.emotion.value_counts()"
   ]
  },
  {
   "cell_type": "code",
   "execution_count": 34,
   "metadata": {},
   "outputs": [],
   "source": [
    "#saving preprocessed data for any future rerun\n",
    "twitter_df.to_sql(\"emotions_preprocessed\", conn, if_exists='replace' , index = False)\n",
    "conn.commit()"
   ]
  },
  {
   "cell_type": "code",
   "execution_count": 35,
   "metadata": {},
   "outputs": [],
   "source": [
    "conn.close()"
   ]
  }
 ],
 "metadata": {
  "kernelspec": {
   "display_name": "Python 3",
   "language": "python",
   "name": "python3"
  },
  "language_info": {
   "codemirror_mode": {
    "name": "ipython",
    "version": 3
   },
   "file_extension": ".py",
   "mimetype": "text/x-python",
   "name": "python",
   "nbconvert_exporter": "python",
   "pygments_lexer": "ipython3",
   "version": "3.7.3"
  }
 },
 "nbformat": 4,
 "nbformat_minor": 2
}
