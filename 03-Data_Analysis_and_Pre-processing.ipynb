{
 "cells": [
  {
   "cell_type": "markdown",
   "metadata": {},
   "source": [
    "## Importing libraries"
   ]
  },
  {
   "cell_type": "code",
   "execution_count": 125,
   "metadata": {},
   "outputs": [],
   "source": [
    "import pandas as pd\n",
    "import numpy as np\n",
    "import sqlite3\n",
    "\n",
    "import matplotlib.pyplot as plt\n",
    "import seaborn as sns\n",
    "\n",
    "######preprocessing text######\n",
    "\n",
    "#regular expressions for preprocessing text\n",
    "import re\n",
    "\n",
    "#manipulating contractions in text\n",
    "from pycontractions import Contractions\n",
    "\n",
    "# custom script\n",
    "from preprocessing import remove_hashtags, ReplaceThreeOrMore\n",
    "\n",
    "#deemojize\n",
    "import emoji\n",
    "\n",
    "#lemmatization\n",
    "from textblob import Word\n",
    "\n",
    "\n",
    "\n",
    "from sklearn import preprocessing\n",
    "#encoder\n",
    "from sklearn.preprocessing import LabelEncoder\n",
    "from sklearn.preprocessing import OneHotEncoder\n",
    "#tokenization\n",
    "from keras.preprocessing.text import Tokenizer\n",
    "\n",
    "from keras.utils import to_categorical\n",
    "\n",
    "import random\n",
    "\n",
    "#modeling\n",
    "\n",
    "from keras import models\n",
    "from keras import layers\n",
    "from keras.layers import Lambda, Dense, Dropout\n",
    "from keras.callbacks import  EarlyStopping\n",
    "\n",
    "# to save model\n",
    "import pickle\n",
    "from keras.models import Sequential, model_from_json\n",
    "\n",
    "\n",
    "import sqlite3\n",
    "\n",
    "# #for word embedding\n",
    "# ModelCheckpoint,\n",
    "# import pydot\n",
    "\n",
    "\n",
    "\n",
    "\n",
    "\n",
    "# from wordsegment import load, segment\n",
    "# import codecs\n",
    "# import unidecode\n",
    "\n",
    "# import spacy\n",
    "# nlp = spacy.load('en_core_web_sm')\n",
    "\n",
    "\n",
    "# import textblob\n",
    "# from textblob import TextBlob\n",
    "\n",
    "# import nltk\n",
    "# from nltk.corpus import stopwords\n",
    "\n",
    "\n",
    "\n",
    "# from keras.models import load_model\n",
    "# from keras.models import model_from_json\n",
    "\n",
    "# from keras import backend as K\n",
    "# from keras.layers.convolutional import Convolution1D\n",
    "\n",
    "\n",
    "\n",
    "# import keras\n",
    "# import keras.utils\n",
    "\n",
    "\n",
    "# import matplotlib.pyplot as plt\n",
    "# %matplotlib inline"
   ]
  },
  {
   "cell_type": "markdown",
   "metadata": {},
   "source": [
    "## Import Data"
   ]
  },
  {
   "cell_type": "code",
   "execution_count": 2,
   "metadata": {},
   "outputs": [],
   "source": [
    "conn = sqlite3.connect( r\"./data/emotion.db\")\n",
    "c = conn.cursor()"
   ]
  },
  {
   "cell_type": "code",
   "execution_count": 3,
   "metadata": {},
   "outputs": [],
   "source": [
    "twitter_df = pd.read_sql_query(\"SELECT text,emotion FROM emotions;\", conn)"
   ]
  },
  {
   "cell_type": "code",
   "execution_count": 40,
   "metadata": {},
   "outputs": [],
   "source": [
    "counts = pd.read_sql_query(\"\"\"SELECT emotion, count(emotion) as count \n",
    "                            FROM emotions\n",
    "                            GROUP BY emotion\n",
    "                            ORDER BY count DESC;\"\"\", conn)"
   ]
  },
  {
   "cell_type": "code",
   "execution_count": 41,
   "metadata": {},
   "outputs": [
    {
     "data": {
      "text/html": [
       "<div>\n",
       "<style scoped>\n",
       "    .dataframe tbody tr th:only-of-type {\n",
       "        vertical-align: middle;\n",
       "    }\n",
       "\n",
       "    .dataframe tbody tr th {\n",
       "        vertical-align: top;\n",
       "    }\n",
       "\n",
       "    .dataframe thead th {\n",
       "        text-align: right;\n",
       "    }\n",
       "</style>\n",
       "<table border=\"1\" class=\"dataframe\">\n",
       "  <thead>\n",
       "    <tr style=\"text-align: right;\">\n",
       "      <th></th>\n",
       "      <th>emotion</th>\n",
       "      <th>count</th>\n",
       "    </tr>\n",
       "  </thead>\n",
       "  <tbody>\n",
       "    <tr>\n",
       "      <th>0</th>\n",
       "      <td>joy</td>\n",
       "      <td>386601</td>\n",
       "    </tr>\n",
       "    <tr>\n",
       "      <th>1</th>\n",
       "      <td>sadness</td>\n",
       "      <td>330432</td>\n",
       "    </tr>\n",
       "    <tr>\n",
       "      <th>2</th>\n",
       "      <td>anger</td>\n",
       "      <td>291480</td>\n",
       "    </tr>\n",
       "    <tr>\n",
       "      <th>3</th>\n",
       "      <td>love</td>\n",
       "      <td>167715</td>\n",
       "    </tr>\n",
       "    <tr>\n",
       "      <th>4</th>\n",
       "      <td>thankfulness</td>\n",
       "      <td>78228</td>\n",
       "    </tr>\n",
       "    <tr>\n",
       "      <th>5</th>\n",
       "      <td>fear</td>\n",
       "      <td>72094</td>\n",
       "    </tr>\n",
       "    <tr>\n",
       "      <th>6</th>\n",
       "      <td>surprise</td>\n",
       "      <td>13244</td>\n",
       "    </tr>\n",
       "  </tbody>\n",
       "</table>\n",
       "</div>"
      ],
      "text/plain": [
       "        emotion   count\n",
       "0           joy  386601\n",
       "1       sadness  330432\n",
       "2         anger  291480\n",
       "3          love  167715\n",
       "4  thankfulness   78228\n",
       "5          fear   72094\n",
       "6      surprise   13244"
      ]
     },
     "execution_count": 41,
     "metadata": {},
     "output_type": "execute_result"
    }
   ],
   "source": [
    "counts"
   ]
  },
  {
   "cell_type": "code",
   "execution_count": 36,
   "metadata": {
    "scrolled": true
   },
   "outputs": [
    {
     "name": "stdout",
     "output_type": "stream",
     "text": [
      "<class 'pandas.core.frame.DataFrame'>\n",
      "RangeIndex: 1339794 entries, 0 to 1339793\n",
      "Data columns (total 2 columns):\n",
      "text       1339794 non-null object\n",
      "emotion    1339794 non-null object\n",
      "dtypes: object(2)\n",
      "memory usage: 20.4+ MB\n"
     ]
    }
   ],
   "source": [
    "twitter_df.info()"
   ]
  },
  {
   "cell_type": "code",
   "execution_count": 37,
   "metadata": {},
   "outputs": [
    {
     "data": {
      "text/plain": [
       "(1339794, 2)"
      ]
     },
     "execution_count": 37,
     "metadata": {},
     "output_type": "execute_result"
    }
   ],
   "source": [
    "twitter_df.shape"
   ]
  },
  {
   "cell_type": "code",
   "execution_count": 38,
   "metadata": {
    "scrolled": false
   },
   "outputs": [
    {
     "data": {
      "text/html": [
       "<div>\n",
       "<style scoped>\n",
       "    .dataframe tbody tr th:only-of-type {\n",
       "        vertical-align: middle;\n",
       "    }\n",
       "\n",
       "    .dataframe tbody tr th {\n",
       "        vertical-align: top;\n",
       "    }\n",
       "\n",
       "    .dataframe thead th {\n",
       "        text-align: right;\n",
       "    }\n",
       "</style>\n",
       "<table border=\"1\" class=\"dataframe\">\n",
       "  <thead>\n",
       "    <tr style=\"text-align: right;\">\n",
       "      <th></th>\n",
       "      <th>text</th>\n",
       "      <th>emotion</th>\n",
       "    </tr>\n",
       "  </thead>\n",
       "  <tbody>\n",
       "    <tr>\n",
       "      <th>0</th>\n",
       "      <td>Be gentle with yourself for we all fall down, ...</td>\n",
       "      <td>love</td>\n",
       "    </tr>\n",
       "    <tr>\n",
       "      <th>1</th>\n",
       "      <td>Weeding out negative thoughts allows inspirati...</td>\n",
       "      <td>love</td>\n",
       "    </tr>\n",
       "    <tr>\n",
       "      <th>2</th>\n",
       "      <td>There is a great divine plan to everything, ev...</td>\n",
       "      <td>love</td>\n",
       "    </tr>\n",
       "    <tr>\n",
       "      <th>3</th>\n",
       "      <td>i was asked a question.: What am i more afraid...</td>\n",
       "      <td>love</td>\n",
       "    </tr>\n",
       "    <tr>\n",
       "      <th>4</th>\n",
       "      <td>A #Libra doesn't play with #love</td>\n",
       "      <td>love</td>\n",
       "    </tr>\n",
       "  </tbody>\n",
       "</table>\n",
       "</div>"
      ],
      "text/plain": [
       "                                                text emotion\n",
       "0  Be gentle with yourself for we all fall down, ...    love\n",
       "1  Weeding out negative thoughts allows inspirati...    love\n",
       "2  There is a great divine plan to everything, ev...    love\n",
       "3  i was asked a question.: What am i more afraid...    love\n",
       "4                   A #Libra doesn't play with #love    love"
      ]
     },
     "execution_count": 38,
     "metadata": {},
     "output_type": "execute_result"
    }
   ],
   "source": [
    "twitter_df.head()"
   ]
  },
  {
   "cell_type": "code",
   "execution_count": 63,
   "metadata": {
    "scrolled": false
   },
   "outputs": [
    {
     "data": {
      "image/png": "[encoded data removed]",
      "text/plain": [
       "<Figure size 432x288 with 1 Axes>"
      ]
     },
     "metadata": {
      "needs_background": "light"
     },
     "output_type": "display_data"
    }
   ],
   "source": [
    "ax = sns.barplot(x='emotion',\n",
    "                 y='count',\n",
    "                 data=counts,\n",
    "                 palette = 'Reds'\n",
    "                 \n",
    "                 )\n",
    "plt.title(\"Tweets for each Emotion\", fontsize=24)\n",
    "plt.ylabel('Number of Tweets', fontsize=18)\n",
    "plt.xlabel('Tweet Type ', fontsize=18 )\n",
    "plt.xticks(rotation=45)\n",
    "plt.show()"
   ]
  },
  {
   "cell_type": "markdown",
   "metadata": {},
   "source": [
    "## Undersampling \n",
    "\n",
    "- Will select the emotions fear, anger, joy, and sadness. \n",
    "- fear label has the smallest amount (~72k) of records\n",
    "- Will select 80k random records for the other three labels "
   ]
  },
  {
   "cell_type": "code",
   "execution_count": 69,
   "metadata": {},
   "outputs": [
    {
     "name": "stdout",
     "output_type": "stream",
     "text": [
      "<class 'pandas.core.frame.DataFrame'>\n",
      "RangeIndex: 72094 entries, 0 to 72093\n",
      "Data columns (total 3 columns):\n",
      "index      72094 non-null int64\n",
      "text       72094 non-null object\n",
      "emotion    72094 non-null object\n",
      "dtypes: int64(1), object(2)\n",
      "memory usage: 1.7+ MB\n"
     ]
    }
   ],
   "source": [
    "fear = twitter_df.loc[twitter_df.emotion == 'fear'].reset_index()\n",
    "fear.info()"
   ]
  },
  {
   "cell_type": "code",
   "execution_count": 70,
   "metadata": {},
   "outputs": [
    {
     "name": "stdout",
     "output_type": "stream",
     "text": [
      "<class 'pandas.core.frame.DataFrame'>\n",
      "RangeIndex: 80000 entries, 0 to 79999\n",
      "Data columns (total 2 columns):\n",
      "text       80000 non-null object\n",
      "emotion    80000 non-null object\n",
      "dtypes: object(2)\n",
      "memory usage: 1.2+ MB\n"
     ]
    }
   ],
   "source": [
    "joy = pd.read_sql_query(\"\"\"SELECT text, emotion  \n",
    "                        FROM emotions \n",
    "                        WHERE emotion = 'joy'\n",
    "                        ORDER BY RANDOM() LIMIT 80000;\"\"\", conn)\n",
    "joy.info()"
   ]
  },
  {
   "cell_type": "code",
   "execution_count": 71,
   "metadata": {},
   "outputs": [
    {
     "name": "stdout",
     "output_type": "stream",
     "text": [
      "<class 'pandas.core.frame.DataFrame'>\n",
      "RangeIndex: 80000 entries, 0 to 79999\n",
      "Data columns (total 2 columns):\n",
      "text       80000 non-null object\n",
      "emotion    80000 non-null object\n",
      "dtypes: object(2)\n",
      "memory usage: 1.2+ MB\n"
     ]
    }
   ],
   "source": [
    "anger = pd.read_sql_query(\"\"\"SELECT text, emotion  \n",
    "                        FROM emotions \n",
    "                        WHERE emotion = 'anger'\n",
    "                        ORDER BY RANDOM() LIMIT 80000;\"\"\", conn)\n",
    "anger.info()"
   ]
  },
  {
   "cell_type": "code",
   "execution_count": 72,
   "metadata": {},
   "outputs": [
    {
     "name": "stdout",
     "output_type": "stream",
     "text": [
      "<class 'pandas.core.frame.DataFrame'>\n",
      "RangeIndex: 80000 entries, 0 to 79999\n",
      "Data columns (total 2 columns):\n",
      "text       80000 non-null object\n",
      "emotion    80000 non-null object\n",
      "dtypes: object(2)\n",
      "memory usage: 1.2+ MB\n"
     ]
    }
   ],
   "source": [
    "sadness = pd.read_sql_query(\"\"\"SELECT text, emotion  \n",
    "                        FROM emotions \n",
    "                        WHERE emotion = 'sadness'\n",
    "                        ORDER BY RANDOM() LIMIT 80000;\"\"\", conn)\n",
    "sadness.info()"
   ]
  },
  {
   "cell_type": "code",
   "execution_count": 86,
   "metadata": {},
   "outputs": [],
   "source": [
    "twitter_df = pd.concat([sadness, fear, joy, anger], axis = 0 , sort = True).drop(columns ='index')"
   ]
  },
  {
   "cell_type": "code",
   "execution_count": 87,
   "metadata": {},
   "outputs": [
    {
     "name": "stdout",
     "output_type": "stream",
     "text": [
      "<class 'pandas.core.frame.DataFrame'>\n",
      "Int64Index: 312094 entries, 0 to 79999\n",
      "Data columns (total 2 columns):\n",
      "emotion    312094 non-null object\n",
      "text       312094 non-null object\n",
      "dtypes: object(2)\n",
      "memory usage: 7.1+ MB\n"
     ]
    }
   ],
   "source": [
    "twitter_df.info()"
   ]
  },
  {
   "cell_type": "code",
   "execution_count": 88,
   "metadata": {},
   "outputs": [],
   "source": [
    "twitter_df.to_sql(\"emotions_subset\", conn, if_exists=\"append\" , index = False)\n",
    "conn.commit()"
   ]
  },
  {
   "cell_type": "code",
   "execution_count": 89,
   "metadata": {},
   "outputs": [],
   "source": [
    "counts = pd.read_sql_query(\"\"\"SELECT emotion, count(emotion) as count \n",
    "                            FROM emotions_subset\n",
    "                            GROUP BY emotion\n",
    "                            ORDER BY count DESC;\"\"\", conn)"
   ]
  },
  {
   "cell_type": "code",
   "execution_count": 90,
   "metadata": {},
   "outputs": [
    {
     "data": {
      "text/html": [
       "<div>\n",
       "<style scoped>\n",
       "    .dataframe tbody tr th:only-of-type {\n",
       "        vertical-align: middle;\n",
       "    }\n",
       "\n",
       "    .dataframe tbody tr th {\n",
       "        vertical-align: top;\n",
       "    }\n",
       "\n",
       "    .dataframe thead th {\n",
       "        text-align: right;\n",
       "    }\n",
       "</style>\n",
       "<table border=\"1\" class=\"dataframe\">\n",
       "  <thead>\n",
       "    <tr style=\"text-align: right;\">\n",
       "      <th></th>\n",
       "      <th>emotion</th>\n",
       "      <th>count</th>\n",
       "    </tr>\n",
       "  </thead>\n",
       "  <tbody>\n",
       "    <tr>\n",
       "      <th>0</th>\n",
       "      <td>anger</td>\n",
       "      <td>80000</td>\n",
       "    </tr>\n",
       "    <tr>\n",
       "      <th>1</th>\n",
       "      <td>joy</td>\n",
       "      <td>80000</td>\n",
       "    </tr>\n",
       "    <tr>\n",
       "      <th>2</th>\n",
       "      <td>sadness</td>\n",
       "      <td>80000</td>\n",
       "    </tr>\n",
       "    <tr>\n",
       "      <th>3</th>\n",
       "      <td>fear</td>\n",
       "      <td>72094</td>\n",
       "    </tr>\n",
       "  </tbody>\n",
       "</table>\n",
       "</div>"
      ],
      "text/plain": [
       "   emotion  count\n",
       "0    anger  80000\n",
       "1      joy  80000\n",
       "2  sadness  80000\n",
       "3     fear  72094"
      ]
     },
     "execution_count": 90,
     "metadata": {},
     "output_type": "execute_result"
    }
   ],
   "source": [
    "counts"
   ]
  },
  {
   "cell_type": "code",
   "execution_count": 91,
   "metadata": {},
   "outputs": [
    {
     "data": {
      "image/png": "[encoded data removed]",
      "text/plain": [
       "<Figure size 432x288 with 1 Axes>"
      ]
     },
     "metadata": {
      "needs_background": "light"
     },
     "output_type": "display_data"
    }
   ],
   "source": [
    "ax = sns.barplot(x='emotion',\n",
    "                 y='count',\n",
    "                 data=counts,\n",
    "                 palette = 'Reds'\n",
    "                 \n",
    "                 )\n",
    "plt.title(\"Tweets for each Emotion\", fontsize=24)\n",
    "plt.ylabel('Number of Tweets', fontsize=18)\n",
    "plt.xlabel('Tweet Type ', fontsize=18 )\n",
    "plt.xticks(rotation=45)\n",
    "plt.show()"
   ]
  },
  {
   "cell_type": "markdown",
   "metadata": {},
   "source": [
    "## Preprocessing"
   ]
  },
  {
   "cell_type": "code",
   "execution_count": 126,
   "metadata": {},
   "outputs": [],
   "source": [
    "#create new column to have clean text\n",
    "twitter_df['clean_text'] = twitter_df['text']"
   ]
  },
  {
   "cell_type": "markdown",
   "metadata": {},
   "source": [
    "__Remove Usernames__"
   ]
  },
  {
   "cell_type": "code",
   "execution_count": 127,
   "metadata": {},
   "outputs": [],
   "source": [
    "#removing usernames\n",
    "twitter_df['clean_text'] = twitter_df['clean_text'].apply(lambda x: re.sub('@[\\w]*', \"\", x))"
   ]
  },
  {
   "cell_type": "code",
   "execution_count": 128,
   "metadata": {},
   "outputs": [
    {
     "data": {
      "text/html": [
       "<div>\n",
       "<style scoped>\n",
       "    .dataframe tbody tr th:only-of-type {\n",
       "        vertical-align: middle;\n",
       "    }\n",
       "\n",
       "    .dataframe tbody tr th {\n",
       "        vertical-align: top;\n",
       "    }\n",
       "\n",
       "    .dataframe thead th {\n",
       "        text-align: right;\n",
       "    }\n",
       "</style>\n",
       "<table border=\"1\" class=\"dataframe\">\n",
       "  <thead>\n",
       "    <tr style=\"text-align: right;\">\n",
       "      <th></th>\n",
       "      <th>emotion</th>\n",
       "      <th>text</th>\n",
       "      <th>clean_text</th>\n",
       "    </tr>\n",
       "  </thead>\n",
       "  <tbody>\n",
       "    <tr>\n",
       "      <th>0</th>\n",
       "      <td>sadness</td>\n",
       "      <td>I guess we're not meant to be huh :( #sad</td>\n",
       "      <td>I guess we're not meant to be huh :( #sad</td>\n",
       "    </tr>\n",
       "    <tr>\n",
       "      <th>1</th>\n",
       "      <td>sadness</td>\n",
       "      <td>When traditions are broken #sad</td>\n",
       "      <td>When traditions are broken #sad</td>\n",
       "    </tr>\n",
       "    <tr>\n",
       "      <th>2</th>\n",
       "      <td>sadness</td>\n",
       "      <td>@MarieAllie_29 i don't believe you would want someone to go to hell knowing you actually know Jesus died for whoever that person is. #sad</td>\n",
       "      <td>i don't believe you would want someone to go to hell knowing you actually know Jesus died for whoever that person is. #sad</td>\n",
       "    </tr>\n",
       "    <tr>\n",
       "      <th>3</th>\n",
       "      <td>sadness</td>\n",
       "      <td>can't wait to go back to Pittsburgh for Christmas.\\n#homesick</td>\n",
       "      <td>can't wait to go back to Pittsburgh for Christmas.\\n#homesick</td>\n",
       "    </tr>\n",
       "    <tr>\n",
       "      <th>4</th>\n",
       "      <td>sadness</td>\n",
       "      <td>Watching Gracie! Really wish @alexissterkel or @oliviahudson86 would come over! #lonely :(</td>\n",
       "      <td>Watching Gracie! Really wish  or  would come over! #lonely :(</td>\n",
       "    </tr>\n",
       "  </tbody>\n",
       "</table>\n",
       "</div>"
      ],
      "text/plain": [
       "   emotion  \\\n",
       "0  sadness   \n",
       "1  sadness   \n",
       "2  sadness   \n",
       "3  sadness   \n",
       "4  sadness   \n",
       "\n",
       "                                                                                                                                        text  \\\n",
       "0  I guess we're not meant to be huh :( #sad                                                                                                   \n",
       "1  When traditions are broken #sad                                                                                                             \n",
       "2  @MarieAllie_29 i don't believe you would want someone to go to hell knowing you actually know Jesus died for whoever that person is. #sad   \n",
       "3  can't wait to go back to Pittsburgh for Christmas.\\n#homesick                                                                               \n",
       "4  Watching Gracie! Really wish @alexissterkel or @oliviahudson86 would come over! #lonely :(                                                  \n",
       "\n",
       "                                                                                                                    clean_text  \n",
       "0  I guess we're not meant to be huh :( #sad                                                                                    \n",
       "1  When traditions are broken #sad                                                                                              \n",
       "2   i don't believe you would want someone to go to hell knowing you actually know Jesus died for whoever that person is. #sad  \n",
       "3  can't wait to go back to Pittsburgh for Christmas.\\n#homesick                                                                \n",
       "4  Watching Gracie! Really wish  or  would come over! #lonely :(                                                                "
      ]
     },
     "execution_count": 128,
     "metadata": {},
     "output_type": "execute_result"
    }
   ],
   "source": [
    "pd.set_option('display.max_colwidth', -1)\n",
    "twitter_df.head()"
   ]
  },
  {
   "cell_type": "markdown",
   "metadata": {},
   "source": [
    "__Remove Hashtags__"
   ]
  },
  {
   "cell_type": "code",
   "execution_count": 130,
   "metadata": {},
   "outputs": [],
   "source": [
    "#remove hashtag from clean text\n",
    "twitter_df['clean_text'] = remove_hashtags(twitter_df['clean_text'] )"
   ]
  },
  {
   "cell_type": "markdown",
   "metadata": {},
   "source": [
    "__Handle Emojis__"
   ]
  },
  {
   "cell_type": "code",
   "execution_count": 131,
   "metadata": {
    "scrolled": true
   },
   "outputs": [],
   "source": [
    "# de-emojizing \n",
    "twitter_df['clean_text'] = twitter_df['clean_text'].apply(lambda x: emoji.demojize(x))"
   ]
  },
  {
   "cell_type": "markdown",
   "metadata": {},
   "source": [
    "__Handle Contractions__"
   ]
  },
  {
   "cell_type": "code",
   "execution_count": 132,
   "metadata": {},
   "outputs": [],
   "source": [
    "cont = Contractions(api_key=\"glove-twitter-100\")\n",
    "twitter_df['clean_text'] = twitter_df['clean_text'].apply(lambda x: list(cont.expand_texts([x])))\n",
    "twitter_df['clean_text'] = twitter_df['clean_text'].apply(lambda x: str(x))"
   ]
  },
  {
   "cell_type": "code",
   "execution_count": 133,
   "metadata": {},
   "outputs": [
    {
     "data": {
      "text/html": [
       "<div>\n",
       "<style scoped>\n",
       "    .dataframe tbody tr th:only-of-type {\n",
       "        vertical-align: middle;\n",
       "    }\n",
       "\n",
       "    .dataframe tbody tr th {\n",
       "        vertical-align: top;\n",
       "    }\n",
       "\n",
       "    .dataframe thead th {\n",
       "        text-align: right;\n",
       "    }\n",
       "</style>\n",
       "<table border=\"1\" class=\"dataframe\">\n",
       "  <thead>\n",
       "    <tr style=\"text-align: right;\">\n",
       "      <th></th>\n",
       "      <th>emotion</th>\n",
       "      <th>text</th>\n",
       "      <th>clean_text</th>\n",
       "    </tr>\n",
       "  </thead>\n",
       "  <tbody>\n",
       "    <tr>\n",
       "      <th>0</th>\n",
       "      <td>sadness</td>\n",
       "      <td>I guess we're not meant to be huh :( #sad</td>\n",
       "      <td>['I guess we are not meant to be huh :( ']</td>\n",
       "    </tr>\n",
       "    <tr>\n",
       "      <th>1</th>\n",
       "      <td>sadness</td>\n",
       "      <td>When traditions are broken #sad</td>\n",
       "      <td>['When traditions are broken ']</td>\n",
       "    </tr>\n",
       "    <tr>\n",
       "      <th>2</th>\n",
       "      <td>sadness</td>\n",
       "      <td>@MarieAllie_29 i don't believe you would want someone to go to hell knowing you actually know Jesus died for whoever that person is. #sad</td>\n",
       "      <td>[' i do not believe you would want someone to go to hell knowing you actually know Jesus died for whoever that person is. ']</td>\n",
       "    </tr>\n",
       "    <tr>\n",
       "      <th>3</th>\n",
       "      <td>sadness</td>\n",
       "      <td>can't wait to go back to Pittsburgh for Christmas.\\n#homesick</td>\n",
       "      <td>['cannot wait to go back to Pittsburgh for Christmas.\\n']</td>\n",
       "    </tr>\n",
       "    <tr>\n",
       "      <th>4</th>\n",
       "      <td>sadness</td>\n",
       "      <td>Watching Gracie! Really wish @alexissterkel or @oliviahudson86 would come over! #lonely :(</td>\n",
       "      <td>['Watching Gracie! Really wish  or  would come over!  :(']</td>\n",
       "    </tr>\n",
       "  </tbody>\n",
       "</table>\n",
       "</div>"
      ],
      "text/plain": [
       "   emotion  \\\n",
       "0  sadness   \n",
       "1  sadness   \n",
       "2  sadness   \n",
       "3  sadness   \n",
       "4  sadness   \n",
       "\n",
       "                                                                                                                                        text  \\\n",
       "0  I guess we're not meant to be huh :( #sad                                                                                                   \n",
       "1  When traditions are broken #sad                                                                                                             \n",
       "2  @MarieAllie_29 i don't believe you would want someone to go to hell knowing you actually know Jesus died for whoever that person is. #sad   \n",
       "3  can't wait to go back to Pittsburgh for Christmas.\\n#homesick                                                                               \n",
       "4  Watching Gracie! Really wish @alexissterkel or @oliviahudson86 would come over! #lonely :(                                                  \n",
       "\n",
       "                                                                                                                     clean_text  \n",
       "0  ['I guess we are not meant to be huh :( ']                                                                                    \n",
       "1  ['When traditions are broken ']                                                                                               \n",
       "2  [' i do not believe you would want someone to go to hell knowing you actually know Jesus died for whoever that person is. ']  \n",
       "3  ['cannot wait to go back to Pittsburgh for Christmas.\\n']                                                                     \n",
       "4  ['Watching Gracie! Really wish  or  would come over!  :(']                                                                    "
      ]
     },
     "execution_count": 133,
     "metadata": {},
     "output_type": "execute_result"
    }
   ],
   "source": [
    "pd.set_option('display.max_colwidth', -1)\n",
    "twitter_df.head()"
   ]
  },
  {
   "cell_type": "markdown",
   "metadata": {},
   "source": [
    "__Remove links,html tags and other characters__"
   ]
  },
  {
   "cell_type": "code",
   "execution_count": 135,
   "metadata": {},
   "outputs": [],
   "source": [
    "#removing links to websites\n",
    "twitter_df['clean_text'] = twitter_df['clean_text'].apply(lambda x: re.sub(r\"http\\S+\", \"\", x))\n",
    "#remove html characters\n",
    "twitter_df['clean_text'] = twitter_df['clean_text'].apply(lambda x: x.replace('&amp',''))\n",
    "twitter_df['clean_text'] = twitter_df['clean_text'].apply(lambda x: x.replace('\\n',''))\n",
    "twitter_df['clean_text'] = twitter_df['clean_text'].apply(lambda x: x.replace('á',''))\n",
    "#remove punctuation\n",
    "twitter_df['clean_text'] = twitter_df['clean_text'].str.replace('[^\\w\\s]',' ')\n",
    "# twitter_df['clean_text'] = twitter_df['clean_text'].apply(lambda x: x.replace('[',''))\n",
    "# twitter_df['clean_text'] = twitter_df['clean_text'].apply(lambda x: x.replace(']',''))\n",
    "# twitter_df['clean_text'] = twitter_df['clean_text'].apply(lambda x: x.replace(\"'\",''))"
   ]
  },
  {
   "cell_type": "code",
   "execution_count": 140,
   "metadata": {
    "scrolled": true
   },
   "outputs": [
    {
     "data": {
      "text/html": [
       "<div>\n",
       "<style scoped>\n",
       "    .dataframe tbody tr th:only-of-type {\n",
       "        vertical-align: middle;\n",
       "    }\n",
       "\n",
       "    .dataframe tbody tr th {\n",
       "        vertical-align: top;\n",
       "    }\n",
       "\n",
       "    .dataframe thead th {\n",
       "        text-align: right;\n",
       "    }\n",
       "</style>\n",
       "<table border=\"1\" class=\"dataframe\">\n",
       "  <thead>\n",
       "    <tr style=\"text-align: right;\">\n",
       "      <th></th>\n",
       "      <th>emotion</th>\n",
       "      <th>text</th>\n",
       "      <th>clean_text</th>\n",
       "    </tr>\n",
       "  </thead>\n",
       "  <tbody>\n",
       "    <tr>\n",
       "      <th>0</th>\n",
       "      <td>sadness</td>\n",
       "      <td>I guess we're not meant to be huh :( #sad</td>\n",
       "      <td>I guess we are not meant to be huh</td>\n",
       "    </tr>\n",
       "    <tr>\n",
       "      <th>1</th>\n",
       "      <td>sadness</td>\n",
       "      <td>When traditions are broken #sad</td>\n",
       "      <td>When traditions are broken</td>\n",
       "    </tr>\n",
       "    <tr>\n",
       "      <th>2</th>\n",
       "      <td>sadness</td>\n",
       "      <td>@MarieAllie_29 i don't believe you would want someone to go to hell knowing you actually know Jesus died for whoever that person is. #sad</td>\n",
       "      <td>i do not believe you would want someone to go to hell knowing you actually know Jesus died for whoever that person is</td>\n",
       "    </tr>\n",
       "    <tr>\n",
       "      <th>3</th>\n",
       "      <td>sadness</td>\n",
       "      <td>can't wait to go back to Pittsburgh for Christmas.\\n#homesick</td>\n",
       "      <td>cannot wait to go back to Pittsburgh for Christmas  n</td>\n",
       "    </tr>\n",
       "    <tr>\n",
       "      <th>4</th>\n",
       "      <td>sadness</td>\n",
       "      <td>Watching Gracie! Really wish @alexissterkel or @oliviahudson86 would come over! #lonely :(</td>\n",
       "      <td>Watching Gracie  Really wish  or  would come over</td>\n",
       "    </tr>\n",
       "  </tbody>\n",
       "</table>\n",
       "</div>"
      ],
      "text/plain": [
       "   emotion  \\\n",
       "0  sadness   \n",
       "1  sadness   \n",
       "2  sadness   \n",
       "3  sadness   \n",
       "4  sadness   \n",
       "\n",
       "                                                                                                                                        text  \\\n",
       "0  I guess we're not meant to be huh :( #sad                                                                                                   \n",
       "1  When traditions are broken #sad                                                                                                             \n",
       "2  @MarieAllie_29 i don't believe you would want someone to go to hell knowing you actually know Jesus died for whoever that person is. #sad   \n",
       "3  can't wait to go back to Pittsburgh for Christmas.\\n#homesick                                                                               \n",
       "4  Watching Gracie! Really wish @alexissterkel or @oliviahudson86 would come over! #lonely :(                                                  \n",
       "\n",
       "                                                                                                                 clean_text  \n",
       "0  I guess we are not meant to be huh                                                                                        \n",
       "1  When traditions are broken                                                                                                \n",
       "2   i do not believe you would want someone to go to hell knowing you actually know Jesus died for whoever that person is    \n",
       "3  cannot wait to go back to Pittsburgh for Christmas  n                                                                     \n",
       "4  Watching Gracie  Really wish  or  would come over                                                                         "
      ]
     },
     "execution_count": 140,
     "metadata": {},
     "output_type": "execute_result"
    }
   ],
   "source": [
    "pd.set_option('display.max_colwidth', -1)\n",
    "twitter_df.head()"
   ]
  },
  {
   "cell_type": "markdown",
   "metadata": {},
   "source": [
    "__Remove characters repeated more than 2 times__"
   ]
  },
  {
   "cell_type": "code",
   "execution_count": 143,
   "metadata": {},
   "outputs": [],
   "source": [
    "#remove characters repeated more than 2 times\n",
    "twitter_df['clean_text'] = twitter_df['clean_text'].apply(lambda x: ReplaceThreeOrMore(x))"
   ]
  },
  {
   "cell_type": "markdown",
   "metadata": {},
   "source": [
    "__Removing Numbers__"
   ]
  },
  {
   "cell_type": "code",
   "execution_count": 142,
   "metadata": {},
   "outputs": [],
   "source": [
    "#removing numbers\n",
    "twitter_df['clean_text']  = twitter_df['clean_text'].apply(lambda x: ''.join([i for i in x if not i.isdigit()]))"
   ]
  },
  {
   "cell_type": "markdown",
   "metadata": {},
   "source": [
    "__Set to lowercase__"
   ]
  },
  {
   "cell_type": "code",
   "execution_count": 144,
   "metadata": {},
   "outputs": [],
   "source": [
    "#set to lowercase\n",
    "twitter_df['clean_text'] = twitter_df['clean_text'].apply(lambda x: \" \".join(x.lower() for x in x.split()))"
   ]
  },
  {
   "cell_type": "code",
   "execution_count": 147,
   "metadata": {},
   "outputs": [],
   "source": [
    "#lemmatization\n",
    "twitter_df['clean_text'] = twitter_df['clean_text'].apply(lambda x: str(x))\n",
    "twitter_df['clean_text'] = twitter_df['clean_text'].apply(lambda x: \" \".join([Word(word).lemmatize() for word in x.split()]))"
   ]
  },
  {
   "cell_type": "code",
   "execution_count": 148,
   "metadata": {
    "scrolled": true
   },
   "outputs": [
    {
     "data": {
      "text/html": [
       "<div>\n",
       "<style scoped>\n",
       "    .dataframe tbody tr th:only-of-type {\n",
       "        vertical-align: middle;\n",
       "    }\n",
       "\n",
       "    .dataframe tbody tr th {\n",
       "        vertical-align: top;\n",
       "    }\n",
       "\n",
       "    .dataframe thead th {\n",
       "        text-align: right;\n",
       "    }\n",
       "</style>\n",
       "<table border=\"1\" class=\"dataframe\">\n",
       "  <thead>\n",
       "    <tr style=\"text-align: right;\">\n",
       "      <th></th>\n",
       "      <th>emotion</th>\n",
       "      <th>text</th>\n",
       "      <th>clean_text</th>\n",
       "    </tr>\n",
       "  </thead>\n",
       "  <tbody>\n",
       "    <tr>\n",
       "      <th>0</th>\n",
       "      <td>sadness</td>\n",
       "      <td>I guess we're not meant to be huh :( #sad</td>\n",
       "      <td>i guess we are not meant to be huh</td>\n",
       "    </tr>\n",
       "    <tr>\n",
       "      <th>1</th>\n",
       "      <td>sadness</td>\n",
       "      <td>When traditions are broken #sad</td>\n",
       "      <td>when tradition are broken</td>\n",
       "    </tr>\n",
       "    <tr>\n",
       "      <th>2</th>\n",
       "      <td>sadness</td>\n",
       "      <td>@MarieAllie_29 i don't believe you would want someone to go to hell knowing you actually know Jesus died for whoever that person is. #sad</td>\n",
       "      <td>i do not believe you would want someone to go to hell knowing you actually know jesus died for whoever that person is</td>\n",
       "    </tr>\n",
       "    <tr>\n",
       "      <th>3</th>\n",
       "      <td>sadness</td>\n",
       "      <td>can't wait to go back to Pittsburgh for Christmas.\\n#homesick</td>\n",
       "      <td>cannot wait to go back to pittsburgh for christmas n</td>\n",
       "    </tr>\n",
       "    <tr>\n",
       "      <th>4</th>\n",
       "      <td>sadness</td>\n",
       "      <td>Watching Gracie! Really wish @alexissterkel or @oliviahudson86 would come over! #lonely :(</td>\n",
       "      <td>watching gracie really wish or would come over</td>\n",
       "    </tr>\n",
       "  </tbody>\n",
       "</table>\n",
       "</div>"
      ],
      "text/plain": [
       "   emotion  \\\n",
       "0  sadness   \n",
       "1  sadness   \n",
       "2  sadness   \n",
       "3  sadness   \n",
       "4  sadness   \n",
       "\n",
       "                                                                                                                                        text  \\\n",
       "0  I guess we're not meant to be huh :( #sad                                                                                                   \n",
       "1  When traditions are broken #sad                                                                                                             \n",
       "2  @MarieAllie_29 i don't believe you would want someone to go to hell knowing you actually know Jesus died for whoever that person is. #sad   \n",
       "3  can't wait to go back to Pittsburgh for Christmas.\\n#homesick                                                                               \n",
       "4  Watching Gracie! Really wish @alexissterkel or @oliviahudson86 would come over! #lonely :(                                                  \n",
       "\n",
       "                                                                                                              clean_text  \n",
       "0  i guess we are not meant to be huh                                                                                     \n",
       "1  when tradition are broken                                                                                              \n",
       "2  i do not believe you would want someone to go to hell knowing you actually know jesus died for whoever that person is  \n",
       "3  cannot wait to go back to pittsburgh for christmas n                                                                   \n",
       "4  watching gracie really wish or would come over                                                                         "
      ]
     },
     "execution_count": 148,
     "metadata": {},
     "output_type": "execute_result"
    }
   ],
   "source": [
    "pd.set_option('display.max_colwidth', -1)\n",
    "twitter_df.head()"
   ]
  },
  {
   "cell_type": "code",
   "execution_count": 149,
   "metadata": {},
   "outputs": [],
   "source": [
    "#saving preprocessed data for any future rerun\n",
    "twitter_df.to_sql(\"emotions_preprocessed\", conn, if_exists='replace' , index = False)\n",
    "conn.commit()"
   ]
  },
  {
   "cell_type": "code",
   "execution_count": 150,
   "metadata": {},
   "outputs": [],
   "source": [
    "conn.close()"
   ]
  }
 ],
 "metadata": {
  "kernelspec": {
   "display_name": "Python 3",
   "language": "python",
   "name": "python3"
  },
  "language_info": {
   "codemirror_mode": {
    "name": "ipython",
    "version": 3
   },
   "file_extension": ".py",
   "mimetype": "text/x-python",
   "name": "python",
   "nbconvert_exporter": "python",
   "pygments_lexer": "ipython3",
   "version": "3.7.3"
  }
 },
 "nbformat": 4,
 "nbformat_minor": 2
}
