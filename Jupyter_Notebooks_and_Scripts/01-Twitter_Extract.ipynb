{
 "cells": [
  {
   "cell_type": "markdown",
   "metadata": {},
   "source": [
    "# Extracting Twitter Data"
   ]
  },
  {
   "cell_type": "markdown",
   "metadata": {},
   "source": [
    "* The dataset only provides the tweet id with the emotion label. This code below extracts the text data for each tweet id.\n",
    "* final dataset is smaller since it seems like some tweets were deleted after the dataset was created"
   ]
  },
  {
   "cell_type": "markdown",
   "metadata": {},
   "source": [
    "## Dataset information:\n",
    "\n",
    "Paper: http://knoesis.org/sites/default/files/wenbo_socialcom_2012_0.pdf\n",
    "\n",
    "Data: http://knoesis.org/projects/emotion\n"
   ]
  },
  {
   "cell_type": "code",
   "execution_count": 16,
   "metadata": {},
   "outputs": [],
   "source": [
    "#Importing libraries\n",
    "import tweepy\n",
    "import pandas as pd\n",
    "import time\n",
    "from extract_twitter_data import import_data, subsetting_emotions, connect_to_twitter_OAuth, get_tweets"
   ]
  },
  {
   "cell_type": "markdown",
   "metadata": {},
   "source": [
    "__Importing Data__"
   ]
  },
  {
   "cell_type": "code",
   "execution_count": 17,
   "metadata": {},
   "outputs": [],
   "source": [
    "filelist = ['./data/test.txt','./data/dev.txt','./data/train_1.txt','./data/train_2_1.txt','./data/train_2_10.txt','./data/train_2_2.txt','./data/train_2_3.txt','./data/train_2_4.txt','./data/train_2_5.txt','./data/train_2_6.txt','./data/train_2_7.txt','./data/train_2_8.txt','./data/train_2_9.txt']"
   ]
  },
  {
   "cell_type": "code",
   "execution_count": 18,
   "metadata": {},
   "outputs": [],
   "source": [
    "df = import_data(filelist)"
   ]
  },
  {
   "cell_type": "code",
   "execution_count": 19,
   "metadata": {},
   "outputs": [
    {
     "name": "stdout",
     "output_type": "stream",
     "text": [
      "<class 'pandas.core.frame.DataFrame'>\n",
      "RangeIndex: 2488982 entries, 0 to 2488981\n",
      "Data columns (total 2 columns):\n",
      "id         int64\n",
      "emotion    object\n",
      "dtypes: int64(1), object(1)\n",
      "memory usage: 38.0+ MB\n"
     ]
    }
   ],
   "source": [
    "df.info()"
   ]
  },
  {
   "cell_type": "code",
   "execution_count": 20,
   "metadata": {},
   "outputs": [
    {
     "data": {
      "text/plain": [
       "(2488982, 2)"
      ]
     },
     "execution_count": 20,
     "metadata": {},
     "output_type": "execute_result"
    }
   ],
   "source": [
    "df.shape"
   ]
  },
  {
   "cell_type": "code",
   "execution_count": 21,
   "metadata": {
    "scrolled": true
   },
   "outputs": [
    {
     "data": {
      "text/plain": [
       "joy             706182\n",
       "sadness         616471\n",
       "anger           574170\n",
       "love            301759\n",
       "fear            135154\n",
       "thankfulness    131340\n",
       "surprise         23906\n",
       "Name: emotion, dtype: int64"
      ]
     },
     "execution_count": 21,
     "metadata": {},
     "output_type": "execute_result"
    }
   ],
   "source": [
    "df.emotion.value_counts()"
   ]
  },
  {
   "cell_type": "markdown",
   "metadata": {},
   "source": [
    "## Subsetting by emotion\n",
    "\n",
    "* This will help to run the extract in batches"
   ]
  },
  {
   "cell_type": "code",
   "execution_count": 22,
   "metadata": {},
   "outputs": [
    {
     "data": {
      "text/plain": [
       "(616471, 2)"
      ]
     },
     "execution_count": 22,
     "metadata": {},
     "output_type": "execute_result"
    }
   ],
   "source": [
    "sad = subsetting_emotions(df,'sadness')\n",
    "sad.shape"
   ]
  },
  {
   "cell_type": "code",
   "execution_count": 23,
   "metadata": {},
   "outputs": [
    {
     "data": {
      "text/plain": [
       "(706182, 2)"
      ]
     },
     "execution_count": 23,
     "metadata": {},
     "output_type": "execute_result"
    }
   ],
   "source": [
    "joy = subsetting_emotions(df,'joy')\n",
    "joy.shape"
   ]
  },
  {
   "cell_type": "code",
   "execution_count": 24,
   "metadata": {},
   "outputs": [
    {
     "data": {
      "text/plain": [
       "(574170, 2)"
      ]
     },
     "execution_count": 24,
     "metadata": {},
     "output_type": "execute_result"
    }
   ],
   "source": [
    "anger = subsetting_emotions(df,'anger')\n",
    "anger.shape"
   ]
  },
  {
   "cell_type": "code",
   "execution_count": 25,
   "metadata": {},
   "outputs": [
    {
     "data": {
      "text/plain": [
       "(135154, 2)"
      ]
     },
     "execution_count": 25,
     "metadata": {},
     "output_type": "execute_result"
    }
   ],
   "source": [
    "fear = subsetting_emotions(df,'fear')\n",
    "fear.shape"
   ]
  },
  {
   "cell_type": "code",
   "execution_count": 26,
   "metadata": {},
   "outputs": [
    {
     "data": {
      "text/plain": [
       "(23906, 2)"
      ]
     },
     "execution_count": 26,
     "metadata": {},
     "output_type": "execute_result"
    }
   ],
   "source": [
    "surprise = subsetting_emotions(df,'surprise')\n",
    "surprise.shape"
   ]
  },
  {
   "cell_type": "code",
   "execution_count": 27,
   "metadata": {},
   "outputs": [
    {
     "data": {
      "text/plain": [
       "(131340, 2)"
      ]
     },
     "execution_count": 27,
     "metadata": {},
     "output_type": "execute_result"
    }
   ],
   "source": [
    "thankfulness = subsetting_emotions(df,'thankfulness')\n",
    "thankfulness.shape"
   ]
  },
  {
   "cell_type": "code",
   "execution_count": 28,
   "metadata": {},
   "outputs": [
    {
     "data": {
      "text/plain": [
       "(301759, 2)"
      ]
     },
     "execution_count": 28,
     "metadata": {},
     "output_type": "execute_result"
    }
   ],
   "source": [
    "love = subsetting_emotions(df,'love')\n",
    "love.shape"
   ]
  },
  {
   "cell_type": "markdown",
   "metadata": {},
   "source": [
    "## Setting up Twitter API\n",
    "\n",
    "* credentials removed since this code is being shared in github"
   ]
  },
  {
   "cell_type": "code",
   "execution_count": 29,
   "metadata": {},
   "outputs": [],
   "source": [
    "# Variables that contains the credentials to access Twitter API\n",
    "\n",
    "ACCESS_TOKEN =  'input value here'\n",
    "ACCESS_SECRET = 'input value here'\n",
    "CONSUMER_KEY = 'input value here'\n",
    "CONSUMER_SECRET = 'input value here'\n",
    "\n",
    "# Create API object\n",
    "api = connect_to_twitter_OAuth(CONSUMER_KEY, CONSUMER_SECRET, ACCESS_TOKEN, ACCESS_SECRET)"
   ]
  },
  {
   "cell_type": "markdown",
   "metadata": {},
   "source": [
    "__Get Tweet posts by Tweet ID__\n",
    "\n",
    "Twitter Reference: https://developer.twitter.com/en/docs/tweets/search/api-reference/get-search-tweets"
   ]
  },
  {
   "cell_type": "code",
   "execution_count": 30,
   "metadata": {},
   "outputs": [
    {
     "name": "stdout",
     "output_type": "stream",
     "text": [
      "2020-02-21 07:36:12 - extracting  joy\n"
     ]
    },
    {
     "name": "stderr",
     "output_type": "stream",
     "text": [
      "Rate limit reached. Sleeping for: 417\n",
      "Rate limit reached. Sleeping for: 422\n",
      "Rate limit reached. Sleeping for: 449\n",
      "Rate limit reached. Sleeping for: 434\n",
      "Rate limit reached. Sleeping for: 396\n",
      "Rate limit reached. Sleeping for: 384\n",
      "Rate limit reached. Sleeping for: 349\n"
     ]
    },
    {
     "name": "stdout",
     "output_type": "stream",
     "text": [
      "2020-02-21 09:30:09 done with joy batch.\n"
     ]
    }
   ],
   "source": [
    "get_tweets(api, joy,'joy')"
   ]
  },
  {
   "cell_type": "code",
   "execution_count": 31,
   "metadata": {
    "scrolled": true
   },
   "outputs": [
    {
     "name": "stdout",
     "output_type": "stream",
     "text": [
      "2020-02-21 10:11:56 - extracting  surprise\n",
      "2020-02-21 10:14:22 done with surprise batch.\n"
     ]
    }
   ],
   "source": [
    "get_tweets(api,surprise,'surprise')"
   ]
  },
  {
   "cell_type": "code",
   "execution_count": 32,
   "metadata": {},
   "outputs": [
    {
     "name": "stdout",
     "output_type": "stream",
     "text": [
      "2020-02-21 10:14:22 - extracting  thankfulness\n"
     ]
    },
    {
     "name": "stderr",
     "output_type": "stream",
     "text": [
      "Rate limit reached. Sleeping for: 335\n"
     ]
    },
    {
     "name": "stdout",
     "output_type": "stream",
     "text": [
      "2020-02-21 10:33:47 done with thankfulness batch.\n"
     ]
    }
   ],
   "source": [
    "get_tweets(api, thankfulness,'thankfulness')"
   ]
  },
  {
   "cell_type": "code",
   "execution_count": 33,
   "metadata": {},
   "outputs": [
    {
     "name": "stdout",
     "output_type": "stream",
     "text": [
      "2020-02-21 10:33:48 - extracting  fear\n"
     ]
    },
    {
     "name": "stderr",
     "output_type": "stream",
     "text": [
      "Rate limit reached. Sleeping for: 343\n",
      "Rate limit reached. Sleeping for: 348\n"
     ]
    },
    {
     "name": "stdout",
     "output_type": "stream",
     "text": [
      "2020-02-21 10:59:21 done with fear batch.\n"
     ]
    }
   ],
   "source": [
    "get_tweets(api, fear,'fear')"
   ]
  },
  {
   "cell_type": "code",
   "execution_count": 34,
   "metadata": {},
   "outputs": [
    {
     "name": "stdout",
     "output_type": "stream",
     "text": [
      "2020-02-21 10:59:22 - extracting  love\n"
     ]
    },
    {
     "name": "stderr",
     "output_type": "stream",
     "text": [
      "Rate limit reached. Sleeping for: 338\n",
      "Rate limit reached. Sleeping for: 331\n",
      "Rate limit reached. Sleeping for: 342\n"
     ]
    },
    {
     "name": "stdout",
     "output_type": "stream",
     "text": [
      "2020-02-21 11:48:28 done with love batch.\n"
     ]
    }
   ],
   "source": [
    "get_tweets(api, love,'love')"
   ]
  },
  {
   "cell_type": "code",
   "execution_count": 35,
   "metadata": {},
   "outputs": [
    {
     "name": "stdout",
     "output_type": "stream",
     "text": [
      "2020-02-21 11:48:28 - extracting  anger\n"
     ]
    },
    {
     "name": "stderr",
     "output_type": "stream",
     "text": [
      "Rate limit reached. Sleeping for: 313\n",
      "Rate limit reached. Sleeping for: 334\n",
      "Rate limit reached. Sleeping for: 344\n",
      "Rate limit reached. Sleeping for: 357\n",
      "Rate limit reached. Sleeping for: 299\n",
      "Rate limit reached. Sleeping for: 348\n"
     ]
    },
    {
     "name": "stdout",
     "output_type": "stream",
     "text": [
      "2020-02-21 13:21:43 done with anger batch.\n"
     ]
    }
   ],
   "source": [
    "get_tweets(api, anger,'anger')"
   ]
  },
  {
   "cell_type": "code",
   "execution_count": 36,
   "metadata": {
    "scrolled": true
   },
   "outputs": [
    {
     "name": "stdout",
     "output_type": "stream",
     "text": [
      "2020-02-21 13:21:44 - extracting  sadness\n"
     ]
    },
    {
     "name": "stderr",
     "output_type": "stream",
     "text": [
      "Rate limit reached. Sleeping for: 356\n",
      "Rate limit reached. Sleeping for: 354\n",
      "Rate limit reached. Sleeping for: 339\n",
      "Rate limit reached. Sleeping for: 286\n",
      "Rate limit reached. Sleeping for: 365\n",
      "Rate limit reached. Sleeping for: 351\n",
      "Rate limit reached. Sleeping for: 354\n"
     ]
    },
    {
     "name": "stdout",
     "output_type": "stream",
     "text": [
      "2020-02-21 15:06:11 done with sadness batch.\n"
     ]
    }
   ],
   "source": [
    "get_tweets(api, sad,'sadness')"
   ]
  }
 ],
 "metadata": {
  "kernelspec": {
   "display_name": "Python 3",
   "language": "python",
   "name": "python3"
  },
  "language_info": {
   "codemirror_mode": {
    "name": "ipython",
    "version": 3
   },
   "file_extension": ".py",
   "mimetype": "text/x-python",
   "name": "python",
   "nbconvert_exporter": "python",
   "pygments_lexer": "ipython3",
   "version": "3.7.3"
  }
 },
 "nbformat": 4,
 "nbformat_minor": 2
}
