{
 "cells": [
  {
   "cell_type": "markdown",
   "metadata": {},
   "source": [
    "# Extracting Twitter Data"
   ]
  },
  {
   "cell_type": "markdown",
   "metadata": {},
   "source": [
    "* The dataset only provides the tweet id with the emotion label. This code below extracts the text data for each tweet id.\n",
    "* final dataset is smaller since it seems like some tweets were deleted after the dataset was created"
   ]
  },
  {
   "cell_type": "markdown",
   "metadata": {},
   "source": [
    "## Dataset information:\n",
    "\n",
    "Paper: http://knoesis.org/sites/default/files/wenbo_socialcom_2012_0.pdf\n",
    "\n",
    "Data: http://knoesis.org/projects/emotion\n"
   ]
  },
  {
   "cell_type": "code",
   "execution_count": 1,
   "metadata": {},
   "outputs": [],
   "source": [
    "#Importing libraries\n",
    "import tweepy\n",
    "import pandas as pd\n",
    "# import datetime\n",
    "import time\n",
    "from extract_twitter_data import import_data, subsetting_emotions, connect_to_twitter_OAuth, get_tweets"
   ]
  },
  {
   "cell_type": "markdown",
   "metadata": {},
   "source": [
    "__Importing Data__"
   ]
  },
  {
   "cell_type": "code",
   "execution_count": 2,
   "metadata": {},
   "outputs": [],
   "source": [
    "filelist = ['./data/test.txt','./data/dev.txt','./data/train_1.txt','./data/train_2_1.txt','./data/train_2_10.txt','./data/train_2_2.txt','./data/train_2_3.txt','./data/train_2_4.txt','./data/train_2_5.txt','./data/train_2_6.txt','./data/train_2_7.txt','./data/train_2_8.txt','./data/train_2_9.txt']"
   ]
  },
  {
   "cell_type": "code",
   "execution_count": 3,
   "metadata": {},
   "outputs": [],
   "source": [
    "df = import_data(filelist)"
   ]
  },
  {
   "cell_type": "code",
   "execution_count": 4,
   "metadata": {},
   "outputs": [
    {
     "name": "stdout",
     "output_type": "stream",
     "text": [
      "<class 'pandas.core.frame.DataFrame'>\n",
      "RangeIndex: 2488982 entries, 0 to 2488981\n",
      "Data columns (total 2 columns):\n",
      "tweet_id    int64\n",
      "emotion     object\n",
      "dtypes: int64(1), object(1)\n",
      "memory usage: 38.0+ MB\n"
     ]
    }
   ],
   "source": [
    "df.info()"
   ]
  },
  {
   "cell_type": "code",
   "execution_count": 5,
   "metadata": {},
   "outputs": [
    {
     "data": {
      "text/plain": [
       "(2488982, 2)"
      ]
     },
     "execution_count": 5,
     "metadata": {},
     "output_type": "execute_result"
    }
   ],
   "source": [
    "df.shape"
   ]
  },
  {
   "cell_type": "code",
   "execution_count": 6,
   "metadata": {
    "scrolled": false
   },
   "outputs": [
    {
     "data": {
      "text/plain": [
       "joy             706182\n",
       "sadness         616471\n",
       "anger           574170\n",
       "love            301759\n",
       "fear            135154\n",
       "thankfulness    131340\n",
       "surprise         23906\n",
       "Name: emotion, dtype: int64"
      ]
     },
     "execution_count": 6,
     "metadata": {},
     "output_type": "execute_result"
    }
   ],
   "source": [
    "df.emotion.value_counts()"
   ]
  },
  {
   "cell_type": "markdown",
   "metadata": {},
   "source": [
    "## Subsetting by emotion\n",
    "\n",
    "* This will help to run the extract in batches"
   ]
  },
  {
   "cell_type": "code",
   "execution_count": 7,
   "metadata": {},
   "outputs": [
    {
     "data": {
      "text/plain": [
       "(616471, 2)"
      ]
     },
     "execution_count": 7,
     "metadata": {},
     "output_type": "execute_result"
    }
   ],
   "source": [
    "sad = subsetting_emotions(df,'sadness')\n",
    "sad.shape"
   ]
  },
  {
   "cell_type": "code",
   "execution_count": 8,
   "metadata": {},
   "outputs": [
    {
     "data": {
      "text/plain": [
       "(706182, 2)"
      ]
     },
     "execution_count": 8,
     "metadata": {},
     "output_type": "execute_result"
    }
   ],
   "source": [
    "joy = subsetting_emotions(df,'joy')\n",
    "joy.shape"
   ]
  },
  {
   "cell_type": "code",
   "execution_count": 9,
   "metadata": {},
   "outputs": [
    {
     "data": {
      "text/plain": [
       "(574170, 2)"
      ]
     },
     "execution_count": 9,
     "metadata": {},
     "output_type": "execute_result"
    }
   ],
   "source": [
    "anger = subsetting_emotions(df,'anger')\n",
    "anger.shape"
   ]
  },
  {
   "cell_type": "code",
   "execution_count": 10,
   "metadata": {},
   "outputs": [
    {
     "data": {
      "text/plain": [
       "(135154, 2)"
      ]
     },
     "execution_count": 10,
     "metadata": {},
     "output_type": "execute_result"
    }
   ],
   "source": [
    "fear = subsetting_emotions(df,'fear')\n",
    "fear.shape"
   ]
  },
  {
   "cell_type": "code",
   "execution_count": 11,
   "metadata": {},
   "outputs": [
    {
     "data": {
      "text/plain": [
       "(23906, 2)"
      ]
     },
     "execution_count": 11,
     "metadata": {},
     "output_type": "execute_result"
    }
   ],
   "source": [
    "surprise = subsetting_emotions(df,'surprise')\n",
    "surprise.shape"
   ]
  },
  {
   "cell_type": "code",
   "execution_count": 12,
   "metadata": {},
   "outputs": [
    {
     "data": {
      "text/plain": [
       "(131340, 2)"
      ]
     },
     "execution_count": 12,
     "metadata": {},
     "output_type": "execute_result"
    }
   ],
   "source": [
    "thankfulness = subsetting_emotions(df,'thankfulness')\n",
    "thankfulness.shape"
   ]
  },
  {
   "cell_type": "code",
   "execution_count": 13,
   "metadata": {},
   "outputs": [
    {
     "data": {
      "text/plain": [
       "(301759, 2)"
      ]
     },
     "execution_count": 13,
     "metadata": {},
     "output_type": "execute_result"
    }
   ],
   "source": [
    "love = subsetting_emotions(df,'love')\n",
    "love.shape"
   ]
  },
  {
   "cell_type": "markdown",
   "metadata": {},
   "source": [
    "## Setting up Twitter API\n",
    "\n",
    "* credentials removed since this code is being shared in github"
   ]
  },
  {
   "cell_type": "code",
   "execution_count": 15,
   "metadata": {},
   "outputs": [],
   "source": [
    "# Variables that contains the credentials to access Twitter API\n",
    "\n",
    "ACCESS_TOKEN =  'input value here'\n",
    "ACCESS_SECRET = 'input value here'\n",
    "CONSUMER_KEY = 'input value here'\n",
    "CONSUMER_SECRET = 'input value here'\n",
    "\n",
    "# Create API object\n",
    "api = connect_to_twitter_OAuth(CONSUMER_KEY, CONSUMER_SECRET, ACCESS_TOKEN, ACCESS_SECRET)"
   ]
  },
  {
   "cell_type": "code",
   "execution_count": 14,
   "metadata": {},
   "outputs": [],
   "source": [
    "# Variables that contains the credentials to access Twitter API\n",
    "\n",
    "ACCESS_TOKEN =  '1178741288528744449-64CEEytxWHVHMGc8etAbd5smr2hWvV'\n",
    "ACCESS_SECRET = 'XV7CIRYprmpSsFQLjtk76fIOGK33kowRC00iw4JvQ0XES'\n",
    "CONSUMER_KEY = 'gFhdat8gt8KfCaLbU7mBQGSbe'\n",
    "CONSUMER_SECRET = 'EVowZLyi4WftYwUgo2fv627A4mtLz7byyCZBnF3qUY4CjYVlmC'\n",
    "\n",
    "# Create API object\n",
    "api = connect_to_twitter_OAuth(CONSUMER_KEY, CONSUMER_SECRET, ACCESS_TOKEN, ACCESS_SECRET)"
   ]
  },
  {
   "cell_type": "markdown",
   "metadata": {},
   "source": [
    "__Get Tweet posts by Tweet ID__\n",
    "\n",
    "Twitter Reference: https://developer.twitter.com/en/docs/tweets/search/api-reference/get-search-tweets"
   ]
  },
  {
   "cell_type": "code",
   "execution_count": 21,
   "metadata": {},
   "outputs": [
    {
     "name": "stdout",
     "output_type": "stream",
     "text": [
      "2019-11-06 17:10:18 - extracting  joy\n",
      "records so far: 45028\n",
      "counter = , 45028\n",
      "2019-11-06 17:10:18 - waiting 15 mins for next joy batch...\n",
      "restarted counter: 0\n",
      "records so far: 90081\n",
      "counter = , 45053\n",
      "2019-11-06 17:10:18 - waiting 15 mins for next joy batch...\n",
      "restarted counter: 0\n",
      "records so far: 135092\n",
      "counter = , 45011\n",
      "2019-11-06 17:10:18 - waiting 15 mins for next joy batch...\n",
      "restarted counter: 0\n",
      "records so far: 180127\n",
      "counter = , 45035\n",
      "2019-11-06 17:10:18 - waiting 15 mins for next joy batch...\n",
      "restarted counter: 0\n",
      "records so far: 225167\n",
      "counter = , 45040\n",
      "2019-11-06 17:10:18 - waiting 15 mins for next joy batch...\n",
      "restarted counter: 0\n",
      "records so far: 270198\n",
      "counter = , 45031\n",
      "2019-11-06 17:10:18 - waiting 15 mins for next joy batch...\n",
      "restarted counter: 0\n",
      "records so far: 315230\n",
      "counter = , 45032\n",
      "2019-11-06 17:10:18 - waiting 15 mins for next joy batch...\n",
      "restarted counter: 0\n",
      "records so far: 360269\n",
      "counter = , 45039\n",
      "2019-11-06 17:10:18 - waiting 15 mins for next joy batch...\n",
      "restarted counter: 0\n",
      "2019-11-06 17:10:18 done with joy batch.\n"
     ]
    }
   ],
   "source": [
    "get_tweets(api, joy,'joy')"
   ]
  },
  {
   "cell_type": "code",
   "execution_count": 15,
   "metadata": {
    "scrolled": true
   },
   "outputs": [
    {
     "name": "stdout",
     "output_type": "stream",
     "text": [
      "2019-11-17 15:16:57 - extracting  surprise\n",
      "2019-11-17 15:19:32 done with surprise batch.\n"
     ]
    }
   ],
   "source": [
    "time.sleep(900)#if all cells are excuted at the same time, this will wait 15 mins to avoid error from twitter\n",
    "get_tweets(api,surprise,'surprise')"
   ]
  },
  {
   "cell_type": "code",
   "execution_count": null,
   "metadata": {},
   "outputs": [
    {
     "name": "stdout",
     "output_type": "stream",
     "text": [
      "2019-11-06 20:50:15 - extracting  thankfulness\n",
      "records so far: 45054\n",
      "2019-11-06 20:57:32 - waiting 15 mins for next thankfulness batch...\n",
      "2019-11-06 21:12:32 restarted counter: 0\n",
      "2019-11-06 21:18:00 done with thankfulness batch.\n"
     ]
    }
   ],
   "source": [
    "time.sleep(900)#if all cells are excuted at the same time, this will wait 15 mins to avoid error from twitter\n",
    "get_tweets(api, thankfulness,'thankfulness')"
   ]
  },
  {
   "cell_type": "code",
   "execution_count": null,
   "metadata": {},
   "outputs": [
    {
     "name": "stdout",
     "output_type": "stream",
     "text": [
      "2019-11-06 21:33:00 - extracting  fear\n",
      "records so far: 45039\n",
      "2019-11-06 21:40:56 - waiting 15 mins for next fear batch...\n",
      "2019-11-06 21:55:56 restarted counter: 0\n",
      "2019-11-06 22:00:41 done with fear batch.\n"
     ]
    }
   ],
   "source": [
    "time.sleep(900)#if all cells are excuted at the same time, this will wait 15 mins to avoid error from twitter\n",
    "get_tweets(api, fear,'fear')"
   ]
  },
  {
   "cell_type": "code",
   "execution_count": 17,
   "metadata": {},
   "outputs": [
    {
     "name": "stdout",
     "output_type": "stream",
     "text": [
      "2019-11-06 22:35:30 - extracting  love\n",
      "records so far: 45053\n",
      "2019-11-06 22:43:21 - waiting 15 mins for next love batch...\n",
      "2019-11-06 22:58:21 restarted counter: 0\n",
      "records so far: 90056\n",
      "2019-11-06 23:06:08 - waiting 15 mins for next love batch...\n",
      "2019-11-06 23:21:08 restarted counter: 0\n",
      "records so far: 135091\n",
      "2019-11-06 23:28:37 - waiting 15 mins for next love batch...\n",
      "2019-11-06 23:43:37 restarted counter: 0\n",
      "2019-11-06 23:49:20 done with love batch.\n"
     ]
    }
   ],
   "source": [
    "time.sleep(900)#if all cells are excuted at the same time, this will wait 15 mins to avoid error from twitter\n",
    "get_tweets(api, love,'love')"
   ]
  },
  {
   "cell_type": "code",
   "execution_count": 19,
   "metadata": {},
   "outputs": [
    {
     "name": "stdout",
     "output_type": "stream",
     "text": [
      "2019-11-07 01:21:00 - extracting  anger\n",
      "records so far: 45019\n",
      "2019-11-07 01:28:18 - waiting 15 mins for next anger batch...\n",
      "2019-11-07 01:43:18 restarted counter: 0\n",
      "records so far: 90042\n",
      "2019-11-07 01:50:35 - waiting 15 mins for next anger batch...\n",
      "2019-11-07 02:05:35 restarted counter: 0\n",
      "records so far: 135087\n",
      "2019-11-07 02:13:17 - waiting 15 mins for next anger batch...\n",
      "2019-11-07 02:28:17 restarted counter: 0\n",
      "records so far: 180117\n",
      "2019-11-07 02:36:03 - waiting 15 mins for next anger batch...\n",
      "2019-11-07 02:51:03 restarted counter: 0\n",
      "records so far: 225153\n",
      "2019-11-07 02:58:51 - waiting 15 mins for next anger batch...\n",
      "2019-11-07 03:13:51 restarted counter: 0\n",
      "records so far: 270179\n",
      "2019-11-07 03:21:58 - waiting 15 mins for next anger batch...\n",
      "2019-11-07 03:36:58 restarted counter: 0\n",
      "2019-11-07 03:40:40 done with anger batch.\n"
     ]
    }
   ],
   "source": [
    "time.sleep(900)#if all cells are excuted at the same time, this will wait 15 mins to avoid error from twitter\n",
    "get_tweets(api, anger,'anger')"
   ]
  },
  {
   "cell_type": "code",
   "execution_count": 20,
   "metadata": {
    "scrolled": true
   },
   "outputs": [
    {
     "name": "stdout",
     "output_type": "stream",
     "text": [
      "2019-11-07 14:04:59 - extracting  sadness\n",
      "records so far: 45044\n",
      "2019-11-07 14:13:13 - waiting 15 mins for next sadness batch...\n",
      "2019-11-07 14:28:13 restarted counter: 0\n",
      "records so far: 90069\n",
      "2019-11-07 14:35:14 - waiting 15 mins for next sadness batch...\n",
      "2019-11-07 14:50:14 restarted counter: 0\n",
      "records so far: 135088\n",
      "2019-11-07 14:57:33 - waiting 15 mins for next sadness batch...\n",
      "2019-11-07 15:12:33 restarted counter: 0\n",
      "records so far: 180094\n",
      "2019-11-07 15:19:46 - waiting 15 mins for next sadness batch...\n",
      "2019-11-07 15:34:46 restarted counter: 0\n",
      "records so far: 225098\n",
      "2019-11-07 15:42:16 - waiting 15 mins for next sadness batch...\n",
      "2019-11-07 15:57:16 restarted counter: 0\n",
      "records so far: 270123\n",
      "2019-11-07 16:05:20 - waiting 15 mins for next sadness batch...\n",
      "2019-11-07 16:20:20 restarted counter: 0\n",
      "records so far: 315131\n",
      "2019-11-07 16:28:50 - waiting 15 mins for next sadness batch...\n",
      "2019-11-07 16:43:50 restarted counter: 0\n",
      "2019-11-07 16:46:47 done with sadness batch.\n"
     ]
    }
   ],
   "source": [
    "time.sleep(900)#if all cells are excuted at the same time, this will wait 15 mins to avoid error from twitter\n",
    "get_tweets(api, sad,'sadness')"
   ]
  }
 ],
 "metadata": {
  "kernelspec": {
   "display_name": "Python 3",
   "language": "python",
   "name": "python3"
  },
  "language_info": {
   "codemirror_mode": {
    "name": "ipython",
    "version": 3
   },
   "file_extension": ".py",
   "mimetype": "text/x-python",
   "name": "python",
   "nbconvert_exporter": "python",
   "pygments_lexer": "ipython3",
   "version": "3.7.3"
  }
 },
 "nbformat": 4,
 "nbformat_minor": 2
}
