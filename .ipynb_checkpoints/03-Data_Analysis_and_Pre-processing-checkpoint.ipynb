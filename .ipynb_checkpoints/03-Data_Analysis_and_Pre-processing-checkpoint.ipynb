{
 "cells": [
  {
   "cell_type": "markdown",
   "metadata": {},
   "source": [
    "## Importing libraries"
   ]
  },
  {
   "cell_type": "code",
   "execution_count": 1,
   "metadata": {},
   "outputs": [],
   "source": [
    "import pandas as pd\n",
    "import numpy as np\n",
    "import sqlite3\n",
    "\n",
    "\n",
    "import matplotlib.pyplot as plt\n",
    "import seaborn as sns\n",
    "\n",
    "######preprocessing text######\n",
    "from preprocessing import remove_hashtags, ReplaceThreeOrMore, preprocessing_text\n",
    "\n",
    "\n",
    "# import random"
   ]
  },
  {
   "cell_type": "markdown",
   "metadata": {},
   "source": [
    "## Import Data from SQLite"
   ]
  },
  {
   "cell_type": "code",
   "execution_count": 2,
   "metadata": {},
   "outputs": [],
   "source": [
    "#database connection\n",
    "conn = sqlite3.connect( r\"./data/emotion.db\")\n",
    "c = conn.cursor()"
   ]
  },
  {
   "cell_type": "code",
   "execution_count": 3,
   "metadata": {},
   "outputs": [],
   "source": [
    "twitter_df = pd.read_sql_query(\"SELECT text,emotion FROM emotions;\", conn)"
   ]
  },
  {
   "cell_type": "markdown",
   "metadata": {},
   "source": [
    "## Exploratory Data Analysis"
   ]
  },
  {
   "cell_type": "code",
   "execution_count": 4,
   "metadata": {
    "scrolled": true
   },
   "outputs": [
    {
     "name": "stdout",
     "output_type": "stream",
     "text": [
      "<class 'pandas.core.frame.DataFrame'>\n",
      "RangeIndex: 1339794 entries, 0 to 1339793\n",
      "Data columns (total 2 columns):\n",
      "text       1339794 non-null object\n",
      "emotion    1339794 non-null object\n",
      "dtypes: object(2)\n",
      "memory usage: 20.4+ MB\n"
     ]
    }
   ],
   "source": [
    "twitter_df.info()"
   ]
  },
  {
   "cell_type": "code",
   "execution_count": 5,
   "metadata": {},
   "outputs": [
    {
     "data": {
      "text/plain": [
       "(1339794, 2)"
      ]
     },
     "execution_count": 5,
     "metadata": {},
     "output_type": "execute_result"
    }
   ],
   "source": [
    "twitter_df.shape"
   ]
  },
  {
   "cell_type": "markdown",
   "metadata": {},
   "source": [
    "__Reviewing Length of Texts__"
   ]
  },
  {
   "cell_type": "code",
   "execution_count": 6,
   "metadata": {},
   "outputs": [],
   "source": [
    "twitter_df['len']= twitter_df['text'].apply(lambda x: len(x))"
   ]
  },
  {
   "cell_type": "code",
   "execution_count": 7,
   "metadata": {},
   "outputs": [
    {
     "data": {
      "text/plain": [
       "Text(0.5, 0, 'Number of Characters')"
      ]
     },
     "execution_count": 7,
     "metadata": {},
     "output_type": "execute_result"
    },
    {
     "data": {
      "image/png": "[encoded data removed]",
      "text/plain": [
       "<Figure size 432x288 with 1 Axes>"
      ]
     },
     "metadata": {
      "needs_background": "light"
     },
     "output_type": "display_data"
    }
   ],
   "source": [
    "#Distribution of text lenghts\n",
    "\n",
    "sns.distplot(twitter_df['len'],\n",
    "            color = 'Red',\n",
    "            kde=False)\n",
    "plt.title(\"Number of Characters in Tweets\")\n",
    "plt.ylabel('Number of tweets')\n",
    "plt.xlabel('Number of Characters',)"
   ]
  },
  {
   "cell_type": "code",
   "execution_count": 8,
   "metadata": {
    "scrolled": true
   },
   "outputs": [
    {
     "data": {
      "text/html": [
       "<div>\n",
       "<style scoped>\n",
       "    .dataframe tbody tr th:only-of-type {\n",
       "        vertical-align: middle;\n",
       "    }\n",
       "\n",
       "    .dataframe tbody tr th {\n",
       "        vertical-align: top;\n",
       "    }\n",
       "\n",
       "    .dataframe thead th {\n",
       "        text-align: right;\n",
       "    }\n",
       "</style>\n",
       "<table border=\"1\" class=\"dataframe\">\n",
       "  <thead>\n",
       "    <tr style=\"text-align: right;\">\n",
       "      <th></th>\n",
       "      <th>text</th>\n",
       "      <th>emotion</th>\n",
       "      <th>len</th>\n",
       "    </tr>\n",
       "  </thead>\n",
       "  <tbody>\n",
       "    <tr>\n",
       "      <th>486415</th>\n",
       "      <td>O H I O #love</td>\n",
       "      <td>love</td>\n",
       "      <td>13</td>\n",
       "    </tr>\n",
       "    <tr>\n",
       "      <th>1050420</th>\n",
       "      <td>0 y va 2 #LOVE</td>\n",
       "      <td>love</td>\n",
       "      <td>14</td>\n",
       "    </tr>\n",
       "    <tr>\n",
       "      <th>323419</th>\n",
       "      <td>I'm a lil #sad</td>\n",
       "      <td>sadness</td>\n",
       "      <td>14</td>\n",
       "    </tr>\n",
       "    <tr>\n",
       "      <th>887226</th>\n",
       "      <td>T G I F #happy</td>\n",
       "      <td>joy</td>\n",
       "      <td>14</td>\n",
       "    </tr>\n",
       "    <tr>\n",
       "      <th>1225170</th>\n",
       "      <td>W o a h ! #sad</td>\n",
       "      <td>sadness</td>\n",
       "      <td>14</td>\n",
       "    </tr>\n",
       "  </tbody>\n",
       "</table>\n",
       "</div>"
      ],
      "text/plain": [
       "                   text  emotion  len\n",
       "486415    O H I O #love     love   13\n",
       "1050420  0 y va 2 #LOVE     love   14\n",
       "323419   I'm a lil #sad  sadness   14\n",
       "887226   T G I F #happy      joy   14\n",
       "1225170  W o a h ! #sad  sadness   14"
      ]
     },
     "execution_count": 8,
     "metadata": {},
     "output_type": "execute_result"
    }
   ],
   "source": [
    "twitter_df.sort_values('len', ascending = True).head()"
   ]
  },
  {
   "cell_type": "code",
   "execution_count": 9,
   "metadata": {
    "scrolled": true
   },
   "outputs": [
    {
     "data": {
      "text/html": [
       "<div>\n",
       "<style scoped>\n",
       "    .dataframe tbody tr th:only-of-type {\n",
       "        vertical-align: middle;\n",
       "    }\n",
       "\n",
       "    .dataframe tbody tr th {\n",
       "        vertical-align: top;\n",
       "    }\n",
       "\n",
       "    .dataframe thead th {\n",
       "        text-align: right;\n",
       "    }\n",
       "</style>\n",
       "<table border=\"1\" class=\"dataframe\">\n",
       "  <thead>\n",
       "    <tr style=\"text-align: right;\">\n",
       "      <th></th>\n",
       "      <th>text</th>\n",
       "      <th>emotion</th>\n",
       "      <th>len</th>\n",
       "    </tr>\n",
       "  </thead>\n",
       "  <tbody>\n",
       "    <tr>\n",
       "      <th>382010</th>\n",
       "      <td>the part where optimus prime is resurrected &amp;g...</td>\n",
       "      <td>love</td>\n",
       "      <td>345</td>\n",
       "    </tr>\n",
       "    <tr>\n",
       "      <th>1252245</th>\n",
       "      <td>the ziti i cooked tonight &amp;gt;&amp;gt;&amp;gt;&amp;gt;&amp;gt;...</td>\n",
       "      <td>love</td>\n",
       "      <td>289</td>\n",
       "    </tr>\n",
       "    <tr>\n",
       "      <th>1057360</th>\n",
       "      <td>The feeling of leaving a final knowing you got...</td>\n",
       "      <td>thankfulness</td>\n",
       "      <td>266</td>\n",
       "    </tr>\n",
       "    <tr>\n",
       "      <th>43710</th>\n",
       "      <td>Those ppl that fb chat you EVERY TIME you get ...</td>\n",
       "      <td>anger</td>\n",
       "      <td>261</td>\n",
       "    </tr>\n",
       "    <tr>\n",
       "      <th>253288</th>\n",
       "      <td>#love @Harry_Styles &amp;lt;3 &amp;lt;3 &amp;lt;3 &amp;lt;3 &amp;l...</td>\n",
       "      <td>love</td>\n",
       "      <td>260</td>\n",
       "    </tr>\n",
       "  </tbody>\n",
       "</table>\n",
       "</div>"
      ],
      "text/plain": [
       "                                                      text       emotion  len\n",
       "382010   the part where optimus prime is resurrected &g...          love  345\n",
       "1252245  the ziti i cooked tonight &gt;&gt;&gt;&gt;&gt;...          love  289\n",
       "1057360  The feeling of leaving a final knowing you got...  thankfulness  266\n",
       "43710    Those ppl that fb chat you EVERY TIME you get ...         anger  261\n",
       "253288   #love @Harry_Styles &lt;3 &lt;3 &lt;3 &lt;3 &l...          love  260"
      ]
     },
     "execution_count": 9,
     "metadata": {},
     "output_type": "execute_result"
    }
   ],
   "source": [
    "twitter_df.sort_values('len', ascending = False).head()"
   ]
  },
  {
   "cell_type": "markdown",
   "metadata": {},
   "source": [
    "__Counts by Emotion Label__"
   ]
  },
  {
   "cell_type": "code",
   "execution_count": 10,
   "metadata": {},
   "outputs": [],
   "source": [
    "counts = pd.read_sql_query(\"\"\"SELECT emotion, count(emotion) as count \n",
    "                            FROM emotions\n",
    "                            GROUP BY emotion\n",
    "                            ORDER BY count DESC;\"\"\", conn)"
   ]
  },
  {
   "cell_type": "code",
   "execution_count": 11,
   "metadata": {},
   "outputs": [
    {
     "data": {
      "text/html": [
       "<div>\n",
       "<style scoped>\n",
       "    .dataframe tbody tr th:only-of-type {\n",
       "        vertical-align: middle;\n",
       "    }\n",
       "\n",
       "    .dataframe tbody tr th {\n",
       "        vertical-align: top;\n",
       "    }\n",
       "\n",
       "    .dataframe thead th {\n",
       "        text-align: right;\n",
       "    }\n",
       "</style>\n",
       "<table border=\"1\" class=\"dataframe\">\n",
       "  <thead>\n",
       "    <tr style=\"text-align: right;\">\n",
       "      <th></th>\n",
       "      <th>emotion</th>\n",
       "      <th>count</th>\n",
       "    </tr>\n",
       "  </thead>\n",
       "  <tbody>\n",
       "    <tr>\n",
       "      <th>0</th>\n",
       "      <td>joy</td>\n",
       "      <td>386601</td>\n",
       "    </tr>\n",
       "    <tr>\n",
       "      <th>1</th>\n",
       "      <td>sadness</td>\n",
       "      <td>330432</td>\n",
       "    </tr>\n",
       "    <tr>\n",
       "      <th>2</th>\n",
       "      <td>anger</td>\n",
       "      <td>291480</td>\n",
       "    </tr>\n",
       "    <tr>\n",
       "      <th>3</th>\n",
       "      <td>love</td>\n",
       "      <td>167715</td>\n",
       "    </tr>\n",
       "    <tr>\n",
       "      <th>4</th>\n",
       "      <td>thankfulness</td>\n",
       "      <td>78228</td>\n",
       "    </tr>\n",
       "    <tr>\n",
       "      <th>5</th>\n",
       "      <td>fear</td>\n",
       "      <td>72094</td>\n",
       "    </tr>\n",
       "    <tr>\n",
       "      <th>6</th>\n",
       "      <td>surprise</td>\n",
       "      <td>13244</td>\n",
       "    </tr>\n",
       "  </tbody>\n",
       "</table>\n",
       "</div>"
      ],
      "text/plain": [
       "        emotion   count\n",
       "0           joy  386601\n",
       "1       sadness  330432\n",
       "2         anger  291480\n",
       "3          love  167715\n",
       "4  thankfulness   78228\n",
       "5          fear   72094\n",
       "6      surprise   13244"
      ]
     },
     "execution_count": 11,
     "metadata": {},
     "output_type": "execute_result"
    }
   ],
   "source": [
    "counts"
   ]
  },
  {
   "cell_type": "code",
   "execution_count": 12,
   "metadata": {
    "scrolled": false
   },
   "outputs": [
    {
     "data": {
      "image/png": "[encoded data removed]",
      "text/plain": [
       "<Figure size 432x288 with 1 Axes>"
      ]
     },
     "metadata": {
      "needs_background": "light"
     },
     "output_type": "display_data"
    }
   ],
   "source": [
    "#Plotting by tweet emotion\n",
    "ax = sns.barplot(x='emotion',\n",
    "                 y='count',\n",
    "                 data=counts,\n",
    "                 palette = 'Reds'\n",
    "                 \n",
    "                 )\n",
    "plt.title(\"Tweets for each Emotion\", fontsize=24)\n",
    "plt.ylabel('Number of Tweets', fontsize=18)\n",
    "plt.xlabel('Tweet Type ', fontsize=18 )\n",
    "plt.xticks(rotation=45)\n",
    "plt.show()"
   ]
  },
  {
   "cell_type": "markdown",
   "metadata": {},
   "source": [
    "## Data Clean and preprocessing:\n",
    "\n",
    "- Will start by subsetting the data for emotions: joy, sadness, anger, and fear"
   ]
  },
  {
   "cell_type": "code",
   "execution_count": 13,
   "metadata": {},
   "outputs": [],
   "source": [
    "twitter_df = twitter_df.loc[twitter_df.emotion.isin(['joy','fear','anger','sadness'])]"
   ]
  },
  {
   "cell_type": "markdown",
   "metadata": {},
   "source": [
    "## Preprocessing\n",
    "\n",
    "The following steps will be part of the preprocessing of the data:\n",
    "\n",
    "- remove usernames\n",
    "- remove hashtags (they were used for classification process, this will avoid leakage)\n",
    "- handle emojis\n",
    "- remove characters repeated more than 2 times\n",
    "- removing links to websites\n",
    "- remove html characters\n",
    "- handle contractions\n",
    "- remove numbers\n",
    "- remove punctuation\n",
    "- set to lowercase\n",
    "- lemmatization\n"
   ]
  },
  {
   "cell_type": "code",
   "execution_count": 14,
   "metadata": {},
   "outputs": [],
   "source": [
    "#create new column to have clean text\n",
    "twitter_df['clean_text'] = twitter_df['text']"
   ]
  },
  {
   "cell_type": "code",
   "execution_count": null,
   "metadata": {},
   "outputs": [],
   "source": [
    "#preprocessing text\n",
    "preprocessing_text(twitter_df,'clean_text')"
   ]
  },
  {
   "cell_type": "code",
   "execution_count": null,
   "metadata": {},
   "outputs": [],
   "source": [
    "#saving new data to sql table\n",
    "twitter_df.to_sql(\"preprocessed\", conn, if_exists='replace' , index = False)"
   ]
  },
  {
   "cell_type": "code",
   "execution_count": null,
   "metadata": {},
   "outputs": [],
   "source": [
    "pd.set_option('display.max_colwidth', -1)\n",
    "twitter_df.head()"
   ]
  },
  {
   "cell_type": "markdown",
   "metadata": {},
   "source": [
    "- Will start by subsetting the data to those posts where text length is more than 25 characters, very short texts can end up with a small amount of words or no words at all after preprocessing.\n",
    "- Will apply undersampling to the data to avoid an unbalanced dataset for modeling."
   ]
  },
  {
   "cell_type": "code",
   "execution_count": null,
   "metadata": {},
   "outputs": [],
   "source": [
    "#getting lenght again for preprocessed text\n",
    "twitter_df['len']= twitter_df['clean_text'].apply(lambda x: len(x))"
   ]
  },
  {
   "cell_type": "code",
   "execution_count": null,
   "metadata": {},
   "outputs": [],
   "source": [
    "sns.distplot(twitter_df['len'],\n",
    "            color = 'Red',\n",
    "            kde=False)\n",
    "plt.title(\"Number of Characters in Tweets\")\n",
    "plt.ylabel('Number of tweets')\n",
    "plt.xlabel('Number of Characters',)"
   ]
  },
  {
   "cell_type": "code",
   "execution_count": null,
   "metadata": {
    "scrolled": true
   },
   "outputs": [],
   "source": [
    "twitter_df.sort_values('len', ascending = True).head()"
   ]
  },
  {
   "cell_type": "code",
   "execution_count": null,
   "metadata": {
    "scrolled": true
   },
   "outputs": [],
   "source": [
    "twitter_df.sort_values('len', ascending = False).head()"
   ]
  },
  {
   "cell_type": "code",
   "execution_count": null,
   "metadata": {},
   "outputs": [],
   "source": [
    "# #selecting posts with 25 characters or more\n",
    "twitter_df = twitter_df.loc[twitter_df.len>25]"
   ]
  },
  {
   "cell_type": "code",
   "execution_count": null,
   "metadata": {
    "scrolled": true
   },
   "outputs": [],
   "source": [
    "twitter_df.sort_values('len', ascending = True).head(5)"
   ]
  },
  {
   "cell_type": "code",
   "execution_count": null,
   "metadata": {
    "scrolled": true
   },
   "outputs": [],
   "source": [
    "twitter_df.sort_values('len', ascending = True).tail(5)"
   ]
  },
  {
   "cell_type": "code",
   "execution_count": null,
   "metadata": {},
   "outputs": [],
   "source": [
    "#saving new data to sql table\n",
    "twitter_df.to_sql(\"post_25_len\", conn, if_exists='replace' , index = False)"
   ]
  },
  {
   "cell_type": "code",
   "execution_count": null,
   "metadata": {
    "scrolled": true
   },
   "outputs": [],
   "source": [
    "#Review counts for subsetted data\n",
    "twitter_df.emotion.value_counts()"
   ]
  },
  {
   "cell_type": "markdown",
   "metadata": {},
   "source": [
    "## Undersampling \n",
    "\n",
    "- Will select the emotions fear, anger, joy, and sadness. \n",
    "- fear label has the smallest amount ** (~65k) of records\n",
    "- Will select 80k random records for the other three labels "
   ]
  },
  {
   "cell_type": "code",
   "execution_count": null,
   "metadata": {},
   "outputs": [],
   "source": [
    "fear = pd.read_sql_query(\"\"\"SELECT text, emotion,clean_text  \n",
    "                        FROM post_25_len \n",
    "                        WHERE emotion = 'fear'\n",
    "                        \"\"\", conn)\n",
    "fear.info()"
   ]
  },
  {
   "cell_type": "code",
   "execution_count": null,
   "metadata": {},
   "outputs": [],
   "source": [
    "joy = pd.read_sql_query(\"\"\"SELECT text, emotion,clean_text  \n",
    "                        FROM post_25_len \n",
    "                        WHERE emotion = 'joy'\n",
    "                        ORDER BY RANDOM() LIMIT 80000;\"\"\", conn)\n",
    "joy.info()"
   ]
  },
  {
   "cell_type": "code",
   "execution_count": null,
   "metadata": {},
   "outputs": [],
   "source": [
    "anger = pd.read_sql_query(\"\"\"SELECT text, emotion,clean_text  \n",
    "                        FROM post_25_len  \n",
    "                        WHERE emotion = 'anger'\n",
    "                        ORDER BY RANDOM() LIMIT 80000;\"\"\", conn)\n",
    "anger.info()"
   ]
  },
  {
   "cell_type": "code",
   "execution_count": null,
   "metadata": {},
   "outputs": [],
   "source": [
    "sadness = pd.read_sql_query(\"\"\"SELECT text, emotion,clean_text  \n",
    "                        FROM post_25_len  \n",
    "                        WHERE emotion = 'sadness'\n",
    "                        ORDER BY RANDOM() LIMIT 80000;\"\"\", conn)\n",
    "sadness.info()"
   ]
  },
  {
   "cell_type": "code",
   "execution_count": null,
   "metadata": {},
   "outputs": [],
   "source": [
    "twitter_df = pd.concat([sadness, fear, joy, anger], axis = 0, sort=True)"
   ]
  },
  {
   "cell_type": "code",
   "execution_count": null,
   "metadata": {},
   "outputs": [],
   "source": [
    "twitter_df.info()"
   ]
  },
  {
   "cell_type": "code",
   "execution_count": null,
   "metadata": {
    "scrolled": true
   },
   "outputs": [],
   "source": [
    "#Review counts for subsetted data\n",
    "twitter_df.emotion.value_counts()"
   ]
  },
  {
   "cell_type": "code",
   "execution_count": null,
   "metadata": {},
   "outputs": [],
   "source": [
    "#saving preprocessed data for any future rerun\n",
    "twitter_df.to_sql(\"emotions_preprocessed_sample\", conn, if_exists='replace' , index = False)\n",
    "conn.commit()"
   ]
  },
  {
   "cell_type": "code",
   "execution_count": null,
   "metadata": {},
   "outputs": [],
   "source": [
    "conn.close()"
   ]
  }
 ],
 "metadata": {
  "kernelspec": {
   "display_name": "Python 3",
   "language": "python",
   "name": "python3"
  },
  "language_info": {
   "codemirror_mode": {
    "name": "ipython",
    "version": 3
   },
   "file_extension": ".py",
   "mimetype": "text/x-python",
   "name": "python",
   "nbconvert_exporter": "python",
   "pygments_lexer": "ipython3",
   "version": "3.7.3"
  }
 },
 "nbformat": 4,
 "nbformat_minor": 2
}
